{
  "nbformat": 4,
  "nbformat_minor": 0,
  "metadata": {
    "colab": {
      "name": "AI DL  Chapter 5 CNN Image Classification",
      "provenance": [],
      "collapsed_sections": [],
      "include_colab_link": true
    },
    "kernelspec": {
      "name": "python3",
      "display_name": "Python 3"
    },
    "accelerator": "GPU"
  },
  "cells": [
    {
      "cell_type": "markdown",
      "metadata": {
        "id": "view-in-github",
        "colab_type": "text"
      },
      "source": [
        "<a href=\"https://colab.research.google.com/github/Praxis-QR/DeepLearning/blob/main/AI_DL_Chapter_5_CNN_Image_Classification.ipynb\" target=\"_parent\"><img src=\"https://colab.research.google.com/assets/colab-badge.svg\" alt=\"Open In Colab\"/></a>"
      ]
    },
    {
      "cell_type": "markdown",
      "metadata": {
        "id": "uXeYSEgZ_NWR"
      },
      "source": [
        "![alt text](https://1.bp.blogspot.com/-WAjYIaQofo0/YEB0cQsSGSI/AAAAAAAAkoE/TpQcWBRGtu0N010lmiTS9cFHuGwXB45PQCLcBGAsYHQ/s16000/colabHeader00.png)<br>\n",
        "\n",
        "<hr>\n",
        "\n",
        "[Prithwis Mukerjee](http://www.yantrajaal.com) / [Praxis Business School](http://praxis.ac.in/) / [Book Website](http://aidl4managers.blogspot.com) "
      ]
    },
    {
      "cell_type": "markdown",
      "metadata": {
        "id": "LNZgWiKENCnI"
      },
      "source": [
        "##Build your first Convolutional Neural Network to recognize images <br>\n",
        "please read through this document to follow the code in this notebook <br>\n",
        "https://medium.com/intuitive-deep-learning/build-your-first-convolutional-neural-network-to-recognize-images-84b9c78fe0ce"
      ]
    },
    {
      "cell_type": "markdown",
      "metadata": {
        "id": "sJqjelZ6MPJD"
      },
      "source": [
        "YOU MAY WANT TO USE A GPU TO EXPEDITE PROCESSING"
      ]
    },
    {
      "cell_type": "markdown",
      "metadata": {
        "id": "XDao1wHvNn89"
      },
      "source": [
        "#Data Preprocessing"
      ]
    },
    {
      "cell_type": "code",
      "metadata": {
        "id": "r3HPpevoNAEE",
        "colab": {
          "base_uri": "https://localhost:8080/"
        },
        "outputId": "259396a7-e428-4c15-a1ca-f3fc3ecdba62"
      },
      "source": [
        "#cifar10 dataset - more details at https://www.cs.toronto.edu/~kriz/cifar.html\n",
        "from keras.datasets import cifar10\n",
        "(x_train, y_train), (x_test, y_test) = cifar10.load_data()"
      ],
      "execution_count": 1,
      "outputs": [
        {
          "output_type": "stream",
          "name": "stdout",
          "text": [
            "Downloading data from https://www.cs.toronto.edu/~kriz/cifar-10-python.tar.gz\n",
            "170500096/170498071 [==============================] - 2s 0us/step\n",
            "170508288/170498071 [==============================] - 2s 0us/step\n"
          ]
        }
      ]
    },
    {
      "cell_type": "code",
      "metadata": {
        "id": "OUYntX1oOIfb",
        "colab": {
          "base_uri": "https://localhost:8080/"
        },
        "outputId": "01c00142-1b2c-4491-b0ca-668c8f401049"
      },
      "source": [
        "print('x_train shape:', x_train.shape)\n",
        "print('y_train shape:', y_train.shape)\n",
        "print('x_test shape:', x_test.shape)\n",
        "print('y_test shape:', y_test.shape)"
      ],
      "execution_count": 2,
      "outputs": [
        {
          "output_type": "stream",
          "name": "stdout",
          "text": [
            "x_train shape: (50000, 32, 32, 3)\n",
            "y_train shape: (50000, 1)\n",
            "x_test shape: (10000, 32, 32, 3)\n",
            "y_test shape: (10000, 1)\n"
          ]
        }
      ]
    },
    {
      "cell_type": "code",
      "metadata": {
        "id": "iabK7eSn9gfJ"
      },
      "source": [
        "#print(x_train[0])"
      ],
      "execution_count": null,
      "outputs": []
    },
    {
      "cell_type": "code",
      "metadata": {
        "id": "wnY8BpD2Oase",
        "colab": {
          "base_uri": "https://localhost:8080/"
        },
        "outputId": "529fbc76-d404-45cd-b3c0-81e4aab5a7ea"
      },
      "source": [
        "print(y_train[0])"
      ],
      "execution_count": 3,
      "outputs": [
        {
          "output_type": "stream",
          "name": "stdout",
          "text": [
            "[6]\n"
          ]
        }
      ]
    },
    {
      "cell_type": "code",
      "metadata": {
        "id": "FHZSBEkUOiJF",
        "colab": {
          "base_uri": "https://localhost:8080/",
          "height": 283
        },
        "outputId": "00c7f82e-f28d-452e-a119-87f6f34ae395"
      },
      "source": [
        "import matplotlib.pyplot as plt\n",
        "# see what a random picture really looks like\n",
        "print('The label is:', y_train[123])\n",
        "img = plt.imshow(x_train[123])"
      ],
      "execution_count": 4,
      "outputs": [
        {
          "output_type": "stream",
          "name": "stdout",
          "text": [
            "The label is: [2]\n"
          ]
        },
        {
          "output_type": "display_data",
          "data": {
            "text/plain": [
              "<Figure size 432x288 with 1 Axes>"
            ],
            "image/png": "[encoded data removed]"
          },
          "metadata": {
            "needs_background": "light"
          }
        }
      ]
    },
    {
      "cell_type": "code",
      "metadata": {
        "id": "2V5ExyZVOvgb",
        "colab": {
          "base_uri": "https://localhost:8080/",
          "height": 283
        },
        "outputId": "a4df080d-ab45-4a7a-c4d6-3cba818fd1eb"
      },
      "source": [
        "# see another random picture\n",
        "print('The label is:', y_train[999])\n",
        "img = plt.imshow(x_train[999])"
      ],
      "execution_count": 5,
      "outputs": [
        {
          "output_type": "stream",
          "name": "stdout",
          "text": [
            "The label is: [5]\n"
          ]
        },
        {
          "output_type": "display_data",
          "data": {
            "text/plain": [
              "<Figure size 432x288 with 1 Axes>"
            ],
            "image/png": "[encoded data removed]"
          },
          "metadata": {
            "needs_background": "light"
          }
        }
      ]
    },
    {
      "cell_type": "code",
      "metadata": {
        "id": "e_x2dBWfO_i1"
      },
      "source": [
        "#import keras - code modified by PM on 20 Jul 21\n",
        "# see https://datascience.stackexchange.com/questions/76227/attributeerror-module-tensorflow-python-keras-utils-has-no-attribute-to-cate\n",
        "\n",
        "from tensorflow import keras\n",
        "y_train_one_hot = keras.utils.to_categorical(y_train, 10)\n",
        "y_test_one_hot = keras.utils.to_categorical(y_test, 10)"
      ],
      "execution_count": 6,
      "outputs": []
    },
    {
      "cell_type": "code",
      "metadata": {
        "id": "zuSS2K67PHEj",
        "colab": {
          "base_uri": "https://localhost:8080/"
        },
        "outputId": "bd750af3-1dc0-41a1-81a6-f267895bedc8"
      },
      "source": [
        "print('OneHot label for:',y_train[123], 'is', y_train_one_hot[123])\n",
        "print('OneHot label for:',y_train[999], 'is', y_train_one_hot[999])"
      ],
      "execution_count": 7,
      "outputs": [
        {
          "output_type": "stream",
          "name": "stdout",
          "text": [
            "OneHot label for: [2] is [0. 0. 1. 0. 0. 0. 0. 0. 0. 0.]\n",
            "OneHot label for: [5] is [0. 0. 0. 0. 0. 1. 0. 0. 0. 0.]\n"
          ]
        }
      ]
    },
    {
      "cell_type": "code",
      "metadata": {
        "id": "jMfqPyh6PTYD"
      },
      "source": [
        "x_train = x_train.astype('float32')\n",
        "x_test = x_test.astype('float32')\n",
        "x_train = x_train / 255\n",
        "x_test = x_test / 255"
      ],
      "execution_count": 8,
      "outputs": []
    },
    {
      "cell_type": "markdown",
      "metadata": {
        "id": "Q7x4AC31P0M2"
      },
      "source": [
        "#Build & Train CNN"
      ]
    },
    {
      "cell_type": "code",
      "metadata": {
        "id": "ZFPnQS9bP3xH"
      },
      "source": [
        "from keras.models import Sequential\n",
        "from keras.layers import Dense, Dropout, Flatten, Conv2D, MaxPooling2D"
      ],
      "execution_count": 9,
      "outputs": []
    },
    {
      "cell_type": "code",
      "metadata": {
        "id": "h6KziUC-QJIU",
        "colab": {
          "base_uri": "https://localhost:8080/"
        },
        "outputId": "fd45739e-a834-4dc0-dfb9-e7c445d1f8e1"
      },
      "source": [
        "model = Sequential()\n",
        "model.add(Conv2D(32, (3, 3), activation='relu', padding='same', input_shape=(32,32,3)))\n",
        "model.add(Conv2D(32, (3, 3), activation='relu', padding='same'))\n",
        "model.add(MaxPooling2D(pool_size=(2, 2)))\n",
        "model.add(Dropout(0.25))\n",
        "model.add(Conv2D(64, (3, 3), activation='relu', padding='same'))\n",
        "model.add(Conv2D(64, (3, 3), activation='relu', padding='same'))\n",
        "model.add(MaxPooling2D(pool_size=(2, 2)))\n",
        "model.add(Dropout(0.25))\n",
        "model.add(Flatten())\n",
        "model.add(Dense(512, activation='relu'))\n",
        "model.add(Dropout(0.5))\n",
        "model.add(Dense(10, activation='softmax'))\n",
        "model.summary()"
      ],
      "execution_count": 10,
      "outputs": [
        {
          "output_type": "stream",
          "name": "stdout",
          "text": [
            "Model: \"sequential\"\n",
            "_________________________________________________________________\n",
            " Layer (type)                Output Shape              Param #   \n",
            "=================================================================\n",
            " conv2d (Conv2D)             (None, 32, 32, 32)        896       \n",
            "                                                                 \n",
            " conv2d_1 (Conv2D)           (None, 32, 32, 32)        9248      \n",
            "                                                                 \n",
            " max_pooling2d (MaxPooling2D  (None, 16, 16, 32)       0         \n",
            " )                                                               \n",
            "                                                                 \n",
            " dropout (Dropout)           (None, 16, 16, 32)        0         \n",
            "                                                                 \n",
            " conv2d_2 (Conv2D)           (None, 16, 16, 64)        18496     \n",
            "                                                                 \n",
            " conv2d_3 (Conv2D)           (None, 16, 16, 64)        36928     \n",
            "                                                                 \n",
            " max_pooling2d_1 (MaxPooling  (None, 8, 8, 64)         0         \n",
            " 2D)                                                             \n",
            "                                                                 \n",
            " dropout_1 (Dropout)         (None, 8, 8, 64)          0         \n",
            "                                                                 \n",
            " flatten (Flatten)           (None, 4096)              0         \n",
            "                                                                 \n",
            " dense (Dense)               (None, 512)               2097664   \n",
            "                                                                 \n",
            " dropout_2 (Dropout)         (None, 512)               0         \n",
            "                                                                 \n",
            " dense_1 (Dense)             (None, 10)                5130      \n",
            "                                                                 \n",
            "=================================================================\n",
            "Total params: 2,168,362\n",
            "Trainable params: 2,168,362\n",
            "Non-trainable params: 0\n",
            "_________________________________________________________________\n"
          ]
        }
      ]
    },
    {
      "cell_type": "code",
      "metadata": {
        "id": "tYXXmU_vQ8wl"
      },
      "source": [
        "model.compile(loss='categorical_crossentropy',\n",
        "              optimizer='adam',\n",
        "              metrics=['accuracy'])"
      ],
      "execution_count": 11,
      "outputs": []
    },
    {
      "cell_type": "code",
      "metadata": {
        "id": "dn4f8GoHRGx6",
        "colab": {
          "base_uri": "https://localhost:8080/"
        },
        "outputId": "0fd85391-2bb6-4998-ff58-8a8376a8b46a"
      },
      "source": [
        "from time import time\n",
        "# with a GPU, this will take about 6 secs per epoch\n",
        "# this step takes a long time, anything from 200 - 500 seconds\n",
        "t0 = time()\n",
        "hist = model.fit(x_train, y_train_one_hot, \n",
        "           batch_size=32, epochs=20, \n",
        "           validation_split=0.2)\n",
        "time_taken = time() - t0\n",
        "print(\"Time taken to train model is \", time_taken )"
      ],
      "execution_count": 12,
      "outputs": [
        {
          "output_type": "stream",
          "name": "stdout",
          "text": [
            "Epoch 1/20\n",
            "1250/1250 [==============================] - 20s 6ms/step - loss: 1.6064 - accuracy: 0.4104 - val_loss: 1.2100 - val_accuracy: 0.5648\n",
            "Epoch 2/20\n",
            "1250/1250 [==============================] - 7s 6ms/step - loss: 1.1733 - accuracy: 0.5813 - val_loss: 1.0027 - val_accuracy: 0.6477\n",
            "Epoch 3/20\n",
            "1250/1250 [==============================] - 7s 5ms/step - loss: 1.0090 - accuracy: 0.6421 - val_loss: 0.9228 - val_accuracy: 0.6778\n",
            "Epoch 4/20\n",
            "1250/1250 [==============================] - 7s 5ms/step - loss: 0.9005 - accuracy: 0.6824 - val_loss: 0.8155 - val_accuracy: 0.7142\n",
            "Epoch 5/20\n",
            "1250/1250 [==============================] - 7s 6ms/step - loss: 0.8247 - accuracy: 0.7104 - val_loss: 0.8056 - val_accuracy: 0.7192\n",
            "Epoch 6/20\n",
            "1250/1250 [==============================] - 7s 6ms/step - loss: 0.7638 - accuracy: 0.7330 - val_loss: 0.7903 - val_accuracy: 0.7282\n",
            "Epoch 7/20\n",
            "1250/1250 [==============================] - 7s 6ms/step - loss: 0.7187 - accuracy: 0.7458 - val_loss: 0.7201 - val_accuracy: 0.7520\n",
            "Epoch 8/20\n",
            "1250/1250 [==============================] - 7s 6ms/step - loss: 0.6761 - accuracy: 0.7603 - val_loss: 0.7259 - val_accuracy: 0.7515\n",
            "Epoch 9/20\n",
            "1250/1250 [==============================] - 7s 6ms/step - loss: 0.6369 - accuracy: 0.7745 - val_loss: 0.7076 - val_accuracy: 0.7579\n",
            "Epoch 10/20\n",
            "1250/1250 [==============================] - 7s 5ms/step - loss: 0.6043 - accuracy: 0.7848 - val_loss: 0.7041 - val_accuracy: 0.7593\n",
            "Epoch 11/20\n",
            "1250/1250 [==============================] - 7s 6ms/step - loss: 0.5756 - accuracy: 0.7969 - val_loss: 0.7162 - val_accuracy: 0.7685\n",
            "Epoch 12/20\n",
            "1250/1250 [==============================] - 7s 6ms/step - loss: 0.5465 - accuracy: 0.8068 - val_loss: 0.7022 - val_accuracy: 0.7660\n",
            "Epoch 13/20\n",
            "1250/1250 [==============================] - 7s 6ms/step - loss: 0.5203 - accuracy: 0.8152 - val_loss: 0.6846 - val_accuracy: 0.7708\n",
            "Epoch 14/20\n",
            "1250/1250 [==============================] - 7s 6ms/step - loss: 0.5030 - accuracy: 0.8227 - val_loss: 0.6966 - val_accuracy: 0.7679\n",
            "Epoch 15/20\n",
            "1250/1250 [==============================] - 7s 6ms/step - loss: 0.4845 - accuracy: 0.8281 - val_loss: 0.6904 - val_accuracy: 0.7729\n",
            "Epoch 16/20\n",
            "1250/1250 [==============================] - 7s 6ms/step - loss: 0.4710 - accuracy: 0.8332 - val_loss: 0.7251 - val_accuracy: 0.7610\n",
            "Epoch 17/20\n",
            "1250/1250 [==============================] - 7s 6ms/step - loss: 0.4561 - accuracy: 0.8376 - val_loss: 0.6995 - val_accuracy: 0.7723\n",
            "Epoch 18/20\n",
            "1250/1250 [==============================] - 8s 6ms/step - loss: 0.4430 - accuracy: 0.8447 - val_loss: 0.7076 - val_accuracy: 0.7721\n",
            "Epoch 19/20\n",
            "1250/1250 [==============================] - 7s 6ms/step - loss: 0.4221 - accuracy: 0.8514 - val_loss: 0.7178 - val_accuracy: 0.7709\n",
            "Epoch 20/20\n",
            "1250/1250 [==============================] - 7s 6ms/step - loss: 0.4185 - accuracy: 0.8525 - val_loss: 0.6983 - val_accuracy: 0.7804\n",
            "Time taken to train model is  203.87894678115845\n"
          ]
        }
      ]
    },
    {
      "cell_type": "code",
      "metadata": {
        "colab": {
          "base_uri": "https://localhost:8080/"
        },
        "id": "Qdnn5QPvtmgF",
        "outputId": "bb5e3792-a709-4821-c508-c4fe87b95529"
      },
      "source": [
        "hist.history.keys()"
      ],
      "execution_count": 13,
      "outputs": [
        {
          "output_type": "execute_result",
          "data": {
            "text/plain": [
              "dict_keys(['loss', 'accuracy', 'val_loss', 'val_accuracy'])"
            ]
          },
          "metadata": {},
          "execution_count": 13
        }
      ]
    },
    {
      "cell_type": "markdown",
      "metadata": {
        "id": "azQe_pD_qm05"
      },
      "source": [
        "#Visualise and Evaluate"
      ]
    },
    {
      "cell_type": "code",
      "metadata": {
        "id": "kin85Lq2nBq2",
        "colab": {
          "base_uri": "https://localhost:8080/",
          "height": 350
        },
        "outputId": "5f8d8465-2015-431f-a855-5b608764ebbc"
      },
      "source": [
        "plt.rcParams[\"figure.figsize\"] = (10,5)\n",
        "plt.plot(hist.history['loss'],linestyle='solid')\n",
        "plt.plot(hist.history['val_loss'],linestyle='dashed')\n",
        "plt.title('Model loss')\n",
        "plt.ylabel('Loss')\n",
        "plt.xlabel('Epoch')\n",
        "plt.legend(['Train', 'Val'], loc='upper right')\n",
        "plt.show()"
      ],
      "execution_count": 14,
      "outputs": [
        {
          "output_type": "display_data",
          "data": {
            "text/plain": [
              "<Figure size 720x360 with 1 Axes>"
            ],
            "image/png": "[encoded data removed]"
          },
          "metadata": {
            "needs_background": "light"
          }
        }
      ]
    },
    {
      "cell_type": "code",
      "metadata": {
        "id": "rbNWnzpyqtY2",
        "colab": {
          "base_uri": "https://localhost:8080/",
          "height": 350
        },
        "outputId": "10b1b88a-a1e5-4196-a211-0ee3a283f459"
      },
      "source": [
        "plt.rcParams[\"figure.figsize\"] = (10,5)\n",
        "plt.plot(hist.history['accuracy'],linestyle='solid')\n",
        "plt.plot(hist.history['val_accuracy'],linestyle='dashed')\n",
        "plt.title('Model accuracy')\n",
        "plt.ylabel('Accuracy')\n",
        "plt.xlabel('Epoch')\n",
        "plt.legend(['Train', 'Val'], loc='lower right')\n",
        "plt.show()"
      ],
      "execution_count": 15,
      "outputs": [
        {
          "output_type": "display_data",
          "data": {
            "text/plain": [
              "<Figure size 720x360 with 1 Axes>"
            ],
            "image/png": "[encoded data removed]"
          },
          "metadata": {
            "needs_background": "light"
          }
        }
      ]
    },
    {
      "cell_type": "code",
      "metadata": {
        "id": "LmxksgitrMXL",
        "colab": {
          "base_uri": "https://localhost:8080/"
        },
        "outputId": "3fe8ff2d-32e2-4f7b-bb67-79f85d88db6d"
      },
      "source": [
        "#model.evaluate(x_test, y_test_one_hot)[1]\n",
        "model.evaluate(x_test, y_test_one_hot)"
      ],
      "execution_count": null,
      "outputs": [
        {
          "output_type": "stream",
          "text": [
            "313/313 [==============================] - 1s 3ms/step - loss: 0.7616 - accuracy: 0.7536\n"
          ],
          "name": "stdout"
        },
        {
          "output_type": "execute_result",
          "data": {
            "text/plain": [
              "[0.7615578770637512, 0.753600001335144]"
            ]
          },
          "metadata": {
            "tags": []
          },
          "execution_count": 16
        }
      ]
    },
    {
      "cell_type": "markdown",
      "metadata": {
        "id": "WMy6ZPxhoFLL"
      },
      "source": [
        "#Save and Reload Model"
      ]
    },
    {
      "cell_type": "code",
      "metadata": {
        "id": "356sabIJoZAV"
      },
      "source": [
        "from keras.models import model_from_json\n",
        "from keras.models import load_model"
      ],
      "execution_count": 18,
      "outputs": []
    },
    {
      "cell_type": "code",
      "metadata": {
        "id": "dAFVdKsIoIbA",
        "colab": {
          "base_uri": "https://localhost:8080/"
        },
        "outputId": "33ccddbb-deaf-4803-e88f-9313707b8f42"
      },
      "source": [
        "# serialize model to JSON\n",
        "model_json = model.to_json()\n",
        "with open(\"AIDLCNNDemo.json\", \"w\") as json_file:\n",
        "    json_file.write(model_json)\n",
        "# serialize weights to HDF5\n",
        "model.save_weights(\"AIDLCNNDemo.h5\")\n",
        "print(\"Saved model to disk\")"
      ],
      "execution_count": 16,
      "outputs": [
        {
          "output_type": "stream",
          "name": "stdout",
          "text": [
            "Saved model to disk\n"
          ]
        }
      ]
    },
    {
      "cell_type": "code",
      "metadata": {
        "id": "29jcoMYmBSPP",
        "colab": {
          "base_uri": "https://localhost:8080/"
        },
        "outputId": "42cc2d6d-762e-4a8f-a692-b00bddd99a76"
      },
      "source": [
        "#Download Prebuilt Models from author's GDrive / Github\n",
        "#\n",
        "#Uncomment the next two lines by removing the # from the first position\n",
        "#\n",
        "#!gdown https://drive.google.com/uc?id=15_vbIyWFavTvzCyWqO1KwxvJhNuK2TnF\n",
        "#!gdown https://drive.google.com/uc?id=1GLkReI8G9GPmmGelyu77H5_WEDXf-Q6-\n",
        "#!wget -O AIDLCNNDemo.h5 https://github.com/Praxis-QR/DeepLearning/blob/main/models/AIDLCNNDemo.h5?raw=true\n",
        "#!wget https://raw.githubusercontent.com/Praxis-QR/DeepLearning/main/models/AIDLCNNDemo.json"
      ],
      "execution_count": 27,
      "outputs": [
        {
          "output_type": "stream",
          "name": "stdout",
          "text": [
            "--2022-08-29 11:35:59--  https://github.com/Praxis-QR/DeepLearning/blob/main/models/AIDLCNNDemo.h5?raw=true\n",
            "Resolving github.com (github.com)... 140.82.112.3\n",
            "Connecting to github.com (github.com)|140.82.112.3|:443... connected.\n",
            "HTTP request sent, awaiting response... 302 Found\n",
            "Location: https://github.com/Praxis-QR/DeepLearning/raw/main/models/AIDLCNNDemo.h5 [following]\n",
            "--2022-08-29 11:35:59--  https://github.com/Praxis-QR/DeepLearning/raw/main/models/AIDLCNNDemo.h5\n",
            "Reusing existing connection to github.com:443.\n",
            "HTTP request sent, awaiting response... 302 Found\n",
            "Location: https://raw.githubusercontent.com/Praxis-QR/DeepLearning/main/models/AIDLCNNDemo.h5 [following]\n",
            "--2022-08-29 11:35:59--  https://raw.githubusercontent.com/Praxis-QR/DeepLearning/main/models/AIDLCNNDemo.h5\n",
            "Resolving raw.githubusercontent.com (raw.githubusercontent.com)... 185.199.108.133, 185.199.109.133, 185.199.110.133, ...\n",
            "Connecting to raw.githubusercontent.com (raw.githubusercontent.com)|185.199.108.133|:443... connected.\n",
            "HTTP request sent, awaiting response... 200 OK\n",
            "Length: 8702544 (8.3M) [application/octet-stream]\n",
            "Saving to: ‘AIDLCNNDemo.h5’\n",
            "\n",
            "AIDLCNNDemo.h5      100%[===================>]   8.30M  --.-KB/s    in 0.09s   \n",
            "\n",
            "2022-08-29 11:36:00 (89.7 MB/s) - ‘AIDLCNNDemo.h5’ saved [8702544/8702544]\n",
            "\n",
            "--2022-08-29 11:36:00--  https://raw.githubusercontent.com/Praxis-QR/DeepLearning/main/models/AIDLCNNDemo.json\n",
            "Resolving raw.githubusercontent.com (raw.githubusercontent.com)... 185.199.108.133, 185.199.109.133, 185.199.110.133, ...\n",
            "Connecting to raw.githubusercontent.com (raw.githubusercontent.com)|185.199.108.133|:443... connected.\n",
            "HTTP request sent, awaiting response... 200 OK\n",
            "Length: 4381 (4.3K) [text/plain]\n",
            "Saving to: ‘AIDLCNNDemo.json’\n",
            "\n",
            "AIDLCNNDemo.json    100%[===================>]   4.28K  --.-KB/s    in 0s      \n",
            "\n",
            "2022-08-29 11:36:00 (65.5 MB/s) - ‘AIDLCNNDemo.json’ saved [4381/4381]\n",
            "\n"
          ]
        }
      ]
    },
    {
      "cell_type": "code",
      "metadata": {
        "id": "Nzmc6VicsZPL",
        "colab": {
          "base_uri": "https://localhost:8080/"
        },
        "outputId": "df94c346-d915-4fd9-92bf-ac161a41be13"
      },
      "source": [
        "# load json and create model\n",
        "json_file = open('AIDLCNNDemo.json', 'r')\n",
        "loaded_model_json = json_file.read()\n",
        "json_file.close()\n",
        "loaded_model = model_from_json(loaded_model_json)\n",
        "# load weights into new model\n",
        "loaded_model.load_weights(\"AIDLCNNDemo.h5\")\n",
        "print(\"Loaded model from disk\")"
      ],
      "execution_count": 28,
      "outputs": [
        {
          "output_type": "stream",
          "name": "stdout",
          "text": [
            "Loaded model from disk\n"
          ]
        }
      ]
    },
    {
      "cell_type": "code",
      "metadata": {
        "id": "J-RTT6Edt55v"
      },
      "source": [
        "loaded_model.compile(loss='categorical_crossentropy',\n",
        "              optimizer='adam',\n",
        "              metrics=['accuracy'])"
      ],
      "execution_count": 29,
      "outputs": []
    },
    {
      "cell_type": "code",
      "metadata": {
        "id": "zQpYYQMitqMh",
        "colab": {
          "base_uri": "https://localhost:8080/"
        },
        "outputId": "f3ed4115-0299-4dd2-e46b-84a4cdd74082"
      },
      "source": [
        "loaded_model.evaluate(x_test, y_test_one_hot)[1]"
      ],
      "execution_count": 30,
      "outputs": [
        {
          "output_type": "stream",
          "name": "stdout",
          "text": [
            "313/313 [==============================] - 1s 4ms/step - loss: 0.7205 - accuracy: 0.7694\n"
          ]
        },
        {
          "output_type": "execute_result",
          "data": {
            "text/plain": [
              "0.7694000005722046"
            ]
          },
          "metadata": {},
          "execution_count": 30
        }
      ]
    },
    {
      "cell_type": "markdown",
      "metadata": {
        "id": "jwDFd9pnudOW"
      },
      "source": [
        "#Prediction"
      ]
    },
    {
      "cell_type": "code",
      "metadata": {
        "id": "zS2kkQrhu1qv"
      },
      "source": [
        "import numpy as np"
      ],
      "execution_count": 22,
      "outputs": []
    },
    {
      "cell_type": "code",
      "metadata": {
        "colab": {
          "base_uri": "https://localhost:8080/"
        },
        "id": "N4SFQjrx0mp5",
        "outputId": "ee03819d-a20d-4141-ffdd-66b588538454"
      },
      "source": [
        "print('The one hot label is:', y_train_one_hot[123])\n",
        "print('The one hot label is:', y_train_one_hot[999])"
      ],
      "execution_count": 23,
      "outputs": [
        {
          "output_type": "stream",
          "name": "stdout",
          "text": [
            "The one hot label is: [0. 0. 1. 0. 0. 0. 0. 0. 0. 0.]\n",
            "The one hot label is: [0. 0. 0. 0. 0. 1. 0. 0. 0. 0.]\n"
          ]
        }
      ]
    },
    {
      "cell_type": "code",
      "metadata": {
        "id": "sIamJ0xkufWk",
        "colab": {
          "base_uri": "https://localhost:8080/"
        },
        "outputId": "c7fe1902-3dbe-4dd8-d049-e754cc023ae4"
      },
      "source": [
        "k1 = x_train[123]\n",
        "q = loaded_model.predict(np.array([k1,]))\n",
        "print(np.round_(q))\n",
        "# only the 3rd element is non Zero, predicted labes is 6"
      ],
      "execution_count": 24,
      "outputs": [
        {
          "output_type": "stream",
          "name": "stdout",
          "text": [
            "[[0. 0. 1. 0. 0. 0. 0. 0. 0. 0.]]\n"
          ]
        }
      ]
    },
    {
      "cell_type": "code",
      "metadata": {
        "id": "w9jutUIZvPGV",
        "colab": {
          "base_uri": "https://localhost:8080/"
        },
        "outputId": "713acfb7-b66d-4eb8-99e6-2bfa3c4663f3"
      },
      "source": [
        "k1 = x_train[999]\n",
        "q = model.predict(np.array([k1,]))\n",
        "print(np.round_(q))"
      ],
      "execution_count": 25,
      "outputs": [
        {
          "output_type": "stream",
          "name": "stdout",
          "text": [
            "[[0. 0. 0. 0. 0. 1. 0. 0. 0. 0.]]\n"
          ]
        }
      ]
    },
    {
      "cell_type": "code",
      "metadata": {
        "id": "lEOKF1bvwQhb",
        "colab": {
          "base_uri": "https://localhost:8080/"
        },
        "outputId": "60d25d34-1877-476d-82c2-024db8c2f9e7"
      },
      "source": [
        "K = x_train[0:2,]\n",
        "P = model.predict(K)\n",
        "np.round_(P)"
      ],
      "execution_count": 26,
      "outputs": [
        {
          "output_type": "execute_result",
          "data": {
            "text/plain": [
              "array([[0., 0., 0., 0., 0., 0., 1., 0., 0., 0.],\n",
              "       [0., 0., 0., 0., 0., 0., 0., 0., 0., 1.]], dtype=float32)"
            ]
          },
          "metadata": {},
          "execution_count": 26
        }
      ]
    },
    {
      "cell_type": "markdown",
      "source": [
        "#Last Execution"
      ],
      "metadata": {
        "id": "ZlmihHTlY7sU"
      }
    },
    {
      "cell_type": "code",
      "source": [
        "!date"
      ],
      "metadata": {
        "id": "OW66fYnSY-Sl",
        "outputId": "c1d465a7-b0c7-48e4-ce94-40aa4c32b1aa",
        "colab": {
          "base_uri": "https://localhost:8080/"
        }
      },
      "execution_count": 31,
      "outputs": [
        {
          "output_type": "stream",
          "name": "stdout",
          "text": [
            "Mon Aug 29 11:37:00 UTC 2022\n"
          ]
        }
      ]
    },
    {
      "cell_type": "markdown",
      "metadata": {
        "id": "2NkrsP5mwBF-"
      },
      "source": [
        "#Chronobooks <br>\n",
        "![alt text](https://1.bp.blogspot.com/-lTiYBkU2qbU/X1er__fvnkI/AAAAAAAAjtE/GhDR3OEGJr4NG43fZPodrQD5kbxtnKebgCLcBGAsYHQ/s600/Footer2020-600x200.png)<hr>\n",
        "Chronotantra and Chronoyantra are two science fiction novels that explore the collapse of human civilisation on Earth and then its rebirth and reincarnation both on Earth as well as on the distant worlds of Mars, Titan and Enceladus. But is it the human civilisation that is being reborn? Or is it some other sentience that is revealing itself. \n",
        "If you have an interest in AI and found this material useful, you may consider buying these novels, in paperback or kindle, from [http://bit.ly/chronobooks](http://bit.ly/chronobooks)"
      ]
    },
    {
      "cell_type": "markdown",
      "metadata": {
        "id": "QvPzoTpOd61i"
      },
      "source": [
        "![CC-BY-SA](https://licensebuttons.net/l/by-sa/3.0/88x31.png) The contents of this website are released under creative commons "
      ]
    }
  ]
}