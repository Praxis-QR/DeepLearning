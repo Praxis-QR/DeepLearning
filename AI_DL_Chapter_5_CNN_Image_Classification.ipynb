{
  "nbformat": 4,
  "nbformat_minor": 0,
  "metadata": {
    "colab": {
      "name": "AI DL  Chapter 5 CNN Image Classification",
      "provenance": [],
      "collapsed_sections": [],
      "include_colab_link": true
    },
    "kernelspec": {
      "name": "python3",
      "display_name": "Python 3"
    },
    "accelerator": "GPU"
  },
  "cells": [
    {
      "cell_type": "markdown",
      "metadata": {
        "id": "view-in-github",
        "colab_type": "text"
      },
      "source": [
        "<a href=\"https://colab.research.google.com/github/Praxis-QR/DeepLearning/blob/main/AI_DL_Chapter_5_CNN_Image_Classification.ipynb\" target=\"_parent\"><img src=\"https://colab.research.google.com/assets/colab-badge.svg\" alt=\"Open In Colab\"/></a>"
      ]
    },
    {
      "cell_type": "markdown",
      "metadata": {
        "id": "uXeYSEgZ_NWR"
      },
      "source": [
        "![alt text](https://1.bp.blogspot.com/-WAjYIaQofo0/YEB0cQsSGSI/AAAAAAAAkoE/TpQcWBRGtu0N010lmiTS9cFHuGwXB45PQCLcBGAsYHQ/s16000/colabHeader00.png)<br>\n",
        "\n",
        "<hr>\n",
        "\n",
        "[Prithwis Mukerjee](http://www.yantrajaal.com) / [Praxis Business School](http://praxis.ac.in/) / [Book Website](http://aidl4managers.blogspot.com) "
      ]
    },
    {
      "cell_type": "markdown",
      "metadata": {
        "id": "LNZgWiKENCnI"
      },
      "source": [
        "##Build your first Convolutional Neural Network to recognize images <br>\n",
        "please read through this document to follow the code in this notebook <br>\n",
        "https://medium.com/intuitive-deep-learning/build-your-first-convolutional-neural-network-to-recognize-images-84b9c78fe0ce"
      ]
    },
    {
      "cell_type": "markdown",
      "metadata": {
        "id": "sJqjelZ6MPJD"
      },
      "source": [
        "YOU MAY WANT TO USE A GPU TO EXPEDITE PROCESSING"
      ]
    },
    {
      "cell_type": "markdown",
      "metadata": {
        "id": "XDao1wHvNn89"
      },
      "source": [
        "#Data Preprocessing"
      ]
    },
    {
      "cell_type": "code",
      "metadata": {
        "id": "r3HPpevoNAEE",
        "colab": {
          "base_uri": "https://localhost:8080/"
        },
        "outputId": "bbf3b5a2-8e82-4aca-d989-c917e393ab03"
      },
      "source": [
        "#cifar10 dataset - more details at https://www.cs.toronto.edu/~kriz/cifar.html\n",
        "from keras.datasets import cifar10\n",
        "(x_train, y_train), (x_test, y_test) = cifar10.load_data()"
      ],
      "execution_count": 1,
      "outputs": [
        {
          "output_type": "stream",
          "name": "stdout",
          "text": [
            "Downloading data from https://www.cs.toronto.edu/~kriz/cifar-10-python.tar.gz\n",
            "170500096/170498071 [==============================] - 2s 0us/step\n",
            "170508288/170498071 [==============================] - 2s 0us/step\n"
          ]
        }
      ]
    },
    {
      "cell_type": "code",
      "metadata": {
        "id": "OUYntX1oOIfb",
        "colab": {
          "base_uri": "https://localhost:8080/"
        },
        "outputId": "7a9ec751-4212-4524-efdd-7dc71f51a486"
      },
      "source": [
        "print('x_train shape:', x_train.shape)\n",
        "print('y_train shape:', y_train.shape)\n",
        "print('x_test shape:', x_test.shape)\n",
        "print('y_test shape:', y_test.shape)"
      ],
      "execution_count": 2,
      "outputs": [
        {
          "output_type": "stream",
          "name": "stdout",
          "text": [
            "x_train shape: (50000, 32, 32, 3)\n",
            "y_train shape: (50000, 1)\n",
            "x_test shape: (10000, 32, 32, 3)\n",
            "y_test shape: (10000, 1)\n"
          ]
        }
      ]
    },
    {
      "cell_type": "code",
      "metadata": {
        "id": "iabK7eSn9gfJ"
      },
      "source": [
        "#print(x_train[0])"
      ],
      "execution_count": null,
      "outputs": []
    },
    {
      "cell_type": "code",
      "metadata": {
        "id": "wnY8BpD2Oase",
        "colab": {
          "base_uri": "https://localhost:8080/"
        },
        "outputId": "4f6cd51d-452b-4583-9f5d-ea949fdc0626"
      },
      "source": [
        "print(y_train[0])"
      ],
      "execution_count": 3,
      "outputs": [
        {
          "output_type": "stream",
          "name": "stdout",
          "text": [
            "[6]\n"
          ]
        }
      ]
    },
    {
      "cell_type": "code",
      "metadata": {
        "id": "FHZSBEkUOiJF",
        "colab": {
          "base_uri": "https://localhost:8080/",
          "height": 283
        },
        "outputId": "6478a593-be14-40ad-841e-ddd09a63a208"
      },
      "source": [
        "import matplotlib.pyplot as plt\n",
        "# see what a random picture really looks like\n",
        "print('The label is:', y_train[123])\n",
        "img = plt.imshow(x_train[123])"
      ],
      "execution_count": 4,
      "outputs": [
        {
          "output_type": "stream",
          "name": "stdout",
          "text": [
            "The label is: [2]\n"
          ]
        },
        {
          "output_type": "display_data",
          "data": {
            "image/png": "[encoded data removed]",
            "text/plain": [
              "<Figure size 432x288 with 1 Axes>"
            ]
          },
          "metadata": {
            "needs_background": "light"
          }
        }
      ]
    },
    {
      "cell_type": "code",
      "metadata": {
        "id": "2V5ExyZVOvgb",
        "colab": {
          "base_uri": "https://localhost:8080/",
          "height": 283
        },
        "outputId": "01f7ce8c-1e98-4d31-a07f-c3fbc4239d57"
      },
      "source": [
        "# see another random picture\n",
        "print('The label is:', y_train[999])\n",
        "img = plt.imshow(x_train[999])"
      ],
      "execution_count": 5,
      "outputs": [
        {
          "output_type": "stream",
          "name": "stdout",
          "text": [
            "The label is: [5]\n"
          ]
        },
        {
          "output_type": "display_data",
          "data": {
            "image/png": "[encoded data removed]",
            "text/plain": [
              "<Figure size 432x288 with 1 Axes>"
            ]
          },
          "metadata": {
            "needs_background": "light"
          }
        }
      ]
    },
    {
      "cell_type": "code",
      "metadata": {
        "id": "e_x2dBWfO_i1"
      },
      "source": [
        "#import keras - code modified by PM on 20 Jul 21\n",
        "# see https://datascience.stackexchange.com/questions/76227/attributeerror-module-tensorflow-python-keras-utils-has-no-attribute-to-cate\n",
        "\n",
        "from tensorflow import keras\n",
        "y_train_one_hot = keras.utils.to_categorical(y_train, 10)\n",
        "y_test_one_hot = keras.utils.to_categorical(y_test, 10)"
      ],
      "execution_count": 6,
      "outputs": []
    },
    {
      "cell_type": "code",
      "metadata": {
        "id": "zuSS2K67PHEj",
        "colab": {
          "base_uri": "https://localhost:8080/"
        },
        "outputId": "07381466-02b6-41d4-dde7-3f8cc147363f"
      },
      "source": [
        "print('OneHot label for:',y_train[123], 'is', y_train_one_hot[123])\n",
        "print('OneHot label for:',y_train[999], 'is', y_train_one_hot[999])"
      ],
      "execution_count": 7,
      "outputs": [
        {
          "output_type": "stream",
          "name": "stdout",
          "text": [
            "OneHot label for: [2] is [0. 0. 1. 0. 0. 0. 0. 0. 0. 0.]\n",
            "OneHot label for: [5] is [0. 0. 0. 0. 0. 1. 0. 0. 0. 0.]\n"
          ]
        }
      ]
    },
    {
      "cell_type": "code",
      "metadata": {
        "id": "jMfqPyh6PTYD"
      },
      "source": [
        "x_train = x_train.astype('float32')\n",
        "x_test = x_test.astype('float32')\n",
        "x_train = x_train / 255\n",
        "x_test = x_test / 255"
      ],
      "execution_count": 8,
      "outputs": []
    },
    {
      "cell_type": "markdown",
      "metadata": {
        "id": "Q7x4AC31P0M2"
      },
      "source": [
        "#Build & Train CNN"
      ]
    },
    {
      "cell_type": "code",
      "metadata": {
        "id": "ZFPnQS9bP3xH"
      },
      "source": [
        "from keras.models import Sequential\n",
        "from keras.layers import Dense, Dropout, Flatten, Conv2D, MaxPooling2D"
      ],
      "execution_count": 9,
      "outputs": []
    },
    {
      "cell_type": "code",
      "metadata": {
        "id": "h6KziUC-QJIU",
        "colab": {
          "base_uri": "https://localhost:8080/"
        },
        "outputId": "e682809e-bb09-42ba-cf14-2e681478ae9f"
      },
      "source": [
        "model = Sequential()\n",
        "model.add(Conv2D(32, (3, 3), activation='relu', padding='same', input_shape=(32,32,3)))\n",
        "model.add(Conv2D(32, (3, 3), activation='relu', padding='same'))\n",
        "model.add(MaxPooling2D(pool_size=(2, 2)))\n",
        "model.add(Dropout(0.25))\n",
        "model.add(Conv2D(64, (3, 3), activation='relu', padding='same'))\n",
        "model.add(Conv2D(64, (3, 3), activation='relu', padding='same'))\n",
        "model.add(MaxPooling2D(pool_size=(2, 2)))\n",
        "model.add(Dropout(0.25))\n",
        "model.add(Flatten())\n",
        "model.add(Dense(512, activation='relu'))\n",
        "model.add(Dropout(0.5))\n",
        "model.add(Dense(10, activation='softmax'))\n",
        "model.summary()"
      ],
      "execution_count": 10,
      "outputs": [
        {
          "output_type": "stream",
          "name": "stdout",
          "text": [
            "Model: \"sequential\"\n",
            "_________________________________________________________________\n",
            "Layer (type)                 Output Shape              Param #   \n",
            "=================================================================\n",
            "conv2d (Conv2D)              (None, 32, 32, 32)        896       \n",
            "_________________________________________________________________\n",
            "conv2d_1 (Conv2D)            (None, 32, 32, 32)        9248      \n",
            "_________________________________________________________________\n",
            "max_pooling2d (MaxPooling2D) (None, 16, 16, 32)        0         \n",
            "_________________________________________________________________\n",
            "dropout (Dropout)            (None, 16, 16, 32)        0         \n",
            "_________________________________________________________________\n",
            "conv2d_2 (Conv2D)            (None, 16, 16, 64)        18496     \n",
            "_________________________________________________________________\n",
            "conv2d_3 (Conv2D)            (None, 16, 16, 64)        36928     \n",
            "_________________________________________________________________\n",
            "max_pooling2d_1 (MaxPooling2 (None, 8, 8, 64)          0         \n",
            "_________________________________________________________________\n",
            "dropout_1 (Dropout)          (None, 8, 8, 64)          0         \n",
            "_________________________________________________________________\n",
            "flatten (Flatten)            (None, 4096)              0         \n",
            "_________________________________________________________________\n",
            "dense (Dense)                (None, 512)               2097664   \n",
            "_________________________________________________________________\n",
            "dropout_2 (Dropout)          (None, 512)               0         \n",
            "_________________________________________________________________\n",
            "dense_1 (Dense)              (None, 10)                5130      \n",
            "=================================================================\n",
            "Total params: 2,168,362\n",
            "Trainable params: 2,168,362\n",
            "Non-trainable params: 0\n",
            "_________________________________________________________________\n"
          ]
        }
      ]
    },
    {
      "cell_type": "code",
      "metadata": {
        "id": "tYXXmU_vQ8wl"
      },
      "source": [
        "model.compile(loss='categorical_crossentropy',\n",
        "              optimizer='adam',\n",
        "              metrics=['accuracy'])"
      ],
      "execution_count": 11,
      "outputs": []
    },
    {
      "cell_type": "code",
      "metadata": {
        "id": "dn4f8GoHRGx6",
        "colab": {
          "base_uri": "https://localhost:8080/"
        },
        "outputId": "5cba086d-b758-45e0-9350-5413e56866f9"
      },
      "source": [
        "from time import time\n",
        "# with a GPU, this will take about 6 secs per epoch\n",
        "# this step takes a long time, anything from 200 - 500 seconds\n",
        "t0 = time()\n",
        "hist = model.fit(x_train, y_train_one_hot, \n",
        "           batch_size=32, epochs=20, \n",
        "           validation_split=0.2)\n",
        "time_taken = time() - t0\n",
        "print(\"Time taken to train model is \", time_taken )"
      ],
      "execution_count": 12,
      "outputs": [
        {
          "output_type": "stream",
          "name": "stdout",
          "text": [
            "Epoch 1/20\n",
            "1250/1250 [==============================] - 49s 15ms/step - loss: 1.6006 - accuracy: 0.4142 - val_loss: 1.1875 - val_accuracy: 0.5670\n",
            "Epoch 2/20\n",
            "1250/1250 [==============================] - 17s 14ms/step - loss: 1.1669 - accuracy: 0.5825 - val_loss: 0.9991 - val_accuracy: 0.6465\n",
            "Epoch 3/20\n",
            "1250/1250 [==============================] - 18s 14ms/step - loss: 0.9985 - accuracy: 0.6472 - val_loss: 0.8780 - val_accuracy: 0.6950\n",
            "Epoch 4/20\n",
            "1250/1250 [==============================] - 17s 14ms/step - loss: 0.8975 - accuracy: 0.6803 - val_loss: 0.8125 - val_accuracy: 0.7167\n",
            "Epoch 5/20\n",
            "1250/1250 [==============================] - 18s 15ms/step - loss: 0.8220 - accuracy: 0.7079 - val_loss: 0.7756 - val_accuracy: 0.7250\n",
            "Epoch 6/20\n",
            "1250/1250 [==============================] - 17s 13ms/step - loss: 0.7639 - accuracy: 0.7308 - val_loss: 0.7969 - val_accuracy: 0.7189\n",
            "Epoch 7/20\n",
            "1250/1250 [==============================] - 17s 14ms/step - loss: 0.7134 - accuracy: 0.7484 - val_loss: 0.7065 - val_accuracy: 0.7527\n",
            "Epoch 8/20\n",
            "1250/1250 [==============================] - 19s 15ms/step - loss: 0.6696 - accuracy: 0.7612 - val_loss: 0.7015 - val_accuracy: 0.7584\n",
            "Epoch 9/20\n",
            "1250/1250 [==============================] - 17s 14ms/step - loss: 0.6432 - accuracy: 0.7739 - val_loss: 0.7148 - val_accuracy: 0.7618\n",
            "Epoch 10/20\n",
            "1250/1250 [==============================] - 17s 13ms/step - loss: 0.6029 - accuracy: 0.7867 - val_loss: 0.6882 - val_accuracy: 0.7640\n",
            "Epoch 11/20\n",
            "1250/1250 [==============================] - 18s 14ms/step - loss: 0.5782 - accuracy: 0.7976 - val_loss: 0.6993 - val_accuracy: 0.7614\n",
            "Epoch 12/20\n",
            "1250/1250 [==============================] - 19s 15ms/step - loss: 0.5517 - accuracy: 0.8059 - val_loss: 0.7013 - val_accuracy: 0.7681\n",
            "Epoch 13/20\n",
            "1250/1250 [==============================] - 18s 15ms/step - loss: 0.5235 - accuracy: 0.8149 - val_loss: 0.6794 - val_accuracy: 0.7776\n",
            "Epoch 14/20\n",
            "1250/1250 [==============================] - 18s 15ms/step - loss: 0.5055 - accuracy: 0.8208 - val_loss: 0.7383 - val_accuracy: 0.7581\n",
            "Epoch 15/20\n",
            "1250/1250 [==============================] - 18s 14ms/step - loss: 0.4877 - accuracy: 0.8282 - val_loss: 0.7256 - val_accuracy: 0.7637\n",
            "Epoch 16/20\n",
            "1250/1250 [==============================] - 18s 14ms/step - loss: 0.4719 - accuracy: 0.8324 - val_loss: 0.6862 - val_accuracy: 0.7777\n",
            "Epoch 17/20\n",
            "1250/1250 [==============================] - 18s 14ms/step - loss: 0.4520 - accuracy: 0.8407 - val_loss: 0.6901 - val_accuracy: 0.7835\n",
            "Epoch 18/20\n",
            "1250/1250 [==============================] - 18s 15ms/step - loss: 0.4518 - accuracy: 0.8440 - val_loss: 0.6655 - val_accuracy: 0.7877\n",
            "Epoch 19/20\n",
            "1250/1250 [==============================] - 18s 14ms/step - loss: 0.4331 - accuracy: 0.8451 - val_loss: 0.7125 - val_accuracy: 0.7739\n",
            "Epoch 20/20\n",
            "1250/1250 [==============================] - 17s 14ms/step - loss: 0.4233 - accuracy: 0.8518 - val_loss: 0.7011 - val_accuracy: 0.7806\n",
            "Time taken to train model is  443.54221510887146\n"
          ]
        }
      ]
    },
    {
      "cell_type": "code",
      "metadata": {
        "colab": {
          "base_uri": "https://localhost:8080/"
        },
        "id": "Qdnn5QPvtmgF",
        "outputId": "8e61c184-8e65-4c12-e949-ea7577a42bfe"
      },
      "source": [
        "hist.history.keys()"
      ],
      "execution_count": 13,
      "outputs": [
        {
          "output_type": "execute_result",
          "data": {
            "text/plain": [
              "dict_keys(['loss', 'accuracy', 'val_loss', 'val_accuracy'])"
            ]
          },
          "metadata": {},
          "execution_count": 13
        }
      ]
    },
    {
      "cell_type": "markdown",
      "metadata": {
        "id": "azQe_pD_qm05"
      },
      "source": [
        "#Visualise and Evaluate"
      ]
    },
    {
      "cell_type": "code",
      "metadata": {
        "id": "kin85Lq2nBq2",
        "colab": {
          "base_uri": "https://localhost:8080/",
          "height": 350
        },
        "outputId": "bc0a3fbe-f564-4fe1-d5d0-876e1f706e78"
      },
      "source": [
        "plt.rcParams[\"figure.figsize\"] = (10,5)\n",
        "plt.plot(hist.history['loss'],linestyle='solid')\n",
        "plt.plot(hist.history['val_loss'],linestyle='dashed')\n",
        "plt.title('Model loss')\n",
        "plt.ylabel('Loss')\n",
        "plt.xlabel('Epoch')\n",
        "plt.legend(['Train', 'Val'], loc='upper right')\n",
        "plt.show()"
      ],
      "execution_count": 14,
      "outputs": [
        {
          "output_type": "display_data",
          "data": {
            "image/png": "[encoded data removed]",
            "text/plain": [
              "<Figure size 720x360 with 1 Axes>"
            ]
          },
          "metadata": {
            "needs_background": "light"
          }
        }
      ]
    },
    {
      "cell_type": "code",
      "metadata": {
        "id": "rbNWnzpyqtY2",
        "colab": {
          "base_uri": "https://localhost:8080/",
          "height": 350
        },
        "outputId": "bd05cbd3-99ff-4922-90c8-852573275df8"
      },
      "source": [
        "plt.rcParams[\"figure.figsize\"] = (10,5)\n",
        "plt.plot(hist.history['accuracy'],linestyle='solid')\n",
        "plt.plot(hist.history['val_accuracy'],linestyle='dashed')\n",
        "plt.title('Model accuracy')\n",
        "plt.ylabel('Accuracy')\n",
        "plt.xlabel('Epoch')\n",
        "plt.legend(['Train', 'Val'], loc='lower right')\n",
        "plt.show()"
      ],
      "execution_count": 15,
      "outputs": [
        {
          "output_type": "display_data",
          "data": {
            "image/png": "[encoded data removed]",
            "text/plain": [
              "<Figure size 720x360 with 1 Axes>"
            ]
          },
          "metadata": {
            "needs_background": "light"
          }
        }
      ]
    },
    {
      "cell_type": "code",
      "metadata": {
        "id": "LmxksgitrMXL",
        "colab": {
          "base_uri": "https://localhost:8080/"
        },
        "outputId": "3fe8ff2d-32e2-4f7b-bb67-79f85d88db6d"
      },
      "source": [
        "#model.evaluate(x_test, y_test_one_hot)[1]\n",
        "model.evaluate(x_test, y_test_one_hot)"
      ],
      "execution_count": null,
      "outputs": [
        {
          "output_type": "stream",
          "text": [
            "313/313 [==============================] - 1s 3ms/step - loss: 0.7616 - accuracy: 0.7536\n"
          ],
          "name": "stdout"
        },
        {
          "output_type": "execute_result",
          "data": {
            "text/plain": [
              "[0.7615578770637512, 0.753600001335144]"
            ]
          },
          "metadata": {
            "tags": []
          },
          "execution_count": 16
        }
      ]
    },
    {
      "cell_type": "markdown",
      "metadata": {
        "id": "WMy6ZPxhoFLL"
      },
      "source": [
        "#Save and Reload Model"
      ]
    },
    {
      "cell_type": "code",
      "metadata": {
        "id": "356sabIJoZAV"
      },
      "source": [
        "from keras.models import model_from_json\n",
        "from keras.models import load_model"
      ],
      "execution_count": 16,
      "outputs": []
    },
    {
      "cell_type": "code",
      "metadata": {
        "id": "dAFVdKsIoIbA",
        "colab": {
          "base_uri": "https://localhost:8080/"
        },
        "outputId": "aa30bca3-f8b9-4efb-85eb-5a0f8c8129f8"
      },
      "source": [
        "# serialize model to JSON\n",
        "model_json = model.to_json()\n",
        "with open(\"AIDLCNNDemo.json\", \"w\") as json_file:\n",
        "    json_file.write(model_json)\n",
        "# serialize weights to HDF5\n",
        "model.save_weights(\"AIDLCNNDemo.h5\")\n",
        "print(\"Saved model to disk\")"
      ],
      "execution_count": 17,
      "outputs": [
        {
          "output_type": "stream",
          "name": "stdout",
          "text": [
            "Saved model to disk\n"
          ]
        }
      ]
    },
    {
      "cell_type": "code",
      "metadata": {
        "id": "29jcoMYmBSPP",
        "colab": {
          "base_uri": "https://localhost:8080/"
        },
        "outputId": "f6f370a8-b457-4295-9b03-25fa53090b9e"
      },
      "source": [
        "#Download Prebuilt Models from author's GDrive / Github\n",
        "#\n",
        "#Uncomment the next two lines by removing the # from the first position\n",
        "#\n",
        "#!gdown https://drive.google.com/uc?id=15_vbIyWFavTvzCyWqO1KwxvJhNuK2TnF\n",
        "#!gdown https://drive.google.com/uc?id=1GLkReI8G9GPmmGelyu77H5_WEDXf-Q6-\n",
        "#!wget -O AIDLCNNDemo.h5 https://github.com/Praxis-QR/DeepLearning/blob/main/models/AIDLCNNDemo.h5?raw=true\n",
        "#!wget https://raw.githubusercontent.com/Praxis-QR/DeepLearning/main/models/AIDLCNNDemo.json"
      ],
      "execution_count": 18,
      "outputs": [
        {
          "output_type": "stream",
          "name": "stdout",
          "text": [
            "--2021-10-25 03:07:10--  https://github.com/Praxis-QR/DeepLearning/blob/main/models/AIDLCNNDemo.h5?raw=true\n",
            "Resolving github.com (github.com)... 140.82.114.3\n",
            "Connecting to github.com (github.com)|140.82.114.3|:443... connected.\n",
            "HTTP request sent, awaiting response... 302 Found\n",
            "Location: https://github.com/Praxis-QR/DeepLearning/raw/main/models/AIDLCNNDemo.h5 [following]\n",
            "--2021-10-25 03:07:10--  https://github.com/Praxis-QR/DeepLearning/raw/main/models/AIDLCNNDemo.h5\n",
            "Reusing existing connection to github.com:443.\n",
            "HTTP request sent, awaiting response... 302 Found\n",
            "Location: https://raw.githubusercontent.com/Praxis-QR/DeepLearning/main/models/AIDLCNNDemo.h5 [following]\n",
            "--2021-10-25 03:07:10--  https://raw.githubusercontent.com/Praxis-QR/DeepLearning/main/models/AIDLCNNDemo.h5\n",
            "Resolving raw.githubusercontent.com (raw.githubusercontent.com)... 185.199.108.133, 185.199.111.133, 185.199.109.133, ...\n",
            "Connecting to raw.githubusercontent.com (raw.githubusercontent.com)|185.199.108.133|:443... connected.\n",
            "HTTP request sent, awaiting response... 200 OK\n",
            "Length: 8702544 (8.3M) [application/octet-stream]\n",
            "Saving to: ‘AIDLCNNDemo.h5’\n",
            "\n",
            "AIDLCNNDemo.h5      100%[===================>]   8.30M  --.-KB/s    in 0.09s   \n",
            "\n",
            "2021-10-25 03:07:10 (91.1 MB/s) - ‘AIDLCNNDemo.h5’ saved [8702544/8702544]\n",
            "\n",
            "--2021-10-25 03:07:11--  https://raw.githubusercontent.com/Praxis-QR/DeepLearning/main/models/AIDLCNNDemo.json\n",
            "Resolving raw.githubusercontent.com (raw.githubusercontent.com)... 185.199.108.133, 185.199.109.133, 185.199.110.133, ...\n",
            "Connecting to raw.githubusercontent.com (raw.githubusercontent.com)|185.199.108.133|:443... connected.\n",
            "HTTP request sent, awaiting response... 200 OK\n",
            "Length: 4381 (4.3K) [text/plain]\n",
            "Saving to: ‘AIDLCNNDemo.json’\n",
            "\n",
            "AIDLCNNDemo.json    100%[===================>]   4.28K  --.-KB/s    in 0s      \n",
            "\n",
            "2021-10-25 03:07:11 (51.1 MB/s) - ‘AIDLCNNDemo.json’ saved [4381/4381]\n",
            "\n"
          ]
        }
      ]
    },
    {
      "cell_type": "code",
      "metadata": {
        "id": "Nzmc6VicsZPL",
        "colab": {
          "base_uri": "https://localhost:8080/"
        },
        "outputId": "82445891-c187-43e6-ddd1-327d4f9d05ef"
      },
      "source": [
        "# load json and create model\n",
        "json_file = open('AIDLCNNDemo.json', 'r')\n",
        "loaded_model_json = json_file.read()\n",
        "json_file.close()\n",
        "loaded_model = model_from_json(loaded_model_json)\n",
        "# load weights into new model\n",
        "loaded_model.load_weights(\"AIDLCNNDemo.h5\")\n",
        "print(\"Loaded model from disk\")"
      ],
      "execution_count": 19,
      "outputs": [
        {
          "output_type": "stream",
          "name": "stdout",
          "text": [
            "Loaded model from disk\n"
          ]
        }
      ]
    },
    {
      "cell_type": "code",
      "metadata": {
        "id": "J-RTT6Edt55v"
      },
      "source": [
        "loaded_model.compile(loss='categorical_crossentropy',\n",
        "              optimizer='adam',\n",
        "              metrics=['accuracy'])"
      ],
      "execution_count": 20,
      "outputs": []
    },
    {
      "cell_type": "code",
      "metadata": {
        "id": "zQpYYQMitqMh",
        "colab": {
          "base_uri": "https://localhost:8080/"
        },
        "outputId": "731f0185-f431-43aa-8b42-1188eb590a57"
      },
      "source": [
        "loaded_model.evaluate(x_test, y_test_one_hot)[1]"
      ],
      "execution_count": 21,
      "outputs": [
        {
          "output_type": "stream",
          "name": "stdout",
          "text": [
            "313/313 [==============================] - 2s 6ms/step - loss: 0.7205 - accuracy: 0.7694\n"
          ]
        },
        {
          "output_type": "execute_result",
          "data": {
            "text/plain": [
              "0.7694000005722046"
            ]
          },
          "metadata": {},
          "execution_count": 21
        }
      ]
    },
    {
      "cell_type": "markdown",
      "metadata": {
        "id": "jwDFd9pnudOW"
      },
      "source": [
        "#Prediction"
      ]
    },
    {
      "cell_type": "code",
      "metadata": {
        "id": "zS2kkQrhu1qv"
      },
      "source": [
        "import numpy as np"
      ],
      "execution_count": 22,
      "outputs": []
    },
    {
      "cell_type": "code",
      "metadata": {
        "colab": {
          "base_uri": "https://localhost:8080/"
        },
        "id": "N4SFQjrx0mp5",
        "outputId": "c433aa09-946b-40e0-b4e7-3edb73e7751e"
      },
      "source": [
        "print('The one hot label is:', y_train_one_hot[123])\n",
        "print('The one hot label is:', y_train_one_hot[999])"
      ],
      "execution_count": 23,
      "outputs": [
        {
          "output_type": "stream",
          "name": "stdout",
          "text": [
            "The one hot label is: [0. 0. 1. 0. 0. 0. 0. 0. 0. 0.]\n",
            "The one hot label is: [0. 0. 0. 0. 0. 1. 0. 0. 0. 0.]\n"
          ]
        }
      ]
    },
    {
      "cell_type": "code",
      "metadata": {
        "id": "sIamJ0xkufWk",
        "colab": {
          "base_uri": "https://localhost:8080/"
        },
        "outputId": "0635ff36-752c-4a48-88b5-ac88122e50d1"
      },
      "source": [
        "k1 = x_train[123]\n",
        "q = loaded_model.predict(np.array([k1,]))\n",
        "print(np.round_(q))\n",
        "# only the 3rd element is non Zero, predicted labes is 6"
      ],
      "execution_count": 24,
      "outputs": [
        {
          "output_type": "stream",
          "name": "stdout",
          "text": [
            "[[0. 0. 1. 0. 0. 0. 0. 0. 0. 0.]]\n"
          ]
        }
      ]
    },
    {
      "cell_type": "code",
      "metadata": {
        "id": "w9jutUIZvPGV",
        "colab": {
          "base_uri": "https://localhost:8080/"
        },
        "outputId": "6cfaec95-a581-4068-a503-21c2f08fcc04"
      },
      "source": [
        "k1 = x_train[999]\n",
        "q = model.predict(np.array([k1,]))\n",
        "print(np.round_(q))"
      ],
      "execution_count": 25,
      "outputs": [
        {
          "output_type": "stream",
          "name": "stdout",
          "text": [
            "[[0. 0. 0. 0. 0. 1. 0. 0. 0. 0.]]\n"
          ]
        }
      ]
    },
    {
      "cell_type": "code",
      "metadata": {
        "id": "lEOKF1bvwQhb",
        "colab": {
          "base_uri": "https://localhost:8080/"
        },
        "outputId": "184c7104-0b3c-48a2-d6f3-63c39e11c178"
      },
      "source": [
        "K = x_train[0:2,]\n",
        "P = model.predict(K)\n",
        "np.round_(P)"
      ],
      "execution_count": 26,
      "outputs": [
        {
          "output_type": "execute_result",
          "data": {
            "text/plain": [
              "array([[0., 0., 0., 0., 0., 0., 0., 0., 0., 0.],\n",
              "       [0., 0., 0., 0., 0., 0., 0., 0., 0., 1.]], dtype=float32)"
            ]
          },
          "metadata": {},
          "execution_count": 26
        }
      ]
    },
    {
      "cell_type": "markdown",
      "metadata": {
        "id": "2NkrsP5mwBF-"
      },
      "source": [
        "#Chronobooks <br>\n",
        "![alt text](https://1.bp.blogspot.com/-lTiYBkU2qbU/X1er__fvnkI/AAAAAAAAjtE/GhDR3OEGJr4NG43fZPodrQD5kbxtnKebgCLcBGAsYHQ/s600/Footer2020-600x200.png)<hr>\n",
        "Chronotantra and Chronoyantra are two science fiction novels that explore the collapse of human civilisation on Earth and then its rebirth and reincarnation both on Earth as well as on the distant worlds of Mars, Titan and Enceladus. But is it the human civilisation that is being reborn? Or is it some other sentience that is revealing itself. \n",
        "If you have an interest in AI and found this material useful, you may consider buying these novels, in paperback or kindle, from [http://bit.ly/chronobooks](http://bit.ly/chronobooks)"
      ]
    },
    {
      "cell_type": "markdown",
      "metadata": {
        "id": "QvPzoTpOd61i"
      },
      "source": [
        "![CC-BY-SA](https://licensebuttons.net/l/by-sa/3.0/88x31.png) The contents of this website are released under creative commons "
      ]
    }
  ]
}