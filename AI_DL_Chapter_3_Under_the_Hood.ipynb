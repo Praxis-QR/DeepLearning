{
  "nbformat": 4,
  "nbformat_minor": 0,
  "metadata": {
    "colab": {
      "name": "AI DL Chapter 3 - Under the Hood",
      "provenance": [],
      "collapsed_sections": [],
      "include_colab_link": true
    },
    "kernelspec": {
      "name": "python3",
      "display_name": "Python 3"
    }
  },
  "cells": [
    {
      "cell_type": "markdown",
      "metadata": {
        "id": "view-in-github",
        "colab_type": "text"
      },
      "source": [
        "<a href=\"https://colab.research.google.com/github/Praxis-QR/DeepLearning/blob/main/AI_DL_Chapter_3_Under_the_Hood.ipynb\" target=\"_parent\"><img src=\"https://colab.research.google.com/assets/colab-badge.svg\" alt=\"Open In Colab\"/></a>"
      ]
    },
    {
      "cell_type": "markdown",
      "metadata": {
        "id": "2NOhrvHmSArF"
      },
      "source": [
        "![alt text](https://1.bp.blogspot.com/-WAjYIaQofo0/YEB0cQsSGSI/AAAAAAAAkoE/TpQcWBRGtu0N010lmiTS9cFHuGwXB45PQCLcBGAsYHQ/s16000/colabHeader00.png)<br>\n",
        "\n",
        "<hr>\n",
        "\n",
        "[Prithwis Mukerjee](http://www.yantrajaal.com) / [Praxis Business School](http://praxis.ac.in/) / [Book Website](http://aidl4managers.blogspot.com) "
      ]
    },
    {
      "cell_type": "markdown",
      "metadata": {
        "id": "MLBz055asDAy"
      },
      "source": [
        "Base Solultion https://stackoverflow.com/questions/37520849/cant-approximate-simple-multiplication-function-in-neural-network-with-1-hidden <br>\n",
        "Overview of NN https://machinelearningmastery.com/tutorial-first-neural-network-python-keras/"
      ]
    },
    {
      "cell_type": "code",
      "metadata": {
        "id": "4lp8slFeQdT2"
      },
      "source": [
        "import numpy as np\n"
      ],
      "execution_count": 1,
      "outputs": []
    },
    {
      "cell_type": "code",
      "metadata": {
        "id": "1cGlb-afszzy"
      },
      "source": [
        "test=[[.2,.5],[.3,.6],[.4,.7],[.5,.8],[.6,.9]]"
      ],
      "execution_count": 2,
      "outputs": []
    },
    {
      "cell_type": "code",
      "metadata": {
        "colab": {
          "base_uri": "https://localhost:8080/"
        },
        "id": "PvA96Kd1orMp",
        "outputId": "9beecb95-2dfd-48f9-8789-04f1dfa8b6ad"
      },
      "source": [
        "train = np.random.random((10000, 2))\n",
        "results = np.asarray([a * b for a, b in train])\n",
        "train[0:5,:], results[0:5]"
      ],
      "execution_count": 3,
      "outputs": [
        {
          "output_type": "execute_result",
          "data": {
            "text/plain": [
              "(array([[0.33121262, 0.67529016],\n",
              "        [0.67481703, 0.49547644],\n",
              "        [0.88356318, 0.58703341],\n",
              "        [0.27489573, 0.52240322],\n",
              "        [0.91571077, 0.6208719 ]]),\n",
              " array([0.22366462, 0.33435594, 0.51868111, 0.14360641, 0.56853909]))"
            ]
          },
          "metadata": {},
          "execution_count": 3
        }
      ]
    },
    {
      "cell_type": "markdown",
      "metadata": {
        "id": "I-iwKnUpvZCt"
      },
      "source": [
        "#Simple Model model1"
      ]
    },
    {
      "cell_type": "code",
      "metadata": {
        "id": "GyuZ3Wdvy5E6"
      },
      "source": [
        "from keras import layers\n",
        "from keras import models\n",
        "from keras import callbacks"
      ],
      "execution_count": 4,
      "outputs": []
    },
    {
      "cell_type": "code",
      "metadata": {
        "id": "Zy_PnBQgQpev",
        "colab": {
          "base_uri": "https://localhost:8080/"
        },
        "outputId": "1f87cbc4-6ea9-44c3-95bf-f5a60108d812"
      },
      "source": [
        "model1 = models.Sequential()\n",
        "model1.add(layers.Dense(150, activation='relu', input_shape=(2,)))\n",
        "model1.add(layers.Dense(1, activation='relu'))\n",
        "model1.compile(optimizer='sgd', loss='mae')\n",
        "model1.summary()"
      ],
      "execution_count": 5,
      "outputs": [
        {
          "output_type": "stream",
          "name": "stdout",
          "text": [
            "Model: \"sequential\"\n",
            "_________________________________________________________________\n",
            "Layer (type)                 Output Shape              Param #   \n",
            "=================================================================\n",
            "dense (Dense)                (None, 150)               450       \n",
            "_________________________________________________________________\n",
            "dense_1 (Dense)              (None, 1)                 151       \n",
            "=================================================================\n",
            "Total params: 601\n",
            "Trainable params: 601\n",
            "Non-trainable params: 0\n",
            "_________________________________________________________________\n"
          ]
        }
      ]
    },
    {
      "cell_type": "code",
      "metadata": {
        "colab": {
          "base_uri": "https://localhost:8080/"
        },
        "id": "038XCgyDQ0dc",
        "outputId": "8da60df7-d75d-4b43-bf8d-d4f93eced8aa"
      },
      "source": [
        "model1.fit(train, results, epochs=5, batch_size=1)\n",
        "#model1.fit(train, results, epochs=5)"
      ],
      "execution_count": 6,
      "outputs": [
        {
          "output_type": "stream",
          "name": "stdout",
          "text": [
            "Epoch 1/5\n",
            "10000/10000 [==============================] - 9s 902us/step - loss: 0.0279\n",
            "Epoch 2/5\n",
            "10000/10000 [==============================] - 9s 902us/step - loss: 0.0130\n",
            "Epoch 3/5\n",
            "10000/10000 [==============================] - 9s 908us/step - loss: 0.0118\n",
            "Epoch 4/5\n",
            "10000/10000 [==============================] - 9s 923us/step - loss: 0.0113\n",
            "Epoch 5/5\n",
            "10000/10000 [==============================] - 9s 923us/step - loss: 0.0110\n"
          ]
        },
        {
          "output_type": "execute_result",
          "data": {
            "text/plain": [
              "<keras.callbacks.History at 0x7f58324758d0>"
            ]
          },
          "metadata": {},
          "execution_count": 6
        }
      ]
    },
    {
      "cell_type": "code",
      "metadata": {
        "colab": {
          "base_uri": "https://localhost:8080/"
        },
        "id": "c-0tiMuKnd0w",
        "outputId": "6ab40ec6-2c0b-4d4d-f052-08ef22aecbe6"
      },
      "source": [
        "test_result = model1.predict(test)\n",
        "test,test_result"
      ],
      "execution_count": 7,
      "outputs": [
        {
          "output_type": "execute_result",
          "data": {
            "text/plain": [
              "([[0.2, 0.5], [0.3, 0.6], [0.4, 0.7], [0.5, 0.8], [0.6, 0.9]],\n",
              " array([[0.09191382],\n",
              "        [0.16642466],\n",
              "        [0.2581013 ],\n",
              "        [0.3729803 ],\n",
              "        [0.51872003]], dtype=float32))"
            ]
          },
          "metadata": {},
          "execution_count": 7
        }
      ]
    },
    {
      "cell_type": "markdown",
      "metadata": {
        "id": "77I4_yHUvedI"
      },
      "source": [
        "#Better Model : model2"
      ]
    },
    {
      "cell_type": "code",
      "metadata": {
        "colab": {
          "base_uri": "https://localhost:8080/"
        },
        "id": "l4hS7SGyqgTH",
        "outputId": "5defec12-d47d-46c5-eb9b-159856991ff7"
      },
      "source": [
        "model2 = models.Sequential()\n",
        "model2.add(layers.Dense(4096*4, activation='relu', input_shape=(2,)))\n",
        "model2.add(layers.Dense(1, activation='linear'))\n",
        "model2.compile(optimizer='adam', loss='mse')\n",
        "model2.summary()"
      ],
      "execution_count": 8,
      "outputs": [
        {
          "output_type": "stream",
          "name": "stdout",
          "text": [
            "Model: \"sequential_1\"\n",
            "_________________________________________________________________\n",
            "Layer (type)                 Output Shape              Param #   \n",
            "=================================================================\n",
            "dense_2 (Dense)              (None, 16384)             49152     \n",
            "_________________________________________________________________\n",
            "dense_3 (Dense)              (None, 1)                 16385     \n",
            "=================================================================\n",
            "Total params: 65,537\n",
            "Trainable params: 65,537\n",
            "Non-trainable params: 0\n",
            "_________________________________________________________________\n"
          ]
        }
      ]
    },
    {
      "cell_type": "code",
      "metadata": {
        "colab": {
          "base_uri": "https://localhost:8080/"
        },
        "id": "yp8lyiPLrFd_",
        "outputId": "9d0f50eb-eb7a-4aa1-d25c-8b65eb62efa1"
      },
      "source": [
        "model2.fit(train, results, epochs=100, batch_size=512)"
      ],
      "execution_count": 9,
      "outputs": [
        {
          "output_type": "stream",
          "name": "stdout",
          "text": [
            "Epoch 1/100\n",
            "20/20 [==============================] - 1s 54ms/step - loss: 0.0268\n",
            "Epoch 2/100\n",
            "20/20 [==============================] - 1s 52ms/step - loss: 0.0030\n",
            "Epoch 3/100\n",
            "20/20 [==============================] - 1s 52ms/step - loss: 0.0016\n",
            "Epoch 4/100\n",
            "20/20 [==============================] - 1s 52ms/step - loss: 0.0011\n",
            "Epoch 5/100\n",
            "20/20 [==============================] - 1s 52ms/step - loss: 7.5649e-04\n",
            "Epoch 6/100\n",
            "20/20 [==============================] - 1s 51ms/step - loss: 4.8039e-04\n",
            "Epoch 7/100\n",
            "20/20 [==============================] - 1s 50ms/step - loss: 2.9679e-04\n",
            "Epoch 8/100\n",
            "20/20 [==============================] - 1s 52ms/step - loss: 1.7906e-04\n",
            "Epoch 9/100\n",
            "20/20 [==============================] - 1s 50ms/step - loss: 1.1599e-04\n",
            "Epoch 10/100\n",
            "20/20 [==============================] - 1s 54ms/step - loss: 8.3020e-05\n",
            "Epoch 11/100\n",
            "20/20 [==============================] - 1s 52ms/step - loss: 6.3492e-05\n",
            "Epoch 12/100\n",
            "20/20 [==============================] - 1s 51ms/step - loss: 5.1428e-05\n",
            "Epoch 13/100\n",
            "20/20 [==============================] - 1s 53ms/step - loss: 3.9994e-05\n",
            "Epoch 14/100\n",
            "20/20 [==============================] - 1s 50ms/step - loss: 3.2106e-05\n",
            "Epoch 15/100\n",
            "20/20 [==============================] - 1s 52ms/step - loss: 2.6070e-05\n",
            "Epoch 16/100\n",
            "20/20 [==============================] - 1s 50ms/step - loss: 2.1414e-05\n",
            "Epoch 17/100\n",
            "20/20 [==============================] - 1s 52ms/step - loss: 1.7632e-05\n",
            "Epoch 18/100\n",
            "20/20 [==============================] - 1s 50ms/step - loss: 1.4984e-05\n",
            "Epoch 19/100\n",
            "20/20 [==============================] - 1s 51ms/step - loss: 1.2849e-05\n",
            "Epoch 20/100\n",
            "20/20 [==============================] - 1s 53ms/step - loss: 1.1199e-05\n",
            "Epoch 21/100\n",
            "20/20 [==============================] - 1s 50ms/step - loss: 9.6782e-06\n",
            "Epoch 22/100\n",
            "20/20 [==============================] - 1s 53ms/step - loss: 8.6541e-06\n",
            "Epoch 23/100\n",
            "20/20 [==============================] - 1s 52ms/step - loss: 7.8592e-06\n",
            "Epoch 24/100\n",
            "20/20 [==============================] - 1s 52ms/step - loss: 6.8881e-06\n",
            "Epoch 25/100\n",
            "20/20 [==============================] - 1s 50ms/step - loss: 6.0346e-06\n",
            "Epoch 26/100\n",
            "20/20 [==============================] - 1s 51ms/step - loss: 5.3468e-06\n",
            "Epoch 27/100\n",
            "20/20 [==============================] - 1s 51ms/step - loss: 4.8333e-06\n",
            "Epoch 28/100\n",
            "20/20 [==============================] - 1s 52ms/step - loss: 4.4058e-06\n",
            "Epoch 29/100\n",
            "20/20 [==============================] - 1s 52ms/step - loss: 3.9894e-06\n",
            "Epoch 30/100\n",
            "20/20 [==============================] - 1s 52ms/step - loss: 3.7070e-06\n",
            "Epoch 31/100\n",
            "20/20 [==============================] - 1s 53ms/step - loss: 3.5464e-06\n",
            "Epoch 32/100\n",
            "20/20 [==============================] - 1s 52ms/step - loss: 3.1118e-06\n",
            "Epoch 33/100\n",
            "20/20 [==============================] - 1s 53ms/step - loss: 2.8672e-06\n",
            "Epoch 34/100\n",
            "20/20 [==============================] - 1s 50ms/step - loss: 2.9482e-06\n",
            "Epoch 35/100\n",
            "20/20 [==============================] - 1s 52ms/step - loss: 2.5179e-06\n",
            "Epoch 36/100\n",
            "20/20 [==============================] - 1s 51ms/step - loss: 2.5106e-06\n",
            "Epoch 37/100\n",
            "20/20 [==============================] - 1s 53ms/step - loss: 2.2023e-06\n",
            "Epoch 38/100\n",
            "20/20 [==============================] - 1s 52ms/step - loss: 2.0066e-06\n",
            "Epoch 39/100\n",
            "20/20 [==============================] - 1s 51ms/step - loss: 1.8526e-06\n",
            "Epoch 40/100\n",
            "20/20 [==============================] - 1s 51ms/step - loss: 1.7989e-06\n",
            "Epoch 41/100\n",
            "20/20 [==============================] - 1s 53ms/step - loss: 1.6169e-06\n",
            "Epoch 42/100\n",
            "20/20 [==============================] - 1s 50ms/step - loss: 1.6198e-06\n",
            "Epoch 43/100\n",
            "20/20 [==============================] - 1s 51ms/step - loss: 1.4166e-06\n",
            "Epoch 44/100\n",
            "20/20 [==============================] - 1s 51ms/step - loss: 1.3801e-06\n",
            "Epoch 45/100\n",
            "20/20 [==============================] - 1s 51ms/step - loss: 1.3398e-06\n",
            "Epoch 46/100\n",
            "20/20 [==============================] - 1s 52ms/step - loss: 1.2598e-06\n",
            "Epoch 47/100\n",
            "20/20 [==============================] - 1s 54ms/step - loss: 1.1378e-06\n",
            "Epoch 48/100\n",
            "20/20 [==============================] - 1s 52ms/step - loss: 1.1381e-06\n",
            "Epoch 49/100\n",
            "20/20 [==============================] - 1s 52ms/step - loss: 1.1131e-06\n",
            "Epoch 50/100\n",
            "20/20 [==============================] - 1s 53ms/step - loss: 9.6370e-07\n",
            "Epoch 51/100\n",
            "20/20 [==============================] - 1s 53ms/step - loss: 9.1333e-07\n",
            "Epoch 52/100\n",
            "20/20 [==============================] - 1s 52ms/step - loss: 9.0738e-07\n",
            "Epoch 53/100\n",
            "20/20 [==============================] - 1s 51ms/step - loss: 8.1936e-07\n",
            "Epoch 54/100\n",
            "20/20 [==============================] - 1s 50ms/step - loss: 8.0561e-07\n",
            "Epoch 55/100\n",
            "20/20 [==============================] - 1s 53ms/step - loss: 7.5024e-07\n",
            "Epoch 56/100\n",
            "20/20 [==============================] - 1s 52ms/step - loss: 7.1621e-07\n",
            "Epoch 57/100\n",
            "20/20 [==============================] - 1s 53ms/step - loss: 6.6127e-07\n",
            "Epoch 58/100\n",
            "20/20 [==============================] - 1s 52ms/step - loss: 7.0619e-07\n",
            "Epoch 59/100\n",
            "20/20 [==============================] - 1s 51ms/step - loss: 6.1747e-07\n",
            "Epoch 60/100\n",
            "20/20 [==============================] - 1s 52ms/step - loss: 5.7129e-07\n",
            "Epoch 61/100\n",
            "20/20 [==============================] - 1s 53ms/step - loss: 5.5246e-07\n",
            "Epoch 62/100\n",
            "20/20 [==============================] - 1s 52ms/step - loss: 5.7047e-07\n",
            "Epoch 63/100\n",
            "20/20 [==============================] - 1s 52ms/step - loss: 5.2604e-07\n",
            "Epoch 64/100\n",
            "20/20 [==============================] - 1s 52ms/step - loss: 5.0234e-07\n",
            "Epoch 65/100\n",
            "20/20 [==============================] - 1s 51ms/step - loss: 5.1190e-07\n",
            "Epoch 66/100\n",
            "20/20 [==============================] - 1s 52ms/step - loss: 4.8331e-07\n",
            "Epoch 67/100\n",
            "20/20 [==============================] - 1s 52ms/step - loss: 4.4325e-07\n",
            "Epoch 68/100\n",
            "20/20 [==============================] - 1s 53ms/step - loss: 4.2625e-07\n",
            "Epoch 69/100\n",
            "20/20 [==============================] - 1s 54ms/step - loss: 3.9562e-07\n",
            "Epoch 70/100\n",
            "20/20 [==============================] - 1s 53ms/step - loss: 3.9663e-07\n",
            "Epoch 71/100\n",
            "20/20 [==============================] - 1s 54ms/step - loss: 3.8362e-07\n",
            "Epoch 72/100\n",
            "20/20 [==============================] - 1s 53ms/step - loss: 3.7215e-07\n",
            "Epoch 73/100\n",
            "20/20 [==============================] - 1s 53ms/step - loss: 3.5680e-07\n",
            "Epoch 74/100\n",
            "20/20 [==============================] - 1s 50ms/step - loss: 3.6218e-07\n",
            "Epoch 75/100\n",
            "20/20 [==============================] - 1s 52ms/step - loss: 3.2570e-07\n",
            "Epoch 76/100\n",
            "20/20 [==============================] - 1s 52ms/step - loss: 3.0358e-07\n",
            "Epoch 77/100\n",
            "20/20 [==============================] - 1s 52ms/step - loss: 3.0617e-07\n",
            "Epoch 78/100\n",
            "20/20 [==============================] - 1s 52ms/step - loss: 3.0089e-07\n",
            "Epoch 79/100\n",
            "20/20 [==============================] - 1s 55ms/step - loss: 3.0855e-07\n",
            "Epoch 80/100\n",
            "20/20 [==============================] - 1s 52ms/step - loss: 2.7676e-07\n",
            "Epoch 81/100\n",
            "20/20 [==============================] - 1s 54ms/step - loss: 2.5122e-07\n",
            "Epoch 82/100\n",
            "20/20 [==============================] - 1s 51ms/step - loss: 2.5993e-07\n",
            "Epoch 83/100\n",
            "20/20 [==============================] - 1s 54ms/step - loss: 2.4371e-07\n",
            "Epoch 84/100\n",
            "20/20 [==============================] - 1s 53ms/step - loss: 3.2185e-07\n",
            "Epoch 85/100\n",
            "20/20 [==============================] - 1s 52ms/step - loss: 2.9842e-07\n",
            "Epoch 86/100\n",
            "20/20 [==============================] - 1s 54ms/step - loss: 2.4296e-07\n",
            "Epoch 87/100\n",
            "20/20 [==============================] - 1s 53ms/step - loss: 2.4395e-07\n",
            "Epoch 88/100\n",
            "20/20 [==============================] - 1s 53ms/step - loss: 2.1846e-07\n",
            "Epoch 89/100\n",
            "20/20 [==============================] - 1s 54ms/step - loss: 2.1081e-07\n",
            "Epoch 90/100\n",
            "20/20 [==============================] - 1s 54ms/step - loss: 2.2983e-07\n",
            "Epoch 91/100\n",
            "20/20 [==============================] - 1s 53ms/step - loss: 2.0958e-07\n",
            "Epoch 92/100\n",
            "20/20 [==============================] - 1s 53ms/step - loss: 1.9848e-07\n",
            "Epoch 93/100\n",
            "20/20 [==============================] - 1s 52ms/step - loss: 2.0506e-07\n",
            "Epoch 94/100\n",
            "20/20 [==============================] - 1s 53ms/step - loss: 2.3152e-07\n",
            "Epoch 95/100\n",
            "20/20 [==============================] - 1s 53ms/step - loss: 1.7009e-07\n",
            "Epoch 96/100\n",
            "20/20 [==============================] - 1s 53ms/step - loss: 1.6266e-07\n",
            "Epoch 97/100\n",
            "20/20 [==============================] - 1s 52ms/step - loss: 1.7713e-07\n",
            "Epoch 98/100\n",
            "20/20 [==============================] - 1s 52ms/step - loss: 1.7515e-07\n",
            "Epoch 99/100\n",
            "20/20 [==============================] - 1s 53ms/step - loss: 1.9798e-07\n",
            "Epoch 100/100\n",
            "20/20 [==============================] - 1s 52ms/step - loss: 2.1755e-07\n"
          ]
        },
        {
          "output_type": "execute_result",
          "data": {
            "text/plain": [
              "<keras.callbacks.History at 0x7f583239db90>"
            ]
          },
          "metadata": {},
          "execution_count": 9
        }
      ]
    },
    {
      "cell_type": "code",
      "metadata": {
        "colab": {
          "base_uri": "https://localhost:8080/"
        },
        "id": "qEYdQtrXrthE",
        "outputId": "8e9db94f-b2c1-4bc6-e42f-96b578bd1758"
      },
      "source": [
        "test_results_2 = model2.predict(test)\n",
        "test,test_results_2"
      ],
      "execution_count": 10,
      "outputs": [
        {
          "output_type": "execute_result",
          "data": {
            "text/plain": [
              "([[0.2, 0.5], [0.3, 0.6], [0.4, 0.7], [0.5, 0.8], [0.6, 0.9]],\n",
              " array([[0.10022731],\n",
              "        [0.18026012],\n",
              "        [0.28031385],\n",
              "        [0.40050676],\n",
              "        [0.540549  ]], dtype=float32))"
            ]
          },
          "metadata": {},
          "execution_count": 10
        }
      ]
    },
    {
      "cell_type": "code",
      "metadata": {
        "colab": {
          "base_uri": "https://localhost:8080/"
        },
        "id": "JNy-n7IbzRvy",
        "outputId": "f2375508-7f59-4065-afb8-6df6c34ae43e"
      },
      "source": [
        "test_result = model1.predict(test)\n",
        "test,test_result"
      ],
      "execution_count": 11,
      "outputs": [
        {
          "output_type": "execute_result",
          "data": {
            "text/plain": [
              "([[0.2, 0.5], [0.3, 0.6], [0.4, 0.7], [0.5, 0.8], [0.6, 0.9]],\n",
              " array([[0.09191382],\n",
              "        [0.16642466],\n",
              "        [0.2581013 ],\n",
              "        [0.3729803 ],\n",
              "        [0.51872003]], dtype=float32))"
            ]
          },
          "metadata": {},
          "execution_count": 11
        }
      ]
    },
    {
      "cell_type": "code",
      "metadata": {
        "colab": {
          "base_uri": "https://localhost:8080/"
        },
        "id": "6W53HoOusHlG",
        "outputId": "ee204488-1e98-40f2-e65d-a6021da79e1d"
      },
      "source": [
        "from keras import callbacks\n",
        "callbacks = [callbacks.EarlyStopping(patience=6), callbacks.ReduceLROnPlateau()]\n",
        "model2.fit(train, results, epochs=100, batch_size=512, validation_split=0.3, callbacks=callbacks)"
      ],
      "execution_count": 12,
      "outputs": [
        {
          "output_type": "stream",
          "name": "stdout",
          "text": [
            "Epoch 1/100\n",
            "14/14 [==============================] - 1s 69ms/step - loss: 2.1733e-07 - val_loss: 1.3033e-07\n",
            "Epoch 2/100\n",
            "14/14 [==============================] - 1s 60ms/step - loss: 1.6781e-07 - val_loss: 1.5371e-07\n",
            "Epoch 3/100\n",
            "14/14 [==============================] - 1s 60ms/step - loss: 1.4862e-07 - val_loss: 1.2654e-07\n",
            "Epoch 4/100\n",
            "14/14 [==============================] - 1s 59ms/step - loss: 1.3931e-07 - val_loss: 1.3574e-07\n",
            "Epoch 5/100\n",
            "14/14 [==============================] - 1s 61ms/step - loss: 1.8291e-07 - val_loss: 1.7489e-07\n",
            "Epoch 6/100\n",
            "14/14 [==============================] - 1s 60ms/step - loss: 1.9401e-07 - val_loss: 1.6752e-07\n",
            "Epoch 7/100\n",
            "14/14 [==============================] - 1s 59ms/step - loss: 1.6330e-07 - val_loss: 1.6966e-07\n",
            "Epoch 8/100\n",
            "14/14 [==============================] - 1s 61ms/step - loss: 2.1480e-07 - val_loss: 1.9269e-07\n",
            "Epoch 9/100\n",
            "14/14 [==============================] - 1s 60ms/step - loss: 1.7857e-07 - val_loss: 1.1429e-07\n",
            "Epoch 10/100\n",
            "14/14 [==============================] - 1s 59ms/step - loss: 1.3734e-07 - val_loss: 1.1208e-07\n",
            "Epoch 11/100\n",
            "14/14 [==============================] - 1s 61ms/step - loss: 1.2923e-07 - val_loss: 1.0478e-07\n",
            "Epoch 12/100\n",
            "14/14 [==============================] - 1s 62ms/step - loss: 1.0915e-07 - val_loss: 1.0398e-07\n",
            "Epoch 13/100\n",
            "14/14 [==============================] - 1s 60ms/step - loss: 1.0614e-07 - val_loss: 1.0342e-07\n",
            "Epoch 14/100\n",
            "14/14 [==============================] - 1s 62ms/step - loss: 1.0685e-07 - val_loss: 1.0284e-07\n",
            "Epoch 15/100\n",
            "14/14 [==============================] - 1s 59ms/step - loss: 1.0552e-07 - val_loss: 1.0233e-07\n",
            "Epoch 16/100\n",
            "14/14 [==============================] - 1s 60ms/step - loss: 1.0547e-07 - val_loss: 1.0206e-07\n",
            "Epoch 17/100\n",
            "14/14 [==============================] - 1s 60ms/step - loss: 1.0552e-07 - val_loss: 1.0384e-07\n",
            "Epoch 18/100\n",
            "14/14 [==============================] - 1s 60ms/step - loss: 1.0712e-07 - val_loss: 1.0408e-07\n",
            "Epoch 19/100\n",
            "14/14 [==============================] - 1s 60ms/step - loss: 1.0525e-07 - val_loss: 1.0133e-07\n",
            "Epoch 20/100\n",
            "14/14 [==============================] - 1s 59ms/step - loss: 1.0488e-07 - val_loss: 1.0123e-07\n",
            "Epoch 21/100\n",
            "14/14 [==============================] - 1s 60ms/step - loss: 1.0467e-07 - val_loss: 1.0279e-07\n",
            "Epoch 22/100\n",
            "14/14 [==============================] - 1s 60ms/step - loss: 1.0460e-07 - val_loss: 1.0057e-07\n",
            "Epoch 23/100\n",
            "14/14 [==============================] - 1s 60ms/step - loss: 1.0382e-07 - val_loss: 1.0091e-07\n",
            "Epoch 24/100\n",
            "14/14 [==============================] - 1s 59ms/step - loss: 1.0362e-07 - val_loss: 1.0086e-07\n",
            "Epoch 25/100\n",
            "14/14 [==============================] - 1s 58ms/step - loss: 1.0361e-07 - val_loss: 1.0056e-07\n",
            "Epoch 26/100\n",
            "14/14 [==============================] - 1s 60ms/step - loss: 1.0363e-07 - val_loss: 1.0073e-07\n",
            "Epoch 27/100\n",
            "14/14 [==============================] - 1s 58ms/step - loss: 1.0347e-07 - val_loss: 1.0068e-07\n",
            "Epoch 28/100\n",
            "14/14 [==============================] - 1s 59ms/step - loss: 1.0346e-07 - val_loss: 1.0071e-07\n",
            "Epoch 29/100\n",
            "14/14 [==============================] - 1s 61ms/step - loss: 1.0350e-07 - val_loss: 1.0072e-07\n",
            "Epoch 30/100\n",
            "14/14 [==============================] - 1s 59ms/step - loss: 1.0353e-07 - val_loss: 1.0058e-07\n",
            "Epoch 31/100\n",
            "14/14 [==============================] - 1s 60ms/step - loss: 1.0349e-07 - val_loss: 1.0073e-07\n"
          ]
        },
        {
          "output_type": "execute_result",
          "data": {
            "text/plain": [
              "<keras.callbacks.History at 0x7f583233c9d0>"
            ]
          },
          "metadata": {},
          "execution_count": 12
        }
      ]
    },
    {
      "cell_type": "code",
      "metadata": {
        "colab": {
          "base_uri": "https://localhost:8080/"
        },
        "id": "MG1-TU1rv0g4",
        "outputId": "94df174a-3d4e-4735-d2df-fdcf1ed6dbec"
      },
      "source": [
        "test_results_2 = model2.predict(test)\n",
        "test,test_results_2"
      ],
      "execution_count": 13,
      "outputs": [
        {
          "output_type": "execute_result",
          "data": {
            "text/plain": [
              "([[0.2, 0.5], [0.3, 0.6], [0.4, 0.7], [0.5, 0.8], [0.6, 0.9]],\n",
              " array([[0.10001156],\n",
              "        [0.17998289],\n",
              "        [0.27995598],\n",
              "        [0.40002903],\n",
              "        [0.5399832 ]], dtype=float32))"
            ]
          },
          "metadata": {},
          "execution_count": 13
        }
      ]
    },
    {
      "cell_type": "markdown",
      "metadata": {
        "id": "ZNOkotDMvktb"
      },
      "source": [
        "#Bad Data"
      ]
    },
    {
      "cell_type": "code",
      "metadata": {
        "colab": {
          "base_uri": "https://localhost:8080/"
        },
        "id": "x02iw-TRuI7r",
        "outputId": "100690ce-c0b9-4e71-cf61-3ed0e50db6f3"
      },
      "source": [
        "from keras import callbacks\n",
        "\n",
        "junk = np.random.random((10000, 1))\n",
        "model2 = models.Sequential()\n",
        "model2.add(layers.Dense(4096*4, activation='relu', input_shape=(2,)))\n",
        "model2.add(layers.Dense(1, activation='linear'))\n",
        "model2.compile(optimizer='adam', loss='mse')\n",
        "\n",
        "callbacks = [callbacks.EarlyStopping(patience=6), callbacks.ReduceLROnPlateau()]\n",
        "model2.fit(train, junk, epochs=100, batch_size=512, validation_split=0.3, callbacks=callbacks)"
      ],
      "execution_count": 14,
      "outputs": [
        {
          "output_type": "stream",
          "name": "stdout",
          "text": [
            "Epoch 1/100\n",
            "14/14 [==============================] - 1s 66ms/step - loss: 0.1412 - val_loss: 0.1119\n",
            "Epoch 2/100\n",
            "14/14 [==============================] - 1s 60ms/step - loss: 0.0992 - val_loss: 0.0867\n",
            "Epoch 3/100\n",
            "14/14 [==============================] - 1s 62ms/step - loss: 0.0879 - val_loss: 0.0827\n",
            "Epoch 4/100\n",
            "14/14 [==============================] - 1s 61ms/step - loss: 0.0861 - val_loss: 0.0825\n",
            "Epoch 5/100\n",
            "14/14 [==============================] - 1s 60ms/step - loss: 0.0854 - val_loss: 0.0825\n",
            "Epoch 6/100\n",
            "14/14 [==============================] - 1s 60ms/step - loss: 0.0853 - val_loss: 0.0824\n",
            "Epoch 7/100\n",
            "14/14 [==============================] - 1s 60ms/step - loss: 0.0853 - val_loss: 0.0822\n",
            "Epoch 8/100\n",
            "14/14 [==============================] - 1s 60ms/step - loss: 0.0853 - val_loss: 0.0823\n",
            "Epoch 9/100\n",
            "14/14 [==============================] - 1s 60ms/step - loss: 0.0853 - val_loss: 0.0828\n",
            "Epoch 10/100\n",
            "14/14 [==============================] - 1s 60ms/step - loss: 0.0851 - val_loss: 0.0823\n",
            "Epoch 11/100\n",
            "14/14 [==============================] - 1s 59ms/step - loss: 0.0854 - val_loss: 0.0834\n",
            "Epoch 12/100\n",
            "14/14 [==============================] - 1s 59ms/step - loss: 0.0859 - val_loss: 0.0822\n",
            "Epoch 13/100\n",
            "14/14 [==============================] - 1s 62ms/step - loss: 0.0851 - val_loss: 0.0824\n",
            "Epoch 14/100\n",
            "14/14 [==============================] - 1s 60ms/step - loss: 0.0853 - val_loss: 0.0824\n",
            "Epoch 15/100\n",
            "14/14 [==============================] - 1s 61ms/step - loss: 0.0854 - val_loss: 0.0822\n",
            "Epoch 16/100\n",
            "14/14 [==============================] - 1s 59ms/step - loss: 0.0852 - val_loss: 0.0822\n",
            "Epoch 17/100\n",
            "14/14 [==============================] - 1s 59ms/step - loss: 0.0852 - val_loss: 0.0822\n",
            "Epoch 18/100\n",
            "14/14 [==============================] - 1s 60ms/step - loss: 0.0851 - val_loss: 0.0822\n",
            "Epoch 19/100\n",
            "14/14 [==============================] - 1s 59ms/step - loss: 0.0850 - val_loss: 0.0822\n",
            "Epoch 20/100\n",
            "14/14 [==============================] - 1s 60ms/step - loss: 0.0851 - val_loss: 0.0822\n",
            "Epoch 21/100\n",
            "14/14 [==============================] - 1s 60ms/step - loss: 0.0850 - val_loss: 0.0822\n",
            "Epoch 22/100\n",
            "14/14 [==============================] - 1s 58ms/step - loss: 0.0850 - val_loss: 0.0822\n",
            "Epoch 23/100\n",
            "14/14 [==============================] - 1s 60ms/step - loss: 0.0850 - val_loss: 0.0822\n",
            "Epoch 24/100\n",
            "14/14 [==============================] - 1s 61ms/step - loss: 0.0850 - val_loss: 0.0822\n",
            "Epoch 25/100\n",
            "14/14 [==============================] - 1s 60ms/step - loss: 0.0850 - val_loss: 0.0822\n"
          ]
        },
        {
          "output_type": "execute_result",
          "data": {
            "text/plain": [
              "<keras.callbacks.History at 0x7f5831407810>"
            ]
          },
          "metadata": {},
          "execution_count": 14
        }
      ]
    },
    {
      "cell_type": "code",
      "metadata": {
        "colab": {
          "base_uri": "https://localhost:8080/"
        },
        "id": "FfYVfwJiy51-",
        "outputId": "b4878019-aef7-436b-db88-a1a5b6a36d8e"
      },
      "source": [
        "test_results_2 = model2.predict(test)\n",
        "test,test_results_2"
      ],
      "execution_count": 15,
      "outputs": [
        {
          "output_type": "execute_result",
          "data": {
            "text/plain": [
              "([[0.2, 0.5], [0.3, 0.6], [0.4, 0.7], [0.5, 0.8], [0.6, 0.9]],\n",
              " array([[0.5131522 ],\n",
              "        [0.51174074],\n",
              "        [0.5107579 ],\n",
              "        [0.5099194 ],\n",
              "        [0.5098976 ]], dtype=float32))"
            ]
          },
          "metadata": {},
          "execution_count": 15
        }
      ]
    },
    {
      "cell_type": "code",
      "metadata": {
        "colab": {
          "base_uri": "https://localhost:8080/"
        },
        "id": "KKQ4EaRt6uF_",
        "outputId": "88d7181f-f306-4ac5-aefc-210740730d80"
      },
      "source": [
        "#Save and Load Models\n",
        "model1.save('savedModel')\n"
      ],
      "execution_count": 16,
      "outputs": [
        {
          "output_type": "stream",
          "name": "stdout",
          "text": [
            "INFO:tensorflow:Assets written to: savedModel/assets\n"
          ]
        }
      ]
    },
    {
      "cell_type": "code",
      "metadata": {
        "id": "eqma1sj37IX6"
      },
      "source": [
        "from tensorflow import keras\n",
        "model3 = keras.models.load_model('savedModel')\n"
      ],
      "execution_count": 17,
      "outputs": []
    },
    {
      "cell_type": "code",
      "metadata": {
        "colab": {
          "base_uri": "https://localhost:8080/"
        },
        "id": "GRhKO2ND7bEd",
        "outputId": "6f0a7ed4-cc9e-4797-e184-c5eae0c9f9c5"
      },
      "source": [
        "test_result3 = model3.predict(test)\n",
        "test,test_result3"
      ],
      "execution_count": 18,
      "outputs": [
        {
          "output_type": "execute_result",
          "data": {
            "text/plain": [
              "([[0.2, 0.5], [0.3, 0.6], [0.4, 0.7], [0.5, 0.8], [0.6, 0.9]],\n",
              " array([[0.09191382],\n",
              "        [0.16642466],\n",
              "        [0.2581013 ],\n",
              "        [0.3729803 ],\n",
              "        [0.51872003]], dtype=float32))"
            ]
          },
          "metadata": {},
          "execution_count": 18
        }
      ]
    },
    {
      "cell_type": "markdown",
      "metadata": {
        "id": "QZ5rXqlSSQs8"
      },
      "source": [
        "#Chronobooks <br>\n",
        "![alt text](https://1.bp.blogspot.com/-lTiYBkU2qbU/X1er__fvnkI/AAAAAAAAjtE/GhDR3OEGJr4NG43fZPodrQD5kbxtnKebgCLcBGAsYHQ/s600/Footer2020-600x200.png)<hr>\n",
        "Chronotantra and Chronoyantra are two science fiction novels that explore the collapse of human civilisation on Earth and then its rebirth and reincarnation both on Earth as well as on the distant worlds of Mars, Titan and Enceladus. But is it the human civilisation that is being reborn? Or is it some other sentience that is revealing itself. \n",
        "If you have an interest in AI and found this material useful, you may consider buying these novels, in paperback or kindle, from [http://bit.ly/chronobooks](http://bit.ly/chronobooks)"
      ]
    },
    {
      "cell_type": "markdown",
      "metadata": {
        "id": "eAdRK93QcEIh"
      },
      "source": [
        "![CC-BY-SA](https://licensebuttons.net/l/by-sa/3.0/88x31.png) The contents of this website are released under creative commons "
      ]
    }
  ]
}