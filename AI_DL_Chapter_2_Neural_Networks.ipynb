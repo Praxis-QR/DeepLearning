{
  "nbformat": 4,
  "nbformat_minor": 0,
  "metadata": {
    "colab": {
      "name": "AI DL Chapter 2 Neural Networks",
      "provenance": [],
      "collapsed_sections": [],
      "toc_visible": true,
      "include_colab_link": true
    },
    "kernelspec": {
      "name": "python3",
      "display_name": "Python 3"
    }
  },
  "cells": [
    {
      "cell_type": "markdown",
      "metadata": {
        "id": "view-in-github",
        "colab_type": "text"
      },
      "source": [
        "<a href=\"https://colab.research.google.com/github/Praxis-QR/DeepLearning/blob/main/AI_DL_Chapter_2_Neural_Networks.ipynb\" target=\"_parent\"><img src=\"https://colab.research.google.com/assets/colab-badge.svg\" alt=\"Open In Colab\"/></a>"
      ]
    },
    {
      "cell_type": "markdown",
      "metadata": {
        "id": "e_mmEDwhR4-U"
      },
      "source": [
        "![alt text](https://1.bp.blogspot.com/-WAjYIaQofo0/YEB0cQsSGSI/AAAAAAAAkoE/TpQcWBRGtu0N010lmiTS9cFHuGwXB45PQCLcBGAsYHQ/s16000/colabHeader00.png)<br>\n",
        "\n",
        "<hr>\n",
        "\n",
        "[Prithwis Mukerjee](http://www.yantrajaal.com) / [Praxis Business School](http://praxis.ac.in/) / [Book Website](http://aidl4managers.blogspot.com) "
      ]
    },
    {
      "cell_type": "markdown",
      "metadata": {
        "id": "MLBz055asDAy"
      },
      "source": [
        "Base Solultion https://stackoverflow.com/questions/37520849/cant-approximate-simple-multiplication-function-in-neural-network-with-1-hidden <br>\n",
        "Overview of NN https://machinelearningmastery.com/tutorial-first-neural-network-python-keras/"
      ]
    },
    {
      "cell_type": "code",
      "metadata": {
        "id": "4lp8slFeQdT2"
      },
      "source": [
        "import numpy as np\n",
        "from keras import layers\n",
        "from keras import models\n",
        "from keras import callbacks"
      ],
      "execution_count": 1,
      "outputs": []
    },
    {
      "cell_type": "code",
      "metadata": {
        "id": "1cGlb-afszzy"
      },
      "source": [
        "test=[[.2,.5],[.3,.6],[.4,.7],[.5,.8],[.6,.9]]"
      ],
      "execution_count": 2,
      "outputs": []
    },
    {
      "cell_type": "code",
      "metadata": {
        "colab": {
          "base_uri": "https://localhost:8080/"
        },
        "id": "PvA96Kd1orMp",
        "outputId": "91467f3a-efb1-4e6a-debb-546275805c1d"
      },
      "source": [
        "train = np.random.random((10000, 2))\n",
        "results = np.asarray([a * b for a, b in train])\n",
        "train[0:5,:], results[0:5]"
      ],
      "execution_count": 3,
      "outputs": [
        {
          "output_type": "execute_result",
          "data": {
            "text/plain": [
              "(array([[0.44724225, 0.87311121],\n",
              "        [0.4948484 , 0.66900011],\n",
              "        [0.92020358, 0.13239155],\n",
              "        [0.66053506, 0.03575621],\n",
              "        [0.6053147 , 0.52097956]]),\n",
              " array([0.39049222, 0.33105364, 0.12182718, 0.02361823, 0.31535659]))"
            ]
          },
          "metadata": {},
          "execution_count": 3
        }
      ]
    },
    {
      "cell_type": "markdown",
      "metadata": {
        "id": "I-iwKnUpvZCt"
      },
      "source": [
        "#Simple Model modelS"
      ]
    },
    {
      "cell_type": "code",
      "metadata": {
        "id": "Zy_PnBQgQpev",
        "colab": {
          "base_uri": "https://localhost:8080/"
        },
        "outputId": "3c97f5c2-6570-44d0-d50b-afd2772405f1"
      },
      "source": [
        "model1 = models.Sequential()\n",
        "model1.add(layers.Dense(150, activation='relu', input_shape=(2,)))\n",
        "model1.add(layers.Dense(1, activation='relu'))\n",
        "model1.compile(optimizer='sgd', loss='mae')\n",
        "model1.summary()"
      ],
      "execution_count": 4,
      "outputs": [
        {
          "output_type": "stream",
          "name": "stdout",
          "text": [
            "Model: \"sequential\"\n",
            "_________________________________________________________________\n",
            "Layer (type)                 Output Shape              Param #   \n",
            "=================================================================\n",
            "dense (Dense)                (None, 150)               450       \n",
            "_________________________________________________________________\n",
            "dense_1 (Dense)              (None, 1)                 151       \n",
            "=================================================================\n",
            "Total params: 601\n",
            "Trainable params: 601\n",
            "Non-trainable params: 0\n",
            "_________________________________________________________________\n"
          ]
        }
      ]
    },
    {
      "cell_type": "code",
      "metadata": {
        "colab": {
          "base_uri": "https://localhost:8080/"
        },
        "id": "038XCgyDQ0dc",
        "outputId": "33d3ea51-179e-4296-8fd0-1c1a5dfde40e"
      },
      "source": [
        "model1.fit(train, results, epochs=5, batch_size=1)\n",
        "#model1.fit(train, results, epochs=5)               # if no batch size is specified, size 32 is taken, hence 313 batches, 1 sample from each batch"
      ],
      "execution_count": 5,
      "outputs": [
        {
          "output_type": "stream",
          "name": "stdout",
          "text": [
            "Epoch 1/5\n",
            "10000/10000 [==============================] - 10s 966us/step - loss: 0.0314\n",
            "Epoch 2/5\n",
            "10000/10000 [==============================] - 10s 980us/step - loss: 0.0186\n",
            "Epoch 3/5\n",
            "10000/10000 [==============================] - 10s 973us/step - loss: 0.0118\n",
            "Epoch 4/5\n",
            "10000/10000 [==============================] - 10s 979us/step - loss: 0.0112\n",
            "Epoch 5/5\n",
            "10000/10000 [==============================] - 10s 962us/step - loss: 0.0108\n"
          ]
        },
        {
          "output_type": "execute_result",
          "data": {
            "text/plain": [
              "<keras.callbacks.History at 0x7f3fe2b36c50>"
            ]
          },
          "metadata": {},
          "execution_count": 5
        }
      ]
    },
    {
      "cell_type": "code",
      "metadata": {
        "colab": {
          "base_uri": "https://localhost:8080/"
        },
        "id": "c-0tiMuKnd0w",
        "outputId": "09484e7f-a042-4965-9a60-cd515febe48f"
      },
      "source": [
        "test_result = model1.predict(test)\n",
        "test,test_result"
      ],
      "execution_count": 6,
      "outputs": [
        {
          "output_type": "execute_result",
          "data": {
            "text/plain": [
              "([[0.2, 0.5], [0.3, 0.6], [0.4, 0.7], [0.5, 0.8], [0.6, 0.9]],\n",
              " array([[0.09526977],\n",
              "        [0.17112945],\n",
              "        [0.26456475],\n",
              "        [0.38195527],\n",
              "        [0.5235787 ]], dtype=float32))"
            ]
          },
          "metadata": {},
          "execution_count": 6
        }
      ]
    },
    {
      "cell_type": "code",
      "metadata": {
        "colab": {
          "base_uri": "https://localhost:8080/"
        },
        "id": "HpQQII1Ye2PF",
        "outputId": "5bd7e242-469b-4ad5-95a3-a0eafa9681ce"
      },
      "source": [
        "junk_answers = np.random.random((10000, 1))\n",
        "model1.fit(train, junk_answers, epochs=5, batch_size=1)\n",
        "test_result = model1.predict(test)\n",
        "test,test_result"
      ],
      "execution_count": 7,
      "outputs": [
        {
          "output_type": "stream",
          "name": "stdout",
          "text": [
            "Epoch 1/5\n",
            "10000/10000 [==============================] - 14s 1ms/step - loss: 0.2550\n",
            "Epoch 2/5\n",
            "10000/10000 [==============================] - 14s 1ms/step - loss: 0.2529\n",
            "Epoch 3/5\n",
            "10000/10000 [==============================] - 14s 1ms/step - loss: 0.2532\n",
            "Epoch 4/5\n",
            "10000/10000 [==============================] - 14s 1ms/step - loss: 0.2533\n",
            "Epoch 5/5\n",
            "10000/10000 [==============================] - 14s 1ms/step - loss: 0.2528\n"
          ]
        },
        {
          "output_type": "execute_result",
          "data": {
            "text/plain": [
              "([[0.2, 0.5], [0.3, 0.6], [0.4, 0.7], [0.5, 0.8], [0.6, 0.9]],\n",
              " array([[0.49484527],\n",
              "        [0.4967107 ],\n",
              "        [0.49961913],\n",
              "        [0.50288874],\n",
              "        [0.50615853]], dtype=float32))"
            ]
          },
          "metadata": {},
          "execution_count": 7
        }
      ]
    },
    {
      "cell_type": "markdown",
      "metadata": {
        "id": "hVZxSoOrR-yI"
      },
      "source": [
        "#Chronobooks <br>\n",
        "![alt text](https://1.bp.blogspot.com/-lTiYBkU2qbU/X1er__fvnkI/AAAAAAAAjtE/GhDR3OEGJr4NG43fZPodrQD5kbxtnKebgCLcBGAsYHQ/s600/Footer2020-600x200.png)<hr>\n",
        "Chronotantra and Chronoyantra are two science fiction novels that explore the collapse of human civilisation on Earth and then its rebirth and reincarnation both on Earth as well as on the distant worlds of Mars, Titan and Enceladus. But is it the human civilisation that is being reborn? Or is it some other sentience that is revealing itself. \n",
        "If you have an interest in AI and found this material useful, you may consider buying these novels, in paperback or kindle, from [http://bit.ly/chronobooks](http://bit.ly/chronobooks)"
      ]
    },
    {
      "cell_type": "markdown",
      "metadata": {
        "id": "k9QIqXPvbtSw"
      },
      "source": [
        "![CC-BY-SA](https://licensebuttons.net/l/by-sa/3.0/88x31.png) The contents of this website are released under creative commons "
      ]
    }
  ]
}