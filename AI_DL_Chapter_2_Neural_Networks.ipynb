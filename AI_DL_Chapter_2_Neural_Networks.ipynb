{
  "nbformat": 4,
  "nbformat_minor": 0,
  "metadata": {
    "colab": {
      "name": "AI DL Chapter 2 Neural Networks",
      "provenance": [],
      "toc_visible": true,
      "include_colab_link": true
    },
    "kernelspec": {
      "name": "python3",
      "display_name": "Python 3"
    }
  },
  "cells": [
    {
      "cell_type": "markdown",
      "metadata": {
        "id": "view-in-github",
        "colab_type": "text"
      },
      "source": [
        "<a href=\"https://colab.research.google.com/github/Praxis-QR/DeepLearning/blob/main/AI_DL_Chapter_2_Neural_Networks.ipynb\" target=\"_parent\"><img src=\"https://colab.research.google.com/assets/colab-badge.svg\" alt=\"Open In Colab\"/></a>"
      ]
    },
    {
      "cell_type": "markdown",
      "metadata": {
        "id": "e_mmEDwhR4-U"
      },
      "source": [
        "![alt text](https://1.bp.blogspot.com/-WAjYIaQofo0/YEB0cQsSGSI/AAAAAAAAkoE/TpQcWBRGtu0N010lmiTS9cFHuGwXB45PQCLcBGAsYHQ/s16000/colabHeader00.png)<br>\n",
        "\n",
        "<hr>\n",
        "\n",
        "[Prithwis Mukerjee](http://www.yantrajaal.com) / [Praxis Business School](http://praxis.ac.in/) / [Book Website](http://aidl4managers.blogspot.com) "
      ]
    },
    {
      "cell_type": "markdown",
      "metadata": {
        "id": "MLBz055asDAy"
      },
      "source": [
        "Base Solultion https://stackoverflow.com/questions/37520849/cant-approximate-simple-multiplication-function-in-neural-network-with-1-hidden <br>\n",
        "Overview of NN https://machinelearningmastery.com/tutorial-first-neural-network-python-keras/"
      ]
    },
    {
      "cell_type": "code",
      "metadata": {
        "id": "4lp8slFeQdT2"
      },
      "source": [
        "import numpy as np\n",
        "from keras import layers\n",
        "from keras import models\n",
        "from keras import callbacks"
      ],
      "execution_count": 1,
      "outputs": []
    },
    {
      "cell_type": "code",
      "metadata": {
        "id": "1cGlb-afszzy"
      },
      "source": [
        "test=[[.2,.5],[.3,.6],[.4,.7],[.5,.8],[.6,.9]]"
      ],
      "execution_count": 2,
      "outputs": []
    },
    {
      "cell_type": "code",
      "metadata": {
        "colab": {
          "base_uri": "https://localhost:8080/"
        },
        "id": "PvA96Kd1orMp",
        "outputId": "c6b56bbf-1116-4afc-cc65-13d94c04bd24"
      },
      "source": [
        "train = np.random.random((10000, 2))\n",
        "results = np.asarray([a * b for a, b in train])\n",
        "train[0:5,:], results[0:5]"
      ],
      "execution_count": 3,
      "outputs": [
        {
          "output_type": "execute_result",
          "data": {
            "text/plain": [
              "(array([[0.65532699, 0.71341956],\n",
              "        [0.77404327, 0.90085253],\n",
              "        [0.42510765, 0.41904557],\n",
              "        [0.21987667, 0.1107375 ],\n",
              "        [0.90037301, 0.0870209 ]]),\n",
              " array([0.46752309, 0.69729883, 0.17813948, 0.02434859, 0.07835127]))"
            ]
          },
          "metadata": {},
          "execution_count": 3
        }
      ]
    },
    {
      "cell_type": "markdown",
      "metadata": {
        "id": "I-iwKnUpvZCt"
      },
      "source": [
        "#Simple Model modelS"
      ]
    },
    {
      "cell_type": "code",
      "metadata": {
        "id": "Zy_PnBQgQpev",
        "colab": {
          "base_uri": "https://localhost:8080/"
        },
        "outputId": "c8271651-850a-4f39-ac41-766df6943d2f"
      },
      "source": [
        "model1 = models.Sequential()\n",
        "model1.add(layers.Dense(150, activation='relu', input_shape=(2,)))\n",
        "model1.add(layers.Dense(1, activation='relu'))\n",
        "model1.compile(optimizer='sgd', loss='mae')\n",
        "model1.summary()"
      ],
      "execution_count": 4,
      "outputs": [
        {
          "output_type": "stream",
          "name": "stdout",
          "text": [
            "Model: \"sequential\"\n",
            "_________________________________________________________________\n",
            " Layer (type)                Output Shape              Param #   \n",
            "=================================================================\n",
            " dense (Dense)               (None, 150)               450       \n",
            "                                                                 \n",
            " dense_1 (Dense)             (None, 1)                 151       \n",
            "                                                                 \n",
            "=================================================================\n",
            "Total params: 601\n",
            "Trainable params: 601\n",
            "Non-trainable params: 0\n",
            "_________________________________________________________________\n"
          ]
        }
      ]
    },
    {
      "cell_type": "code",
      "metadata": {
        "colab": {
          "base_uri": "https://localhost:8080/"
        },
        "id": "038XCgyDQ0dc",
        "outputId": "0febbb9d-f4a6-4f29-8ecf-ef9d2d71873e"
      },
      "source": [
        "model1.fit(train, results, epochs=5, batch_size=1)\n",
        "#model1.fit(train, results, epochs=5)               # if no batch size is specified, size 32 is taken, hence 313 batches, 1 sample from each batch"
      ],
      "execution_count": 5,
      "outputs": [
        {
          "output_type": "stream",
          "name": "stdout",
          "text": [
            "Epoch 1/5\n",
            "10000/10000 [==============================] - 17s 2ms/step - loss: 0.2523\n",
            "Epoch 2/5\n",
            "10000/10000 [==============================] - 15s 1ms/step - loss: 0.2523\n",
            "Epoch 3/5\n",
            "10000/10000 [==============================] - 13s 1ms/step - loss: 0.2523\n",
            "Epoch 4/5\n",
            "10000/10000 [==============================] - 13s 1ms/step - loss: 0.2523\n",
            "Epoch 5/5\n",
            "10000/10000 [==============================] - 13s 1ms/step - loss: 0.2523\n"
          ]
        },
        {
          "output_type": "execute_result",
          "data": {
            "text/plain": [
              "<keras.callbacks.History at 0x7f3845a8db20>"
            ]
          },
          "metadata": {},
          "execution_count": 5
        }
      ]
    },
    {
      "cell_type": "code",
      "metadata": {
        "colab": {
          "base_uri": "https://localhost:8080/"
        },
        "id": "c-0tiMuKnd0w",
        "outputId": "55b57229-995a-4531-e491-38041bae7ea7"
      },
      "source": [
        "test_result = model1.predict(test)\n",
        "test,test_result"
      ],
      "execution_count": 6,
      "outputs": [
        {
          "output_type": "stream",
          "name": "stdout",
          "text": [
            "1/1 [==============================] - 0s 178ms/step\n"
          ]
        },
        {
          "output_type": "execute_result",
          "data": {
            "text/plain": [
              "([[0.2, 0.5], [0.3, 0.6], [0.4, 0.7], [0.5, 0.8], [0.6, 0.9]], array([[0.],\n",
              "        [0.],\n",
              "        [0.],\n",
              "        [0.],\n",
              "        [0.]], dtype=float32))"
            ]
          },
          "metadata": {},
          "execution_count": 6
        }
      ]
    },
    {
      "cell_type": "code",
      "metadata": {
        "colab": {
          "base_uri": "https://localhost:8080/"
        },
        "id": "HpQQII1Ye2PF",
        "outputId": "b7e32080-6ead-4c2d-9f5e-e0f0454685c9"
      },
      "source": [
        "junk_answers = np.random.random((10000, 1))\n",
        "model1.fit(train, junk_answers, epochs=5, batch_size=1)\n",
        "test_result = model1.predict(test)\n",
        "test,test_result"
      ],
      "execution_count": 7,
      "outputs": [
        {
          "output_type": "stream",
          "name": "stdout",
          "text": [
            "Epoch 1/5\n",
            "10000/10000 [==============================] - 18s 2ms/step - loss: 0.5006\n",
            "Epoch 2/5\n",
            "10000/10000 [==============================] - 17s 2ms/step - loss: 0.5006\n",
            "Epoch 3/5\n",
            "10000/10000 [==============================] - 16s 2ms/step - loss: 0.5006\n",
            "Epoch 4/5\n",
            "10000/10000 [==============================] - 16s 2ms/step - loss: 0.5006\n",
            "Epoch 5/5\n",
            "10000/10000 [==============================] - 17s 2ms/step - loss: 0.5006\n",
            "1/1 [==============================] - 0s 31ms/step\n"
          ]
        },
        {
          "output_type": "execute_result",
          "data": {
            "text/plain": [
              "([[0.2, 0.5], [0.3, 0.6], [0.4, 0.7], [0.5, 0.8], [0.6, 0.9]], array([[0.],\n",
              "        [0.],\n",
              "        [0.],\n",
              "        [0.],\n",
              "        [0.]], dtype=float32))"
            ]
          },
          "metadata": {},
          "execution_count": 7
        }
      ]
    },
    {
      "cell_type": "code",
      "source": [
        "##Last Tested\n",
        "!date"
      ],
      "metadata": {
        "id": "6LyEJlKH1nJM",
        "outputId": "06dcedb6-3f37-4ab5-f4b5-14c4e6233f4d",
        "colab": {
          "base_uri": "https://localhost:8080/"
        }
      },
      "execution_count": 8,
      "outputs": [
        {
          "output_type": "stream",
          "name": "stdout",
          "text": [
            "Thu Jan 12 00:13:43 UTC 2023\n"
          ]
        }
      ]
    },
    {
      "cell_type": "markdown",
      "metadata": {
        "id": "hVZxSoOrR-yI"
      },
      "source": [
        "#Chronobooks <br>\n",
        "![alt text](https://1.bp.blogspot.com/-lTiYBkU2qbU/X1er__fvnkI/AAAAAAAAjtE/GhDR3OEGJr4NG43fZPodrQD5kbxtnKebgCLcBGAsYHQ/s600/Footer2020-600x200.png)<hr>\n",
        "Chronotantra and Chronoyantra are two science fiction novels that explore the collapse of human civilisation on Earth and then its rebirth and reincarnation both on Earth as well as on the distant worlds of Mars, Titan and Enceladus. But is it the human civilisation that is being reborn? Or is it some other sentience that is revealing itself. \n",
        "If you have an interest in AI and found this material useful, you may consider buying these novels, in paperback or kindle, from [http://bit.ly/chronobooks](http://bit.ly/chronobooks)"
      ]
    },
    {
      "cell_type": "markdown",
      "metadata": {
        "id": "k9QIqXPvbtSw"
      },
      "source": [
        "![CC-BY-SA](https://licensebuttons.net/l/by-sa/3.0/88x31.png) The contents of this website are released under creative commons "
      ]
    }
  ]
}