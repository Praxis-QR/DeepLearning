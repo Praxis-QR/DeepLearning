{
  "nbformat": 4,
  "nbformat_minor": 0,
  "metadata": {
    "colab": {
      "name": "AI DL Chapter 7A Reinforcement Learning - TaxiV3 - v2",
      "provenance": [],
      "collapsed_sections": [],
      "toc_visible": true,
      "include_colab_link": true
    },
    "kernelspec": {
      "name": "python3",
      "display_name": "Python 3"
    }
  },
  "cells": [
    {
      "cell_type": "markdown",
      "metadata": {
        "id": "view-in-github",
        "colab_type": "text"
      },
      "source": [
        "<a href=\"https://colab.research.google.com/github/Praxis-QR/DeepLearning/blob/main/AI_DL_Chapter_7A_Reinforcement_Learning_TaxiV3_v2.ipynb\" target=\"_parent\"><img src=\"https://colab.research.google.com/assets/colab-badge.svg\" alt=\"Open In Colab\"/></a>"
      ]
    },
    {
      "cell_type": "markdown",
      "metadata": {
        "id": "AfTioYbkGJXR"
      },
      "source": [
        "![alt text](https://1.bp.blogspot.com/-WAjYIaQofo0/YEB0cQsSGSI/AAAAAAAAkoE/TpQcWBRGtu0N010lmiTS9cFHuGwXB45PQCLcBGAsYHQ/s16000/colabHeader00.png)<br>\n",
        "\n",
        "<hr>\n",
        "\n",
        "[Prithwis Mukerjee](http://www.yantrajaal.com) / [Praxis Business School](http://praxis.ac.in/) / [Book Website](http://aidl4managers.blogspot.com) "
      ]
    },
    {
      "cell_type": "markdown",
      "metadata": {
        "id": "kE7HJgTiY9EO"
      },
      "source": [
        "#Taxi"
      ]
    },
    {
      "cell_type": "markdown",
      "metadata": {
        "id": "myB1By1nk1l1"
      },
      "source": [
        "https://www.learndatasci.com/tutorials/reinforcement-q-learning-scratch-python-openai-gym/ <br>\n",
        "https://medium.com/swlh/introduction-to-q-learning-with-openai-gym-2d794da10f3d<br>\n",
        "https://www.gocoder.one/blog/rl-tutorial-with-openai-gym"
      ]
    },
    {
      "cell_type": "markdown",
      "metadata": {
        "id": "I_mO0C9PZCSP"
      },
      "source": [
        "#Imports, Installs"
      ]
    },
    {
      "cell_type": "code",
      "metadata": {
        "id": "9pHB1cTNk3JN",
        "colab": {
          "base_uri": "https://localhost:8080/"
        },
        "outputId": "3d63aa75-6856-483f-992b-bce23643cf59"
      },
      "source": [
        "from IPython.display import clear_output\n",
        "import matplotlib.pyplot as plt\n",
        "import random\n",
        "from time import sleep\n",
        "import numpy as np\n",
        "import gym\n",
        "env = gym.make(\"Taxi-v3\", render_mode = 'ansi').env"
      ],
      "execution_count": null,
      "outputs": [
        {
          "output_type": "stream",
          "name": "stderr",
          "text": [
            "/usr/local/lib/python3.7/dist-packages/gym/core.py:330: DeprecationWarning: \u001b[33mWARN: Initializing wrapper in old step API which returns one bool instead of two. It is recommended to set `new_step_api=True` to use new step API. This will be the default behaviour in future.\u001b[0m\n",
            "  \"Initializing wrapper in old step API which returns one bool instead of two. It is recommended to set `new_step_api=True` to use new step API. This will be the default behaviour in future.\"\n",
            "/usr/local/lib/python3.7/dist-packages/gym/wrappers/step_api_compatibility.py:40: DeprecationWarning: \u001b[33mWARN: Initializing environment in old step API which returns one bool instead of two. It is recommended to set `new_step_api=True` to use new step API. This will be the default behaviour in future.\u001b[0m\n",
            "  \"Initializing environment in old step API which returns one bool instead of two. It is recommended to set `new_step_api=True` to use new step API. This will be the default behaviour in future.\"\n"
          ]
        }
      ]
    },
    {
      "cell_type": "markdown",
      "metadata": {
        "id": "EFOp8673ZGca"
      },
      "source": [
        "#Graphical Displays"
      ]
    },
    {
      "cell_type": "code",
      "metadata": {
        "colab": {
          "base_uri": "https://localhost:8080/"
        },
        "id": "q88WKnhulxXQ",
        "outputId": "447b241c-4507-4379-9d60-2b010b39ca7a"
      },
      "source": [
        "print(\"Action Space\",env.action_space)\n",
        "print(\"State Space\",env.observation_space)"
      ],
      "execution_count": null,
      "outputs": [
        {
          "output_type": "stream",
          "name": "stdout",
          "text": [
            "Action Space Discrete(6)\n",
            "State Space Discrete(500)\n"
          ]
        }
      ]
    },
    {
      "cell_type": "code",
      "metadata": {
        "id": "JNuq4OEhSXhS"
      },
      "source": [
        "# show a graphical representation of any state\n",
        "# along with the reward table P associated with 6 possible actions in this state\n",
        "# default values are used as sample if no input is provided\n",
        "#\n",
        "def showStateVec(txR=3, txC=1,pxI=2,des=0):\n",
        "    state = env.encode(txR,txC,pxI,des)\n",
        "    env.reset()\n",
        "    env.s = state\n",
        "    #print(\"Action Space\",env.action_space)\n",
        "    #print(\"State Space\",env.observation_space)\n",
        "    print(\"State \", env.s, list(env.decode(env.s)))\n",
        "    p = env.render()\n",
        "    print(p[0])\n",
        "    for k,v in env.P[state].items():\n",
        "        print(v)\n",
        "\n",
        "# instead of using the vector representation of the state\n",
        "# we use the state identification number\n",
        "#\n",
        "def showStateNum(state=328):\n",
        "    v = list(env.decode(state))\n",
        "    showStateVec(v[0],v[1],v[2],v[3])"
      ],
      "execution_count": null,
      "outputs": []
    },
    {
      "cell_type": "code",
      "metadata": {
        "colab": {
          "base_uri": "https://localhost:8080/"
        },
        "id": "Jz24MLFiYE2y",
        "outputId": "d3e05389-e084-4687-ebcd-757b8f0c7e03"
      },
      "source": [
        "# taxi at 3,1, passenger at 2, destination = 0\n",
        "# note, moving to the WEST is not possible, the position does not change\n",
        "showStateVec(3,1,2,0)"
      ],
      "execution_count": null,
      "outputs": [
        {
          "output_type": "stream",
          "name": "stdout",
          "text": [
            "State  328 [3, 1, 2, 0]\n",
            "+---------+\n",
            "|\u001b[35mR\u001b[0m: | : :G|\n",
            "| : | : : |\n",
            "| : : : : |\n",
            "| | : | : |\n",
            "|Y|\u001b[43m \u001b[0m: |\u001b[34;1mB\u001b[0m: |\n",
            "+---------+\n",
            "\n",
            "\n",
            "[(1.0, 428, -1, False)]\n",
            "[(1.0, 228, -1, False)]\n",
            "[(1.0, 348, -1, False)]\n",
            "[(1.0, 328, -1, False)]\n",
            "[(1.0, 328, -10, False)]\n",
            "[(1.0, 328, -10, False)]\n"
          ]
        }
      ]
    },
    {
      "cell_type": "code",
      "metadata": {
        "colab": {
          "base_uri": "https://localhost:8080/"
        },
        "id": "Y5sPP8XXSs6Q",
        "outputId": "d7fe00b0-90fc-42f1-9100-b3ad12eef306"
      },
      "source": [
        "# taxi at 4,3 passenger in taxi\n",
        "# destination is same as taxi position\n",
        "# a dropoff shows ride completion is True\n",
        "# change destination from 3 to 4 and note how rewards and completion status change\n",
        "#\n",
        "showStateVec(4,3,4,3)"
      ],
      "execution_count": null,
      "outputs": [
        {
          "output_type": "stream",
          "name": "stdout",
          "text": [
            "State  479 [4, 3, 4, 3]\n",
            "+---------+\n",
            "|\u001b[34;1mR\u001b[0m: | : :\u001b[35mG\u001b[0m|\n",
            "| : | : : |\n",
            "| : : : :\u001b[43m \u001b[0m|\n",
            "| | : | : |\n",
            "|Y| : |B: |\n",
            "+---------+\n",
            "\n",
            "\n",
            "[(1.0, 479, -1, False)]\n",
            "[(1.0, 379, -1, False)]\n",
            "[(1.0, 499, -1, False)]\n",
            "[(1.0, 479, -1, False)]\n",
            "[(1.0, 479, -10, False)]\n",
            "[(1.0, 475, 20, True)]\n"
          ]
        }
      ]
    },
    {
      "cell_type": "code",
      "metadata": {
        "colab": {
          "base_uri": "https://localhost:8080/"
        },
        "id": "Sbb42UYDvsYF",
        "outputId": "b8165834-3f82-4339-fbc7-d411b6bbfc0a"
      },
      "source": [
        "# taxi at 0,0 passenger in position 0\n",
        "# destination is 2\n",
        "#\n",
        "showStateVec(0,0,0,2)\n",
        "#trying to move North or West is impossible,\n",
        "#leaves system at same state 0"
      ],
      "execution_count": null,
      "outputs": [
        {
          "output_type": "stream",
          "name": "stdout",
          "text": [
            "State  2 [0, 0, 0, 2]\n",
            "+---------+\n",
            "|\u001b[35mR\u001b[0m: | : :\u001b[34;1m\u001b[43mG\u001b[0m\u001b[0m|\n",
            "| : | : : |\n",
            "| : : : : |\n",
            "| | : | : |\n",
            "|Y| : |B: |\n",
            "+---------+\n",
            "\n",
            "\n",
            "[(1.0, 102, -1, False)]\n",
            "[(1.0, 2, -1, False)]\n",
            "[(1.0, 22, -1, False)]\n",
            "[(1.0, 2, -1, False)]\n",
            "[(1.0, 18, -1, False)]\n",
            "[(1.0, 2, -10, False)]\n"
          ]
        }
      ]
    },
    {
      "cell_type": "code",
      "metadata": {
        "colab": {
          "base_uri": "https://localhost:8080/"
        },
        "id": "dO4XtNTNbabE",
        "outputId": "404243d3-0b4a-4437-ba63-0bb9a6be9c69"
      },
      "source": [
        "#check what happens when system moves to state 102, 22, 18\n",
        "# 102 moves South without pickup\n",
        "# 22 moves East without pickup\n",
        "# 18 picks up passenger, stay same place\n",
        "# if tries to drop, stays in same state, but collects large penalty\n",
        "showStateNum(22)"
      ],
      "execution_count": null,
      "outputs": [
        {
          "output_type": "stream",
          "name": "stdout",
          "text": [
            "State  22 [0, 1, 0, 2]\n",
            "+---------+\n",
            "|\u001b[35mR\u001b[0m: | : :G|\n",
            "| : | :\u001b[43m \u001b[0m: |\n",
            "| : : : : |\n",
            "| | : | : |\n",
            "|Y| : |\u001b[34;1mB\u001b[0m: |\n",
            "+---------+\n",
            "\n",
            "\n",
            "[(1.0, 122, -1, False)]\n",
            "[(1.0, 22, -1, False)]\n",
            "[(1.0, 22, -1, False)]\n",
            "[(1.0, 2, -1, False)]\n",
            "[(1.0, 22, -10, False)]\n",
            "[(1.0, 22, -10, False)]\n"
          ]
        }
      ]
    },
    {
      "cell_type": "code",
      "metadata": {
        "colab": {
          "base_uri": "https://localhost:8080/"
        },
        "id": "ea5eeKgj6ZOC",
        "outputId": "5064382f-2f3a-47e5-f842-e170718cb61c"
      },
      "source": [
        "# taxi at 0,4 passenger in taxi\n",
        "# destination is 1 (current taxi location)\n",
        "#\n",
        "showStateVec(0,4,4,1)\n",
        "#trying to move North or West is impossible,\n",
        "#leaves system at same state 0"
      ],
      "execution_count": null,
      "outputs": [
        {
          "output_type": "stream",
          "name": "stdout",
          "text": [
            "State  97 [0, 4, 4, 1]\n",
            "+---------+\n",
            "|R: | : :G|\n",
            "| : | : :\u001b[43m \u001b[0m|\n",
            "| : : : : |\n",
            "| | : | : |\n",
            "|\u001b[34;1mY\u001b[0m| : |\u001b[35mB\u001b[0m: |\n",
            "+---------+\n",
            "\n",
            "\n",
            "[(1.0, 197, -1, False)]\n",
            "[(1.0, 97, -1, False)]\n",
            "[(1.0, 97, -1, False)]\n",
            "[(1.0, 77, -1, False)]\n",
            "[(1.0, 97, -10, False)]\n",
            "[(1.0, 85, 20, True)]\n"
          ]
        }
      ]
    },
    {
      "cell_type": "markdown",
      "metadata": {
        "id": "mXd0v3xwZNsq"
      },
      "source": [
        "#Single Trip"
      ]
    },
    {
      "cell_type": "code",
      "metadata": {
        "id": "_vSp6zj5chxd"
      },
      "source": [
        "# One trip of the Taxi\n",
        "# default values are Not trained and starting from state=328\n",
        "# these can be overwritten\n",
        "# returns number of steps required to complete, penalties accrued, and a movie of the trip that can be played back\n",
        "#\n",
        "def OneTrip(trngStatus='NotTrained',state=328,):\n",
        "    env.reset()\n",
        "    env.s = state  # set environment to illustration's state\n",
        "    epochs = 0\n",
        "    penalties, reward = 0, 0\n",
        "    frames = [] # for animation\n",
        "    done = False\n",
        "    while not done:\n",
        "        \n",
        "        if not(trngStatus == 'Trained'):\n",
        "            action = env.action_space.sample()  # take random action\n",
        "        else:\n",
        "            if np.all(Q[state] == Q[state][0]):\n",
        "                action = env.action_space.sample()  # take random action\n",
        "            else:\n",
        "                action = np.argmax(Q[state])  # take trained action\n",
        "        state, reward, done, info = env.step(action)\n",
        "        if reward == -10:\n",
        "            penalties += 1\n",
        "        # Put each rendered frame into dict for animation\n",
        "        frames.append({\n",
        "            #'frame': env.render(mode='ansi')[0],\n",
        "            'frame': env.render()[0],\n",
        "            'state': state,\n",
        "            'action': action,\n",
        "            'reward': reward,\n",
        "            'state2':list(env.decode(state)),\n",
        "            'completion': done\n",
        "            }\n",
        "        )\n",
        "        #print('Epoch: ', epochs,' State ',state)\n",
        "        epochs += 1\n",
        "        if (epochs > 10000):\n",
        "            print('Non Ending Loop')\n",
        "            done = True\n",
        "    return(epochs, penalties,frames)\n"
      ],
      "execution_count": null,
      "outputs": []
    },
    {
      "cell_type": "code",
      "metadata": {
        "colab": {
          "base_uri": "https://localhost:8080/"
        },
        "id": "GB7xafHMdt2o",
        "outputId": "747a7945-384c-4b4b-9d60-12baa3210993"
      },
      "source": [
        "e,p,movieNT = OneTrip()\n",
        "print(e,p)"
      ],
      "execution_count": null,
      "outputs": [
        {
          "output_type": "stream",
          "name": "stdout",
          "text": [
            "1575 524\n"
          ]
        }
      ]
    },
    {
      "cell_type": "code",
      "source": [
        "a2T = ['goSouth','goNorth','goEast','goWest','pickUp','dropOff']\n",
        "for i in range(5) :\n",
        "    print(a2T[i])"
      ],
      "metadata": {
        "colab": {
          "base_uri": "https://localhost:8080/"
        },
        "id": "A_vGjJtWmWed",
        "outputId": "bdaa906d-e560-4886-b452-574ba6c2170a"
      },
      "execution_count": null,
      "outputs": [
        {
          "output_type": "stream",
          "name": "stdout",
          "text": [
            "goSouth\n",
            "goNorth\n",
            "goEast\n",
            "goWest\n",
            "pickUp\n"
          ]
        }
      ]
    },
    {
      "cell_type": "code",
      "metadata": {
        "id": "vXF30WMQePkU"
      },
      "source": [
        "def playBack(frames,speed='Fast',cut=True):\n",
        "    for i, cframe in enumerate(frames):\n",
        "        clear_output(wait=True)\n",
        "        print(cframe['frame'])\n",
        "        print(\"Step \",i,' Action ', cframe['action'],a2T[cframe['action']],' Reward ',cframe['reward'])\n",
        "        print(f'State: ',cframe['state'],' -> ',cframe['state2'])\n",
        "        \n",
        "        if (cframe['completion']):\n",
        "            print('Done')\n",
        "        if (speed == 'Fast'):\n",
        "            sleep(.1)\n",
        "        else:\n",
        "            sleep(1)\n",
        "        if cut and (i > 200):\n",
        "            print('Cut!')\n",
        "            return(i)\n",
        "    return(i)"
      ],
      "execution_count": null,
      "outputs": []
    },
    {
      "cell_type": "code",
      "metadata": {
        "colab": {
          "base_uri": "https://localhost:8080/"
        },
        "id": "rIfH42eFgsS6",
        "outputId": "8bff421f-6647-4e3f-e219-3964bdd453f4"
      },
      "source": [
        "#playBack(movieNT,'Slow')\n",
        "playBack(movieNT)"
      ],
      "execution_count": null,
      "outputs": [
        {
          "output_type": "stream",
          "name": "stdout",
          "text": [
            "+---------+\n",
            "|\u001b[35mR\u001b[0m: | : :G|\n",
            "| : | : : |\n",
            "| : : : :\u001b[43m \u001b[0m|\n",
            "| | : | : |\n",
            "|\u001b[34;1mY\u001b[0m| : |B: |\n",
            "+---------+\n",
            "  (South)\n",
            "\n",
            "Step  201  Action  0 goSouth  Reward  -1\n",
            "State:  288  ->  [2, 4, 2, 0]\n",
            "Cut!\n"
          ]
        },
        {
          "output_type": "execute_result",
          "data": {
            "text/plain": [
              "201"
            ]
          },
          "metadata": {},
          "execution_count": 30
        }
      ]
    },
    {
      "cell_type": "markdown",
      "metadata": {
        "id": "-hsw0oaGZR_H"
      },
      "source": [
        "#Training # 1"
      ]
    },
    {
      "cell_type": "code",
      "metadata": {
        "id": "xtNkMu_OX0zF"
      },
      "source": [
        "#Train the system\n",
        "#\n",
        "def RLTrainer(alpha, gamma, epsilon, total_episodes):\n",
        "\n",
        "    global all_epochs, all_penalties, Q\n",
        "    # For plotting metrics\n",
        "    all_epochs = []\n",
        "    all_penalties = []\n",
        "\n",
        "    Q = np.zeros([env.observation_space.n, env.action_space.n])\n",
        "\n",
        "    for i in range(1, total_episodes+1):\n",
        "        state = env.reset()\n",
        "\n",
        "        epochs, penalties, reward, = 0, 0, 0\n",
        "        done = False\n",
        "        \n",
        "        while not done:\n",
        "            if random.uniform(0, 1) < epsilon:\n",
        "                action = env.action_space.sample() # Explore action space\n",
        "            else:\n",
        "                action = np.argmax(Q[state]) # Exploit learned values\n",
        "\n",
        "            next_state, reward, done, info = env.step(action) \n",
        "            \n",
        "            old_value = Q[state, action]\n",
        "            next_max = np.max(Q[next_state])\n",
        "            \n",
        "            new_value = (1 - alpha) * old_value + alpha * (reward + gamma * next_max)\n",
        "            Q[state, action] = new_value\n",
        "\n",
        "            if reward == -10:\n",
        "                penalties += 1\n",
        "\n",
        "            state = next_state\n",
        "            epochs += 1\n",
        "            \n",
        "        if i % 100 == 0:\n",
        "            clear_output(wait=True)\n",
        "            print('Episode ',i)\n",
        "        all_epochs.append(epochs)\n",
        "        all_penalties.append(penalties)\n",
        "    print(\"Training finished.\\n\")"
      ],
      "execution_count": null,
      "outputs": []
    },
    {
      "cell_type": "code",
      "metadata": {
        "colab": {
          "base_uri": "https://localhost:8080/"
        },
        "id": "H0bPCXdzMLr8",
        "outputId": "5a5dc342-1be9-4b28-ea01-3f783bff2708"
      },
      "source": [
        "%%time\n",
        "\"\"\"Training the agent\"\"\"\n",
        "\n",
        "# Hyperparameters\n",
        "_alpha = 0.1\n",
        "_gamma = 0.6\n",
        "_epsilon = 0.1\n",
        "total_episodes = 100000\n",
        "\n",
        "RLTrainer(_alpha, _gamma, _epsilon, total_episodes)\n"
      ],
      "execution_count": null,
      "outputs": [
        {
          "output_type": "stream",
          "name": "stdout",
          "text": [
            "Episode  100000\n",
            "Training finished.\n",
            "\n",
            "CPU times: user 2min 31s, sys: 19.8 s, total: 2min 51s\n",
            "Wall time: 2min 25s\n"
          ]
        }
      ]
    },
    {
      "cell_type": "code",
      "metadata": {
        "colab": {
          "base_uri": "https://localhost:8080/",
          "height": 621
        },
        "id": "Ig8nrwWcQdUV",
        "outputId": "da21c109-bc42-4d18-a5d6-62fbed6702b6"
      },
      "source": [
        "#Visualizing results and total reward over all episodes\n",
        "x = range(total_episodes)\n",
        "plt.rcParams[\"figure.figsize\"] = (10,10)\n",
        "\n",
        "plt.subplot(2, 1, 1)\n",
        "plt.plot(x, all_epochs)\n",
        "plt.title('Reducing Epochs')\n",
        "plt.ylabel('Epochs / Trips')\n",
        "\n",
        "\n",
        "plt.subplot(2, 1, 2)\n",
        "plt.plot(x, all_penalties)\n",
        "plt.title('Reducing Penalties')\n",
        "plt.xlabel('Episodes')\n",
        "plt.ylabel('Reducing Penalties')\n",
        "\n",
        "plt.show()"
      ],
      "execution_count": null,
      "outputs": [
        {
          "output_type": "display_data",
          "data": {
            "text/plain": [
              "<Figure size 720x720 with 2 Axes>"
            ],
            "image/png": "[encoded data removed]"
          },
          "metadata": {
            "needs_background": "light"
          }
        }
      ]
    },
    {
      "cell_type": "markdown",
      "metadata": {
        "id": "uDRcyVnGZZqK"
      },
      "source": [
        "#Review of Training #1"
      ]
    },
    {
      "cell_type": "code",
      "metadata": {
        "colab": {
          "base_uri": "https://localhost:8080/"
        },
        "id": "LaP2f8GLjcgF",
        "outputId": "2a2e10c6-68a0-4585-fd74-9ee1521e25af"
      },
      "source": [
        "e,p,movieRT = OneTrip('Trained',328)\n",
        "print(e,p)"
      ],
      "execution_count": null,
      "outputs": [
        {
          "output_type": "stream",
          "name": "stdout",
          "text": [
            "11 0\n"
          ]
        }
      ]
    },
    {
      "cell_type": "code",
      "metadata": {
        "colab": {
          "base_uri": "https://localhost:8080/"
        },
        "id": "m_XkbChxkVb3",
        "outputId": "cb1799ae-74c5-4685-b2aa-ea6769b8038f"
      },
      "source": [
        "playBack(movieRT,'Slow')"
      ],
      "execution_count": null,
      "outputs": [
        {
          "output_type": "stream",
          "name": "stdout",
          "text": [
            "+---------+\n",
            "|R: | : :\u001b[35m\u001b[34;1m\u001b[43mG\u001b[0m\u001b[0m\u001b[0m|\n",
            "| : | : : |\n",
            "| : : : : |\n",
            "| | : | : |\n",
            "|Y| : |B: |\n",
            "+---------+\n",
            "  (Dropoff)\n",
            "\n",
            "Step  10  Action  5  Reward  20\n",
            "State:  85  ->  [0, 4, 1, 1]\n",
            "Done\n"
          ]
        },
        {
          "output_type": "execute_result",
          "data": {
            "text/plain": [
              "10"
            ]
          },
          "metadata": {},
          "execution_count": 20
        }
      ]
    },
    {
      "cell_type": "code",
      "metadata": {
        "colab": {
          "base_uri": "https://localhost:8080/"
        },
        "id": "XagitcBoogB0",
        "outputId": "3ffb6389-f609-40a9-bc3d-e6078153f762"
      },
      "source": [
        "E, P, samples = [],[],1000\n",
        "for _ in range(0,samples):\n",
        "    startState=random.randint(0,499)\n",
        "    e,p,movieRT = OneTrip('Trained',startState)\n",
        "    E.append(e)\n",
        "    P.append(p)\n",
        "    #print(startState,e,p)\n",
        "meanE = round(sum(E)/len(E))\n",
        "meanP = round(sum(P)/len(P))\n",
        "print('mean of ',samples,' samples >' 'epochs: ', meanE, 'penalties: ', meanP)\n"
      ],
      "execution_count": null,
      "outputs": [
        {
          "output_type": "stream",
          "name": "stdout",
          "text": [
            "mean of  1000  samples >epochs:  14 penalties:  0\n"
          ]
        }
      ]
    },
    {
      "cell_type": "code",
      "metadata": {
        "colab": {
          "base_uri": "https://localhost:8080/",
          "height": 699
        },
        "id": "QemlGm_FE-DN",
        "outputId": "2368bd1d-712b-485a-b77b-9d16c4e537e4"
      },
      "source": [
        "Percentile,NumEpochs,NumPenalties = [],[],[]\n",
        "for z in range(0,101,5):\n",
        "    print('percentile: ',z,'epochs: ', round(np.percentile(E,z)), 'penalties: ', round(np.percentile(P,z)))\n",
        "    Percentile.append(z)\n",
        "    NumEpochs.append(np.percentile(E,z))\n",
        "    NumPenalties.append(np.percentile(P,z))\n",
        "\n",
        "plt.rcParams[\"figure.figsize\"] = (10,5)\n",
        "plt.plot(Percentile, NumEpochs, label='Epochs')\n",
        "plt.plot(Percentile, NumPenalties,label='Penalties')\n",
        "plt.xlabel('Percentile')\n",
        "plt.ylabel('Number')\n",
        "plt.legend(loc='best')\n",
        "plt.show()"
      ],
      "execution_count": null,
      "outputs": [
        {
          "output_type": "stream",
          "name": "stdout",
          "text": [
            "percentile:  0 epochs:  7 penalties:  0\n",
            "percentile:  5 epochs:  10 penalties:  0\n",
            "percentile:  10 epochs:  11 penalties:  0\n",
            "percentile:  15 epochs:  11 penalties:  0\n",
            "percentile:  20 epochs:  12 penalties:  0\n",
            "percentile:  25 epochs:  13 penalties:  0\n",
            "percentile:  30 epochs:  13 penalties:  0\n",
            "percentile:  35 epochs:  13 penalties:  0\n",
            "percentile:  40 epochs:  14 penalties:  0\n",
            "percentile:  45 epochs:  14 penalties:  0\n",
            "percentile:  50 epochs:  15 penalties:  0\n",
            "percentile:  55 epochs:  15 penalties:  0\n",
            "percentile:  60 epochs:  15 penalties:  0\n",
            "percentile:  65 epochs:  15 penalties:  0\n",
            "percentile:  70 epochs:  16 penalties:  0\n",
            "percentile:  75 epochs:  16 penalties:  0\n",
            "percentile:  80 epochs:  17 penalties:  0\n",
            "percentile:  85 epochs:  17 penalties:  0\n",
            "percentile:  90 epochs:  18 penalties:  0\n",
            "percentile:  95 epochs:  18 penalties:  1\n",
            "percentile:  100 epochs:  19 penalties:  1\n"
          ]
        },
        {
          "output_type": "display_data",
          "data": {
            "text/plain": [
              "<Figure size 720x360 with 1 Axes>"
            ],
            "image/png": "[encoded data removed]"
          },
          "metadata": {
            "needs_background": "light"
          }
        }
      ]
    },
    {
      "cell_type": "markdown",
      "metadata": {
        "id": "DQ0u_S9MGlbY"
      },
      "source": [
        "#Chronobooks <br>\n",
        "![alt text](https://1.bp.blogspot.com/-lTiYBkU2qbU/X1er__fvnkI/AAAAAAAAjtE/GhDR3OEGJr4NG43fZPodrQD5kbxtnKebgCLcBGAsYHQ/s600/Footer2020-600x200.png)<hr>\n",
        "Chronotantra and Chronoyantra are two science fiction novels that explore the collapse of human civilisation on Earth and then its rebirth and reincarnation both on Earth as well as on the distant worlds of Mars, Titan and Enceladus. But is it the human civilisation that is being reborn? Or is it some other sentience that is revealing itself. \n",
        "If you have an interest in AI and found this material useful, you may consider buying these novels, in paperback or kindle, from [http://bit.ly/chronobooks](http://bit.ly/chronobooks)"
      ]
    },
    {
      "cell_type": "markdown",
      "metadata": {
        "id": "fPFQFicIenBB"
      },
      "source": [
        "![CC-BY-SA](https://licensebuttons.net/l/by-sa/3.0/88x31.png) The contents of this website are released under creative commons "
      ]
    }
  ]
}