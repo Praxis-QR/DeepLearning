{
  "nbformat": 4,
  "nbformat_minor": 0,
  "metadata": {
    "colab": {
      "name": "AI DL Starter",
      "provenance": [],
      "include_colab_link": true
    },
    "kernelspec": {
      "name": "python3",
      "display_name": "Python 3"
    }
  },
  "cells": [
    {
      "cell_type": "markdown",
      "metadata": {
        "id": "view-in-github",
        "colab_type": "text"
      },
      "source": [
        "<a href=\"https://colab.research.google.com/github/Praxis-QR/DeepLearning/blob/main/AI_DL_Starter.ipynb\" target=\"_parent\"><img src=\"https://colab.research.google.com/assets/colab-badge.svg\" alt=\"Open In Colab\"/></a>"
      ]
    },
    {
      "cell_type": "markdown",
      "metadata": {
        "id": "5Ogmsatb2OBD"
      },
      "source": [
        "##Sample Google Colab Notebook for Beginners\n",
        "Make a copy of this notebook by taking the cursor to the Top Menu <br>\n",
        "File > Save a Copy in Drive <br>\n",
        "Then Rename the notebook by using the Top Menu again<br>\n",
        "File > Rename Notebook <br>\n",
        "Execute the command in the next 'cell' by moving the cursor to the next cell and pressing the little arrow that appears at the top left of the 'cell'"
      ]
    },
    {
      "cell_type": "code",
      "metadata": {
        "colab": {
          "base_uri": "https://localhost:8080/"
        },
        "id": "qRgY9aTT0ew9",
        "outputId": "0146d263-5b19-4a93-b33d-f8a72c373627"
      },
      "source": [
        "#This line is a comment because it starts with #\n",
        "#If your cursor is on this cell, you will see a little white-on-black arrow on the left\n",
        "#Press the arrow to execute all Python commands in this cell\n",
        "#The next line is a simple Python command\n",
        "print('Hello, Python in Colab')\n",
        "#Output will appear below"
      ],
      "execution_count": null,
      "outputs": [
        {
          "output_type": "stream",
          "text": [
            "Hello, Python in Colab\n"
          ],
          "name": "stdout"
        }
      ]
    },
    {
      "cell_type": "code",
      "metadata": {
        "colab": {
          "base_uri": "https://localhost:8080/"
        },
        "id": "IxiqOZQt4ufJ",
        "outputId": "87a067e8-50aa-485b-c4f2-3d918878027c"
      },
      "source": [
        "x = 2\n",
        "y = 3\n",
        "z = x + y\n",
        "print('values are', x,y,z)"
      ],
      "execution_count": null,
      "outputs": [
        {
          "output_type": "stream",
          "text": [
            "values are 2 3 5\n"
          ],
          "name": "stdout"
        }
      ]
    }
  ]
}