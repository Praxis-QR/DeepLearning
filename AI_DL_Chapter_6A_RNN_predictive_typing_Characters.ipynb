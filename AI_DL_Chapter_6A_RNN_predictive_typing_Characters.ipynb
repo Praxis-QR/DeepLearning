{
  "nbformat": 4,
  "nbformat_minor": 0,
  "metadata": {
    "colab": {
      "name": "AI DL Chapter 6A RNN predictive typing - Characters",
      "provenance": [],
      "collapsed_sections": [],
      "include_colab_link": true
    },
    "kernelspec": {
      "name": "python3",
      "display_name": "Python 3"
    },
    "accelerator": "GPU"
  },
  "cells": [
    {
      "cell_type": "markdown",
      "metadata": {
        "id": "view-in-github",
        "colab_type": "text"
      },
      "source": [
        "<a href=\"https://colab.research.google.com/github/Praxis-QR/DeepLearning/blob/main/AI_DL_Chapter_6A_RNN_predictive_typing_Characters.ipynb\" target=\"_parent\"><img src=\"https://colab.research.google.com/assets/colab-badge.svg\" alt=\"Open In Colab\"/></a>"
      ]
    },
    {
      "cell_type": "markdown",
      "metadata": {
        "id": "GCB8Rv-gGCrN"
      },
      "source": [
        "![alt text](https://1.bp.blogspot.com/-WAjYIaQofo0/YEB0cQsSGSI/AAAAAAAAkoE/TpQcWBRGtu0N010lmiTS9cFHuGwXB45PQCLcBGAsYHQ/s16000/colabHeader00.png)<br>\n",
        "\n",
        "<hr>\n",
        "\n",
        "[Prithwis Mukerjee](http://www.yantrajaal.com) / [Praxis Business School](http://praxis.ac.in/) / [Book Website](http://aidl4managers.blogspot.com) "
      ]
    },
    {
      "cell_type": "markdown",
      "metadata": {
        "id": "BMZ55u8zjZdT"
      },
      "source": [
        "Based on https://medium.com/@curiousily/making-a-predictive-keyboard-using-recurrent-neural-networks-tensorflow-for-hackers-part-v-3f238d824218 <br>\n",
        "https://medium.com/analytics-vidhya/build-a-simple-predictive-keyboard-using-python-and-keras-b78d3c88cffb <br>\n",
        "https://machinelearningmastery.com/text-generation-lstm-recurrent-neural-networks-python-keras/\n"
      ]
    },
    {
      "cell_type": "markdown",
      "metadata": {
        "id": "SvbwKv7ytjHz"
      },
      "source": [
        "Use a GPU Runtime"
      ]
    },
    {
      "cell_type": "code",
      "metadata": {
        "id": "jc-_R3QwdSiy"
      },
      "source": [
        "import numpy as np\n",
        "np.random.seed(39)\n",
        "import tensorflow as tf\n",
        "tf.random.set_seed(39)\n",
        "from keras.models import Sequential, load_model\n",
        "from keras.layers import Dense, Activation\n",
        "from keras.layers import LSTM, Dropout\n",
        "from keras.layers import TimeDistributed\n",
        "from keras.layers.core import Dense, Activation, Dropout, RepeatVector\n",
        "#from keras.optimizers import RMSprop -- https://stackoverflow.com/questions/64844140/importerror-cannot-import-name-rmsprop-from-keras-optimizers\n",
        "from tensorflow.keras.optimizers import RMSprop\n",
        "import matplotlib.pyplot as plt\n",
        "import pickle\n",
        "import sys\n",
        "import heapq\n",
        "import seaborn as sns\n",
        "from pylab import rcParams\n",
        "from nltk.tokenize import RegexpTokenizer\n",
        "%matplotlib inline\n",
        "sns.set(style='whitegrid', palette='muted', font_scale=1.5)\n",
        "rcParams['figure.figsize'] = 12, 5\n",
        "import re"
      ],
      "execution_count": 1,
      "outputs": []
    },
    {
      "cell_type": "code",
      "metadata": {
        "id": "ZexI6cnWdGQ5"
      },
      "source": [
        "#This step is required if and only if you wish to store the RNN model ( or any file on Google Colab) to Google Drive\n",
        "#\n",
        "#from google.colab import drive\n",
        "#drive.mount('/content/drive')"
      ],
      "execution_count": null,
      "outputs": []
    },
    {
      "cell_type": "code",
      "metadata": {
        "id": "nEujDxQbdXKi"
      },
      "source": [
        "#Lists the contents of the Google Drive of the GMail account that was connected to in the previous step\n",
        "#\n",
        "#!ls /content/drive/MyDrive/Praxis/'Non Syllabus'/'AI_DL for Business Managers'/Data"
      ],
      "execution_count": null,
      "outputs": []
    },
    {
      "cell_type": "code",
      "metadata": {
        "colab": {
          "base_uri": "https://localhost:8080/"
        },
        "id": "CanQZelFeS4I",
        "outputId": "d43f2bba-d5bb-45d3-df35-50903e00d2e4"
      },
      "source": [
        "# BEYOND GOOD AND EVIL  - Friedrich Nietzsche \n",
        "#!wget https://www.gutenberg.org/files/4363/4363.txt\n",
        "!wget https://raw.githubusercontent.com/Praxis-QR/DeepLearning/main/data/4363.txt\n",
        "\n",
        "# Moon and Sixpence - Somerset Maugham\n",
        "#!wget https://www.gutenberg.org/files/222/222.txt\n",
        "!wget https://raw.githubusercontent.com/Praxis-QR/DeepLearning/main/data/222.txt\n",
        "\n",
        "#The Adventures of Sherlock Holmes, by Arthur Conan Doyle\n",
        "#!wget https://www.gutenberg.org/files/1661/1661.txt\n",
        "#!wget https://www.gutenberg.org/files/1661/1661-0.txt\n",
        "!wget https://raw.githubusercontent.com/Praxis-QR/DeepLearning/main/data/1661-0.txt\n",
        "\n"
      ],
      "execution_count": 2,
      "outputs": [
        {
          "output_type": "stream",
          "name": "stdout",
          "text": [
            "--2021-10-25 04:13:10--  https://raw.githubusercontent.com/Praxis-QR/DeepLearning/main/data/4363.txt\n",
            "Resolving raw.githubusercontent.com (raw.githubusercontent.com)... 185.199.108.133, 185.199.109.133, 185.199.111.133, ...\n",
            "Connecting to raw.githubusercontent.com (raw.githubusercontent.com)|185.199.108.133|:443... connected.\n",
            "HTTP request sent, awaiting response... 200 OK\n",
            "Length: 402299 (393K) [text/plain]\n",
            "Saving to: ‘4363.txt’\n",
            "\n",
            "4363.txt            100%[===================>] 392.87K  --.-KB/s    in 0.03s   \n",
            "\n",
            "2021-10-25 04:13:11 (11.5 MB/s) - ‘4363.txt’ saved [402299/402299]\n",
            "\n",
            "--2021-10-25 04:13:11--  https://raw.githubusercontent.com/Praxis-QR/DeepLearning/main/data/222.txt\n",
            "Resolving raw.githubusercontent.com (raw.githubusercontent.com)... 185.199.108.133, 185.199.109.133, 185.199.110.133, ...\n",
            "Connecting to raw.githubusercontent.com (raw.githubusercontent.com)|185.199.108.133|:443... connected.\n",
            "HTTP request sent, awaiting response... 200 OK\n",
            "Length: 426784 (417K) [text/plain]\n",
            "Saving to: ‘222.txt’\n",
            "\n",
            "222.txt             100%[===================>] 416.78K  --.-KB/s    in 0.04s   \n",
            "\n",
            "2021-10-25 04:13:11 (11.2 MB/s) - ‘222.txt’ saved [426784/426784]\n",
            "\n",
            "--2021-10-25 04:13:11--  https://raw.githubusercontent.com/Praxis-QR/DeepLearning/main/data/1661-0.txt\n",
            "Resolving raw.githubusercontent.com (raw.githubusercontent.com)... 185.199.108.133, 185.199.109.133, 185.199.110.133, ...\n",
            "Connecting to raw.githubusercontent.com (raw.githubusercontent.com)|185.199.108.133|:443... connected.\n",
            "HTTP request sent, awaiting response... 200 OK\n",
            "Length: 595126 (581K) [text/plain]\n",
            "Saving to: ‘1661-0.txt’\n",
            "\n",
            "1661-0.txt          100%[===================>] 581.18K  --.-KB/s    in 0.04s   \n",
            "\n",
            "2021-10-25 04:13:11 (13.7 MB/s) - ‘1661-0.txt’ saved [595126/595126]\n",
            "\n"
          ]
        }
      ]
    },
    {
      "cell_type": "code",
      "metadata": {
        "id": "0YI6o9P4j95X"
      },
      "source": [
        "def readClean(fileName):\n",
        "    text = open(fileName).read().lower()\n",
        "    len(text),text\n",
        "    text = text[1500:]                                                   # remove the first 1500 characters   \n",
        "    size = len(text)                                                     # length of string\n",
        "    text = text[:size - 18000]                                           # remove last 18000 characters of string, the license\n",
        "    #text = re.sub('[-!@#$\\n\\t.,\"*%?><;:()/\\[\\]0123456789&_]', ' ', text) # replace [!@#$]\\n\\twith space\n",
        "    text = re.sub('[-!@#$\\n\\t.,\"*%?><;:()/\\[\\]0123456789&_£½àâæèœ—‘’“”é]', ' ', text)\n",
        "    text = re.sub('\\s+',' ',text)                                        # replace multiple white space with single space\n",
        "    return text"
      ],
      "execution_count": 3,
      "outputs": []
    },
    {
      "cell_type": "code",
      "metadata": {
        "colab": {
          "base_uri": "https://localhost:8080/"
        },
        "id": "n3ERhCVQM-4j",
        "outputId": "16685a8e-7a22-42b7-adf0-6ed8b9f6a460"
      },
      "source": [
        "text = readClean('222.txt')+' '+readClean('4363.txt')+' '+readClean('1661-0.txt')\n",
        "print('corpus length:', len(text), 'characters')"
      ],
      "execution_count": 4,
      "outputs": [
        {
          "output_type": "stream",
          "name": "stdout",
          "text": [
            "corpus length: 1295097 characters\n"
          ]
        }
      ]
    },
    {
      "cell_type": "code",
      "metadata": {
        "colab": {
          "base_uri": "https://localhost:8080/"
        },
        "id": "wPMjbFn2e9pV",
        "outputId": "1f8db501-4dde-48e1-ab2b-f3df85212821"
      },
      "source": [
        "chars = sorted(list(set(text)))\n",
        "char_indices = dict((c, i) for i, c in enumerate(chars))\n",
        "indices_char = dict((i, c) for i, c in enumerate(chars))\n",
        "\n",
        "print('unique chars: ', len(chars))\n",
        "#print(chars)\n",
        "#print(char_indices)"
      ],
      "execution_count": 5,
      "outputs": [
        {
          "output_type": "stream",
          "name": "stdout",
          "text": [
            "unique chars:  28\n"
          ]
        }
      ]
    },
    {
      "cell_type": "code",
      "metadata": {
        "colab": {
          "base_uri": "https://localhost:8080/"
        },
        "id": "eMgy0liXfEU8",
        "outputId": "991046a8-bfb8-4463-802d-86c161af1d39"
      },
      "source": [
        "SEQUENCE_LENGTH = 40\n",
        "step = 3\n",
        "sentences = []\n",
        "next_chars = []\n",
        "for i in range(0, len(text) - SEQUENCE_LENGTH, step):\n",
        "    sentences.append(text[i: i + SEQUENCE_LENGTH])\n",
        "    next_chars.append(text[i + SEQUENCE_LENGTH])\n",
        "print('Number of training examples: ',len(sentences))"
      ],
      "execution_count": 6,
      "outputs": [
        {
          "output_type": "stream",
          "name": "stdout",
          "text": [
            "Number of training examples:  431686\n"
          ]
        }
      ]
    },
    {
      "cell_type": "code",
      "metadata": {
        "id": "uJVSUb7UfLtC",
        "colab": {
          "base_uri": "https://localhost:8080/"
        },
        "outputId": "27312b3a-275f-4ba6-8845-0a60a0232ad7"
      },
      "source": [
        "%%time\n",
        "X = np.zeros((len(sentences), SEQUENCE_LENGTH, len(chars)), dtype=np.bool)\n",
        "y = np.zeros((len(sentences), len(chars)), dtype=np.bool)\n",
        "for i, sentence in enumerate(sentences):\n",
        "    for t, char in enumerate(sentence):\n",
        "        X[i, t, char_indices[char]] = 1\n",
        "    y[i, char_indices[next_chars[i]]] = 1"
      ],
      "execution_count": 8,
      "outputs": [
        {
          "output_type": "stream",
          "name": "stdout",
          "text": [
            "CPU times: user 6.18 s, sys: 257 ms, total: 6.44 s\n",
            "Wall time: 6.44 s\n"
          ]
        }
      ]
    },
    {
      "cell_type": "code",
      "metadata": {
        "id": "RDIYBwqTfQXw"
      },
      "source": [
        "#sentences[101],next_chars[101]\n",
        "#X[101][0]\n",
        "#y[101]"
      ],
      "execution_count": 9,
      "outputs": []
    },
    {
      "cell_type": "code",
      "metadata": {
        "id": "S89delIGfm_j",
        "colab": {
          "base_uri": "https://localhost:8080/"
        },
        "outputId": "5f82d6e6-e631-434c-8bcb-e3c08f43eccf"
      },
      "source": [
        "X.shape,y.shape"
      ],
      "execution_count": 10,
      "outputs": [
        {
          "output_type": "execute_result",
          "data": {
            "text/plain": [
              "((431686, 40, 28), (431686, 28))"
            ]
          },
          "metadata": {},
          "execution_count": 10
        }
      ]
    },
    {
      "cell_type": "code",
      "metadata": {
        "id": "ZXm0lt4ofxme",
        "colab": {
          "base_uri": "https://localhost:8080/"
        },
        "outputId": "e9959285-51f8-4d03-8532-94bc8a8dc179"
      },
      "source": [
        "model = Sequential()\n",
        "model.add(LSTM(128, input_shape=(SEQUENCE_LENGTH, len(chars))))\n",
        "#model.add(Dropout(0.2))\n",
        "#model.add(LSTM(128))\n",
        "#model.add(Dropout(0.2))\n",
        "model.add(Dense(len(chars)))\n",
        "model.add(Activation('softmax'))\n",
        "model.summary()"
      ],
      "execution_count": 11,
      "outputs": [
        {
          "output_type": "stream",
          "name": "stdout",
          "text": [
            "Model: \"sequential\"\n",
            "_________________________________________________________________\n",
            "Layer (type)                 Output Shape              Param #   \n",
            "=================================================================\n",
            "lstm (LSTM)                  (None, 128)               80384     \n",
            "_________________________________________________________________\n",
            "dense (Dense)                (None, 28)                3612      \n",
            "_________________________________________________________________\n",
            "activation (Activation)      (None, 28)                0         \n",
            "=================================================================\n",
            "Total params: 83,996\n",
            "Trainable params: 83,996\n",
            "Non-trainable params: 0\n",
            "_________________________________________________________________\n"
          ]
        }
      ]
    },
    {
      "cell_type": "code",
      "metadata": {
        "id": "wUKm2afGf3uF"
      },
      "source": [
        "#optimizer = RMSprop(lr=0.01)\n",
        "optimizer = RMSprop(learning_rate=0.01)\n",
        "model.compile(loss='categorical_crossentropy', optimizer=optimizer, metrics=['accuracy'])"
      ],
      "execution_count": 12,
      "outputs": []
    },
    {
      "cell_type": "code",
      "metadata": {
        "id": "IYXosoByf8PW",
        "colab": {
          "base_uri": "https://localhost:8080/"
        },
        "outputId": "1f3eb8da-170a-4069-860e-6d879f569fad"
      },
      "source": [
        "%%time\n",
        "#this model fitting will take some time\n",
        "# we do not run this model, load a previously fitted model\n",
        "history = model.fit(X, y, validation_split=0.05, batch_size=128, epochs=20, shuffle=True).history\n",
        "#\n",
        "#\n",
        "# if you do not run this model, skip a couple of cells and download a trained model"
      ],
      "execution_count": 13,
      "outputs": [
        {
          "output_type": "stream",
          "name": "stdout",
          "text": [
            "Epoch 1/20\n",
            "3204/3204 [==============================] - 58s 16ms/step - loss: 1.7043 - accuracy: 0.4768 - val_loss: 1.4974 - val_accuracy: 0.5374\n",
            "Epoch 2/20\n",
            "3204/3204 [==============================] - 49s 15ms/step - loss: 1.4641 - accuracy: 0.5438 - val_loss: 1.4222 - val_accuracy: 0.5552\n",
            "Epoch 3/20\n",
            "3204/3204 [==============================] - 49s 15ms/step - loss: 1.4099 - accuracy: 0.5597 - val_loss: 1.4118 - val_accuracy: 0.5557\n",
            "Epoch 4/20\n",
            "3204/3204 [==============================] - 49s 15ms/step - loss: 1.3803 - accuracy: 0.5678 - val_loss: 1.3909 - val_accuracy: 0.5621\n",
            "Epoch 5/20\n",
            "3204/3204 [==============================] - 48s 15ms/step - loss: 1.3605 - accuracy: 0.5735 - val_loss: 1.3854 - val_accuracy: 0.5672\n",
            "Epoch 6/20\n",
            "3204/3204 [==============================] - 49s 15ms/step - loss: 1.3473 - accuracy: 0.5772 - val_loss: 1.3815 - val_accuracy: 0.5714\n",
            "Epoch 7/20\n",
            "3204/3204 [==============================] - 48s 15ms/step - loss: 1.3363 - accuracy: 0.5804 - val_loss: 1.3774 - val_accuracy: 0.5698\n",
            "Epoch 8/20\n",
            "3204/3204 [==============================] - 48s 15ms/step - loss: 1.3272 - accuracy: 0.5830 - val_loss: 1.3762 - val_accuracy: 0.5683\n",
            "Epoch 9/20\n",
            "3204/3204 [==============================] - 48s 15ms/step - loss: 1.3197 - accuracy: 0.5849 - val_loss: 1.3733 - val_accuracy: 0.5726\n",
            "Epoch 10/20\n",
            "3204/3204 [==============================] - 48s 15ms/step - loss: 1.3142 - accuracy: 0.5863 - val_loss: 1.3719 - val_accuracy: 0.5734\n",
            "Epoch 11/20\n",
            "3204/3204 [==============================] - 47s 15ms/step - loss: 1.3097 - accuracy: 0.5878 - val_loss: 1.3628 - val_accuracy: 0.5740\n",
            "Epoch 12/20\n",
            "3204/3204 [==============================] - 44s 14ms/step - loss: 1.3059 - accuracy: 0.5894 - val_loss: 1.3702 - val_accuracy: 0.5739\n",
            "Epoch 13/20\n",
            "3204/3204 [==============================] - 43s 13ms/step - loss: 1.3011 - accuracy: 0.5902 - val_loss: 1.3668 - val_accuracy: 0.5751\n",
            "Epoch 14/20\n",
            "3204/3204 [==============================] - 43s 13ms/step - loss: 1.2983 - accuracy: 0.5914 - val_loss: 1.3623 - val_accuracy: 0.5765\n",
            "Epoch 15/20\n",
            "3204/3204 [==============================] - 43s 14ms/step - loss: 1.2944 - accuracy: 0.5925 - val_loss: 1.3654 - val_accuracy: 0.5774\n",
            "Epoch 16/20\n",
            "3204/3204 [==============================] - 43s 13ms/step - loss: 1.2909 - accuracy: 0.5931 - val_loss: 1.3588 - val_accuracy: 0.5745\n",
            "Epoch 17/20\n",
            "3204/3204 [==============================] - 43s 13ms/step - loss: 1.2878 - accuracy: 0.5938 - val_loss: 1.3597 - val_accuracy: 0.5792\n",
            "Epoch 18/20\n",
            "3204/3204 [==============================] - 42s 13ms/step - loss: 1.2849 - accuracy: 0.5944 - val_loss: 1.3611 - val_accuracy: 0.5802\n",
            "Epoch 19/20\n",
            "3204/3204 [==============================] - 42s 13ms/step - loss: 1.2821 - accuracy: 0.5954 - val_loss: 1.3657 - val_accuracy: 0.5758\n",
            "Epoch 20/20\n",
            "3204/3204 [==============================] - 42s 13ms/step - loss: 1.2800 - accuracy: 0.5960 - val_loss: 1.3620 - val_accuracy: 0.5769\n",
            "CPU times: user 14min 13s, sys: 1min 12s, total: 15min 25s\n",
            "Wall time: 16min 24s\n"
          ]
        }
      ]
    },
    {
      "cell_type": "code",
      "metadata": {
        "colab": {
          "base_uri": "https://localhost:8080/",
          "height": 318
        },
        "id": "YbIVP-qrhzYQ",
        "outputId": "bfe8d5dd-a24b-4de8-982d-59e9ede4f33c"
      },
      "source": [
        "plt.plot(history['accuracy'])\n",
        "plt.plot(history['val_accuracy'])\n",
        "plt.title('model accuracy')\n",
        "plt.ylabel('accuracy')\n",
        "plt.xlabel('epoch')\n",
        "plt.legend(['train', 'test'], loc='upper left');"
      ],
      "execution_count": 14,
      "outputs": [
        {
          "output_type": "display_data",
          "data": {
            "image/png": "[encoded data removed]",
            "text/plain": [
              "<Figure size 432x288 with 1 Axes>"
            ]
          },
          "metadata": {
            "needs_background": "light"
          }
        }
      ]
    },
    {
      "cell_type": "code",
      "metadata": {
        "colab": {
          "base_uri": "https://localhost:8080/",
          "height": 318
        },
        "id": "nj3vs-d0iGrb",
        "outputId": "9ef43017-4af8-4253-f33e-b8fa85ec3444"
      },
      "source": [
        "plt.plot(history['loss'])\n",
        "plt.plot(history['val_loss'])\n",
        "plt.title('model loss')\n",
        "plt.ylabel('loss')\n",
        "plt.xlabel('epoch')\n",
        "plt.legend(['train', 'test'], loc='upper left');"
      ],
      "execution_count": 15,
      "outputs": [
        {
          "output_type": "display_data",
          "data": {
            "image/png": "[encoded data removed]",
            "text/plain": [
              "<Figure size 432x288 with 1 Axes>"
            ]
          },
          "metadata": {
            "needs_background": "light"
          }
        }
      ]
    },
    {
      "cell_type": "code",
      "metadata": {
        "id": "-DrEFe6HgvND"
      },
      "source": [
        "model.save('C3S40L128x1.h5')\n",
        "pickle.dump(history, open(\"history.p\", \"wb\"))"
      ],
      "execution_count": 16,
      "outputs": []
    },
    {
      "cell_type": "code",
      "metadata": {
        "colab": {
          "base_uri": "https://localhost:8080/"
        },
        "id": "TIR6VqHuY91y",
        "outputId": "5d11eb83-cab8-4e7c-aeda-8752bb5a17e8"
      },
      "source": [
        "#Download the trained model from author's Google Drive / Github\n",
        "#https://drive.google.com/file/d/1dbe6_GGRJ3Y3gN5bRN0Df4I1ZwfK2KI2/view?usp=sharing\n",
        "#!gdown https://drive.google.com/uc?id=1dbe6_GGRJ3Y3gN5bRN0Df4I1ZwfK2KI2\n",
        "#!gdown https://drive.google.com/uc?id=1fUitfV9gCtTsyuU29sMcX1m6Ufox4N8y   #more contemporary model\n",
        "!wget -O C3S40L128x1.h5 https://github.com/Praxis-QR/DeepLearning/blob/main/models/C3S40L128x1.h5?raw=true\n",
        "!wget -O history.p https://github.com/Praxis-QR/DeepLearning/blob/main/models/history.p?raw=true"
      ],
      "execution_count": 17,
      "outputs": [
        {
          "output_type": "stream",
          "name": "stdout",
          "text": [
            "--2021-10-25 04:36:16--  https://github.com/Praxis-QR/DeepLearning/blob/main/models/C3S40L128x1.h5?raw=true\n",
            "Resolving github.com (github.com)... 140.82.114.3\n",
            "Connecting to github.com (github.com)|140.82.114.3|:443... connected.\n",
            "HTTP request sent, awaiting response... 302 Found\n",
            "Location: https://github.com/Praxis-QR/DeepLearning/raw/main/models/C3S40L128x1.h5 [following]\n",
            "--2021-10-25 04:36:16--  https://github.com/Praxis-QR/DeepLearning/raw/main/models/C3S40L128x1.h5\n",
            "Reusing existing connection to github.com:443.\n",
            "HTTP request sent, awaiting response... 302 Found\n",
            "Location: https://raw.githubusercontent.com/Praxis-QR/DeepLearning/main/models/C3S40L128x1.h5 [following]\n",
            "--2021-10-25 04:36:16--  https://raw.githubusercontent.com/Praxis-QR/DeepLearning/main/models/C3S40L128x1.h5\n",
            "Resolving raw.githubusercontent.com (raw.githubusercontent.com)... 185.199.109.133, 185.199.111.133, 185.199.110.133, ...\n",
            "Connecting to raw.githubusercontent.com (raw.githubusercontent.com)|185.199.109.133|:443... connected.\n",
            "HTTP request sent, awaiting response... 200 OK\n",
            "Length: 700928 (684K) [application/octet-stream]\n",
            "Saving to: ‘C3S40L128x1.h5’\n",
            "\n",
            "C3S40L128x1.h5      100%[===================>] 684.50K  --.-KB/s    in 0.04s   \n",
            "\n",
            "2021-10-25 04:36:16 (15.7 MB/s) - ‘C3S40L128x1.h5’ saved [700928/700928]\n",
            "\n",
            "--2021-10-25 04:36:16--  https://github.com/Praxis-QR/DeepLearning/blob/main/models/history.p?raw=true\n",
            "Resolving github.com (github.com)... 140.82.112.3\n",
            "Connecting to github.com (github.com)|140.82.112.3|:443... connected.\n",
            "HTTP request sent, awaiting response... 302 Found\n",
            "Location: https://github.com/Praxis-QR/DeepLearning/raw/main/models/history.p [following]\n",
            "--2021-10-25 04:36:17--  https://github.com/Praxis-QR/DeepLearning/raw/main/models/history.p\n",
            "Reusing existing connection to github.com:443.\n",
            "HTTP request sent, awaiting response... 302 Found\n",
            "Location: https://raw.githubusercontent.com/Praxis-QR/DeepLearning/main/models/history.p [following]\n",
            "--2021-10-25 04:36:17--  https://raw.githubusercontent.com/Praxis-QR/DeepLearning/main/models/history.p\n",
            "Resolving raw.githubusercontent.com (raw.githubusercontent.com)... 185.199.108.133, 185.199.109.133, 185.199.110.133, ...\n",
            "Connecting to raw.githubusercontent.com (raw.githubusercontent.com)|185.199.108.133|:443... connected.\n",
            "HTTP request sent, awaiting response... 200 OK\n",
            "Length: 808 [application/octet-stream]\n",
            "Saving to: ‘history.p’\n",
            "\n",
            "history.p           100%[===================>]     808  --.-KB/s    in 0s      \n",
            "\n",
            "2021-10-25 04:36:17 (31.1 MB/s) - ‘history.p’ saved [808/808]\n",
            "\n"
          ]
        }
      ]
    },
    {
      "cell_type": "code",
      "metadata": {
        "id": "X4sP833Jht9o"
      },
      "source": [
        "model = load_model(\"C3S40L128x1.h5\")\n",
        "history = pickle.load(open(\"history.p\", \"rb\"))"
      ],
      "execution_count": 18,
      "outputs": []
    },
    {
      "cell_type": "code",
      "metadata": {
        "id": "DRHnjLYMiNA8"
      },
      "source": [
        "def Text2Array(text):\n",
        "    x = np.zeros((1, SEQUENCE_LENGTH, len(chars)))    \n",
        "    for t, char in enumerate(text):\n",
        "        x[0, t, char_indices[char]] = 1.\n",
        "    return x"
      ],
      "execution_count": 19,
      "outputs": []
    },
    {
      "cell_type": "code",
      "metadata": {
        "colab": {
          "base_uri": "https://localhost:8080/"
        },
        "id": "721zSTGfib5l",
        "outputId": "bb900bde-c993-4ee8-f38f-4ce661ba589d"
      },
      "source": [
        "Text2Array(\"This is an example of input for our LSTM\".lower())"
      ],
      "execution_count": 20,
      "outputs": [
        {
          "output_type": "execute_result",
          "data": {
            "text/plain": [
              "array([[[0., 0., 0., ..., 0., 0., 0.],\n",
              "        [0., 0., 0., ..., 0., 0., 0.],\n",
              "        [0., 0., 0., ..., 0., 0., 0.],\n",
              "        ...,\n",
              "        [0., 0., 0., ..., 0., 0., 0.],\n",
              "        [0., 0., 0., ..., 0., 0., 0.],\n",
              "        [0., 0., 0., ..., 0., 0., 0.]]])"
            ]
          },
          "metadata": {},
          "execution_count": 20
        }
      ]
    },
    {
      "cell_type": "code",
      "metadata": {
        "id": "xBjRALoyijfU"
      },
      "source": [
        "#Gets the indices of the top_n values in the array of predictions\n",
        "#Wicked programming\n",
        "def TopIndices(preds, top_n=3):\n",
        "    preds = np.asarray(preds).astype('float64')\n",
        "    preds = np.log(preds)\n",
        "    exp_preds = np.exp(preds)\n",
        "    preds = exp_preds / np.sum(exp_preds)\n",
        "    return heapq.nlargest(top_n, range(len(preds)), preds.take)"
      ],
      "execution_count": 21,
      "outputs": []
    },
    {
      "cell_type": "code",
      "metadata": {
        "id": "HseQTFpriqLt"
      },
      "source": [
        "#given an initial input sequence, predicts the next char\n",
        "#creates a new sequence by removing first char of initial input and \n",
        "#appending the predicted character\n",
        "#keeps on doing this until next char is blank\n",
        "#and has generated at least one more character\n",
        "#\n",
        "def GetSequence(text):\n",
        "    original_text = text\n",
        "    generated = text\n",
        "    completion = ''\n",
        "    while True:\n",
        "        x = Text2Array(text)\n",
        "        preds = model.predict(x, verbose=0)[0]\n",
        "        next_index = TopIndices(preds, top_n=1)[0]\n",
        "        next_char = indices_char[next_index]        \n",
        "        text = text[1:] + next_char\n",
        "        completion += next_char\n",
        "        if len(original_text + completion) + 2 > len(original_text) and next_char == ' ':\n",
        "            return completion"
      ],
      "execution_count": 22,
      "outputs": []
    },
    {
      "cell_type": "code",
      "metadata": {
        "id": "evNzRJosi2dh"
      },
      "source": [
        "#\n",
        "# gets top_n first characters \n",
        "# for each first character, gets a sequence of predicted subsequent characters\n",
        "#\n",
        "def GetNextOptions(text, n=3):\n",
        "    x = Text2Array(text)\n",
        "    preds = model.predict(x, verbose=0)[0]\n",
        "    next_indices = TopIndices(preds, n)\n",
        "    options = []\n",
        "    for idx in next_indices:\n",
        "        first_char = indices_char[idx]\n",
        "        next_chars = GetSequence(text[1:]+first_char)\n",
        "        option = first_char + next_chars\n",
        "        options.append(option)\n",
        "    return(options)\n",
        "    #return [indices_char[idx] + predict_completion(text[1:] + indices_char[idx]) for idx in next_indices]"
      ],
      "execution_count": 23,
      "outputs": []
    },
    {
      "cell_type": "code",
      "metadata": {
        "id": "llEykrfVi-ff"
      },
      "source": [
        "quotes = [\n",
        "    \"It is not a lack of love but a lack of friendship that makes unhappy marriages\",\n",
        "    \"That which does not kill us makes us stronger\",\n",
        "    \"I'm not upset that you lied to me I'm upset that from now on I can't believe you\",\n",
        "    \"And those who were seen dancing were thought to be insane by those who could not hear the music\",\n",
        "    \"It is hard enough to remember my opinions without also remembering my reasons for them\"\n",
        "]"
      ],
      "execution_count": 24,
      "outputs": []
    },
    {
      "cell_type": "code",
      "metadata": {
        "colab": {
          "base_uri": "https://localhost:8080/"
        },
        "id": "_QJF2VwVjGES",
        "outputId": "493d3176-cc2e-4e10-9e9d-931757a5b7d0"
      },
      "source": [
        "for q in quotes:\n",
        "    seq = q[:40].lower()\n",
        "    print(seq)\n",
        "    print(GetNextOptions(seq, 5))\n",
        "    print()"
      ],
      "execution_count": 25,
      "outputs": [
        {
          "output_type": "stream",
          "name": "stdout",
          "text": [
            "it is not a lack of love but a lack of f\n",
            "['act ', 'riend ', 'inger ', 'or ', 'ellow ']\n",
            "\n",
            "that which does not kill us makes us str\n"
          ]
        },
        {
          "output_type": "stream",
          "name": "stderr",
          "text": [
            "/usr/local/lib/python3.7/dist-packages/ipykernel_launcher.py:5: RuntimeWarning: divide by zero encountered in log\n",
            "  \"\"\"\n"
          ]
        },
        {
          "output_type": "stream",
          "name": "stdout",
          "text": [
            "['ickland ', 'oeve ', 'eet ', 'ange ', 'uggle ']\n",
            "\n",
            "i'm not upset that you lied to me i'm up\n",
            "['on ', ' the ', 'and ', 'ing ', 'ered ']\n",
            "\n",
            "and those who were seen dancing were tho\n",
            "['ugh ', 'se ', 'pbeagent ', 'ke ', 've ']\n",
            "\n",
            "it is hard enough to remember my opinion\n",
            "[' of ', 's ', 'g ', 'ative ', 'ing ']\n",
            "\n"
          ]
        }
      ]
    },
    {
      "cell_type": "markdown",
      "metadata": {
        "id": "8EPSTg2gGeDR"
      },
      "source": [
        "#Chronobooks <br>\n",
        "![alt text](https://1.bp.blogspot.com/-lTiYBkU2qbU/X1er__fvnkI/AAAAAAAAjtE/GhDR3OEGJr4NG43fZPodrQD5kbxtnKebgCLcBGAsYHQ/s600/Footer2020-600x200.png)<hr>\n",
        "Chronotantra and Chronoyantra are two science fiction novels that explore the collapse of human civilisation on Earth and then its rebirth and reincarnation both on Earth as well as on the distant worlds of Mars, Titan and Enceladus. But is it the human civilisation that is being reborn? Or is it some other sentience that is revealing itself. \n",
        "If you have an interest in AI and found this material useful, you may consider buying these novels, in paperback or kindle, from [http://bit.ly/chronobooks](http://bit.ly/chronobooks)"
      ]
    },
    {
      "cell_type": "markdown",
      "metadata": {
        "id": "5DxBStv5eKTx"
      },
      "source": [
        "![CC-BY-SA](https://licensebuttons.net/l/by-sa/3.0/88x31.png) The contents of this website are released under creative commons "
      ]
    }
  ]
}