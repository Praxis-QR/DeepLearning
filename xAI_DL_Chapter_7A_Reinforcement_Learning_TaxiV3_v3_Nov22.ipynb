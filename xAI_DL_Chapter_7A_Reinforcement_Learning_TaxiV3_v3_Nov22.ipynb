{
  "nbformat": 4,
  "nbformat_minor": 0,
  "metadata": {
    "colab": {
      "provenance": [],
      "toc_visible": true,
      "include_colab_link": true
    },
    "kernelspec": {
      "name": "python3",
      "display_name": "Python 3"
    }
  },
  "cells": [
    {
      "cell_type": "markdown",
      "metadata": {
        "id": "view-in-github",
        "colab_type": "text"
      },
      "source": [
        "<a href=\"https://colab.research.google.com/github/Praxis-QR/DeepLearning/blob/main/AI_DL_Chapter_7A_Reinforcement_Learning_TaxiV3_v3_Nov22.ipynb\" target=\"_parent\"><img src=\"https://colab.research.google.com/assets/colab-badge.svg\" alt=\"Open In Colab\"/></a>"
      ]
    },
    {
      "cell_type": "markdown",
      "metadata": {
        "id": "AfTioYbkGJXR"
      },
      "source": [
        "![alt text](https://1.bp.blogspot.com/-WAjYIaQofo0/YEB0cQsSGSI/AAAAAAAAkoE/TpQcWBRGtu0N010lmiTS9cFHuGwXB45PQCLcBGAsYHQ/s16000/colabHeader00.png)<br>\n",
        "\n",
        "<hr>\n",
        "\n",
        "[Prithwis Mukerjee](http://www.yantrajaal.com) / [Praxis Business School](http://praxis.ac.in/) / [Book Website](http://aidl4managers.blogspot.com) "
      ]
    },
    {
      "cell_type": "markdown",
      "metadata": {
        "id": "kE7HJgTiY9EO"
      },
      "source": [
        "#Taxi\n",
        "the original env.render() function that was rendering states wrongly has been replaced with a new envRender2() function."
      ]
    },
    {
      "cell_type": "markdown",
      "metadata": {
        "id": "myB1By1nk1l1"
      },
      "source": [
        "https://www.learndatasci.com/tutorials/reinforcement-q-learning-scratch-python-openai-gym/ <br>\n",
        "https://medium.com/swlh/introduction-to-q-learning-with-openai-gym-2d794da10f3d<br>\n",
        "https://www.gocoder.one/blog/rl-tutorial-with-openai-gym"
      ]
    },
    {
      "cell_type": "markdown",
      "metadata": {
        "id": "I_mO0C9PZCSP"
      },
      "source": [
        "#Imports, Installs"
      ]
    },
    {
      "cell_type": "code",
      "metadata": {
        "id": "9pHB1cTNk3JN"
      },
      "source": [
        "from IPython.display import clear_output\n",
        "import matplotlib.pyplot as plt\n",
        "import random\n",
        "from time import sleep\n",
        "import numpy as np\n",
        "import gym\n",
        "env = gym.make(\"Taxi-v3\",new_step_api=True,render_mode = 'ansi').env\n",
        "#env = gym.make(\"Taxi-v3\",render_mode = 'ansi').env"
      ],
      "execution_count": 1,
      "outputs": []
    },
    {
      "cell_type": "markdown",
      "metadata": {
        "id": "EFOp8673ZGca"
      },
      "source": [
        "#Graphical Displays"
      ]
    },
    {
      "cell_type": "code",
      "metadata": {
        "colab": {
          "base_uri": "https://localhost:8080/"
        },
        "id": "q88WKnhulxXQ",
        "outputId": "2dfb441a-33cf-4f14-da7e-94af4a8ee507"
      },
      "source": [
        "print(\"Action Space\",env.action_space)\n",
        "print(\"State Space\",env.observation_space)"
      ],
      "execution_count": 2,
      "outputs": [
        {
          "output_type": "stream",
          "name": "stdout",
          "text": [
            "Action Space Discrete(6)\n",
            "State Space Discrete(500)\n"
          ]
        }
      ]
    },
    {
      "cell_type": "code",
      "source": [
        "aRows, aCols = 5,5\n",
        "rows, cols = (aRows+4, aCols+8)\n",
        "def initMap():\n",
        "    #aRows, aCols = 5,5\n",
        "    #rows, cols = (aRows+4, aCols+8)\n",
        "    hw, vw, co, hl = '═', '║', '╬', ':'\n",
        "\n",
        "    bMap = [[' ' for i in range(cols)] for j in range(rows)]\n",
        "    for j in range(cols):\n",
        "        bMap[1][j] = hw\n",
        "    for j in range(cols):\n",
        "        bMap[rows-2][j] = hw\n",
        "    for i in range(rows):\n",
        "        bMap[i][1] = vw\n",
        "    for i in range(rows):\n",
        "        bMap[i][cols-2] = vw\n",
        "    bMap[2][0],bMap[2][cols-1],bMap[rows-3][0], bMap[rows-1][8] = 'R','G','Y','B'\n",
        "\n",
        "    for j in [3,5,7,9]:\n",
        "        for i in [2,3,4,5,6]:\n",
        "            bMap[i][j] = hl\n",
        "\n",
        "    bMap[rows-3][3], bMap[rows-4][3] = vw, vw\n",
        "    bMap[2][5],bMap[3][5]  = vw, vw\n",
        "    bMap[rows-3][7], bMap[rows-4][7] = vw, vw\n",
        "\n",
        "    bMap[1][1], bMap[1][cols-2] = co,co\n",
        "    bMap[rows-2][1],bMap[rows-2][cols-2] = co,co\n",
        "    return bMap\n",
        "\n",
        "def showMap(cM):\n",
        "    for row in cM:\n",
        "        for item in row:\n",
        "            print(item,end=' ')\n",
        "        print('')\n",
        "    #print(' ---')\n",
        "\n",
        "def setMap(tR,tC,pS,d):\n",
        "    #aRows, aCols = 5,5\n",
        "    #rows, cols = (aRows+4, aCols+8)\n",
        "    cM1 = initMap()\n",
        "    #eTaxi = 'E'\n",
        "    eTaxi = '\\033[1;32m█\\033[1;30m'\n",
        "    oTaxi = '\\033[1;33m█\\033[1;30m'\n",
        "\n",
        "    Taxi = eTaxi\n",
        "    pSym = 'P'\n",
        "    if (pS == 0):\n",
        "        cM1[0][0] = pSym\n",
        "    if (pS == 1):\n",
        "        cM1[0][cols-1] = pSym\n",
        "    if (pS == 2):\n",
        "        cM1[rows-1][0] = pSym\n",
        "    if (pS == 3):\n",
        "        cM1[rows-1][cols-4] = pSym\n",
        "    if (pS == 4):\n",
        "            #eTaxi = 'O'\n",
        "            #eTaxi = '\\033[1;33m▄\\033[1;30m'\n",
        "            Taxi = oTaxi\n",
        "    \n",
        "    if (tC == 0):\n",
        "        tCr = 2\n",
        "    if (tC == 1):\n",
        "        tCr = 4\n",
        "    if (tC == 2):\n",
        "        tCr = 6\n",
        "    if (tC == 3):\n",
        "        tCr = 8\n",
        "    if (tC == 4):\n",
        "        tCr = 10\n",
        "    cM1[tR+2][tCr] = Taxi\n",
        "    #renderMap(cM1)\n",
        "    return cM1\n",
        "\n",
        "def envRender2(s):\n",
        "    v = list(env.decode(s))\n",
        "    print('State ',s,v)\n",
        "    showMap(setMap(v[0],v[1],v[2],v[3]))\n",
        "    #\n",
        "    # next lines for debugging only\n",
        "    #for k,v in env.P[s].items():\n",
        "    #    print(v)\n"
      ],
      "metadata": {
        "id": "pfbfyFGt9OlL"
      },
      "execution_count": 3,
      "outputs": []
    },
    {
      "cell_type": "code",
      "metadata": {
        "id": "JNuq4OEhSXhS"
      },
      "source": [
        "# show a graphical representation of any state\n",
        "# along with the reward table P associated with 6 possible actions in this state\n",
        "# default values are used as sample if no input is provided\n",
        "#\n",
        "\n",
        "def showStateVec(txR=3, txC=1,pxI=2,des=0):\n",
        "    state = env.encode(txR,txC,pxI,des)\n",
        "    envRender2(state)\n",
        "\n",
        "# instead of using the vector representation of the state\n",
        "# we use the state identification number\n",
        "#\n",
        "\n",
        "def showStateNum(state=328):\n",
        "    envRender2(state)"
      ],
      "execution_count": 4,
      "outputs": []
    },
    {
      "cell_type": "code",
      "metadata": {
        "colab": {
          "base_uri": "https://localhost:8080/"
        },
        "id": "Jz24MLFiYE2y",
        "outputId": "19cdca9e-d8de-4e71-e315-541b4056ba32"
      },
      "source": [
        "# taxi at 3,1, passenger at 2, destination = 0\n",
        "# note, moving to the WEST is not possible, the position does not change\n",
        "showStateVec(3,1,3,0)"
      ],
      "execution_count": 5,
      "outputs": [
        {
          "output_type": "stream",
          "name": "stdout",
          "text": [
            "State  332 [3, 1, 3, 0]\n",
            "  ║                   ║   \n",
            "═ ╬ ═ ═ ═ ═ ═ ═ ═ ═ ═ ╬ ═ \n",
            "R ║   :   ║   :   :   ║ G \n",
            "  ║   :   ║   :   :   ║   \n",
            "  ║   :   :   :   :   ║   \n",
            "  ║   ║ \u001b[1;32m█\u001b[1;30m :   ║   :   ║   \n",
            "Y ║   ║   :   ║   :   ║   \n",
            "═ ╬ ═ ═ ═ ═ ═ ═ ═ ═ ═ ╬ ═ \n",
            "  ║             B P   ║   \n"
          ]
        }
      ]
    },
    {
      "cell_type": "code",
      "source": [
        "showStateNum(332)"
      ],
      "metadata": {
        "colab": {
          "base_uri": "https://localhost:8080/"
        },
        "id": "8hfI1hlnHQyf",
        "outputId": "0506932d-c16d-4826-fc07-a2e196993d90"
      },
      "execution_count": 6,
      "outputs": [
        {
          "output_type": "stream",
          "name": "stdout",
          "text": [
            "State  332 [3, 1, 3, 0]\n",
            "  ║                   ║   \n",
            "═ ╬ ═ ═ ═ ═ ═ ═ ═ ═ ═ ╬ ═ \n",
            "R ║   :   ║   :   :   ║ G \n",
            "  ║   :   ║   :   :   ║   \n",
            "  ║   :   :   :   :   ║   \n",
            "  ║   ║ \u001b[1;32m█\u001b[1;30m :   ║   :   ║   \n",
            "Y ║   ║   :   ║   :   ║   \n",
            "═ ╬ ═ ═ ═ ═ ═ ═ ═ ═ ═ ╬ ═ \n",
            "  ║             B P   ║   \n"
          ]
        }
      ]
    },
    {
      "cell_type": "code",
      "metadata": {
        "colab": {
          "base_uri": "https://localhost:8080/"
        },
        "id": "Y5sPP8XXSs6Q",
        "outputId": "55f376b1-ba93-4390-db08-811d66d7a505"
      },
      "source": [
        "# taxi at 4,3 passenger in taxi\n",
        "# destination is same as taxi position\n",
        "# a dropoff shows ride completion is True\n",
        "# change destination from 3 to 4 and note how rewards and completion status change\n",
        "#\n",
        "showStateVec(4,3,4,3)"
      ],
      "execution_count": 10,
      "outputs": [
        {
          "output_type": "stream",
          "name": "stdout",
          "text": [
            "State  479 [4, 3, 4, 3]\n",
            "  ║                   ║   \n",
            "═ ╬ ═ ═ ═ ═ ═ ═ ═ ═ ═ ╬ ═ \n",
            "R ║   :   ║   :   :   ║ G \n",
            "  ║   :   ║   :   :   ║   \n",
            "  ║   :   :   :   :   ║   \n",
            "  ║   ║   :   ║   :   ║   \n",
            "Y ║   ║   :   ║ \u001b[1;33m█\u001b[1;30m :   ║   \n",
            "═ ╬ ═ ═ ═ ═ ═ ═ ═ ═ ═ ╬ ═ \n",
            "  ║             B     ║   \n",
            "[(1.0, 479, -1, False)]\n",
            "[(1.0, 379, -1, False)]\n",
            "[(1.0, 499, -1, False)]\n",
            "[(1.0, 479, -1, False)]\n",
            "[(1.0, 479, -10, False)]\n",
            "[(1.0, 475, 20, True)]\n"
          ]
        }
      ]
    },
    {
      "cell_type": "code",
      "metadata": {
        "colab": {
          "base_uri": "https://localhost:8080/"
        },
        "id": "Sbb42UYDvsYF",
        "outputId": "cb1819b6-ed7b-4c98-d1d2-57dc83883e64"
      },
      "source": [
        "# taxi at 0,0 passenger in position 0\n",
        "# destination is 2\n",
        "#\n",
        "showStateVec(0,0,0,2)\n",
        "#trying to move North or West is impossible,\n",
        "#leaves system at same state 0"
      ],
      "execution_count": 7,
      "outputs": [
        {
          "output_type": "stream",
          "name": "stdout",
          "text": [
            "State  2 [0, 0, 0, 2]\n",
            "P ║                   ║   \n",
            "═ ╬ ═ ═ ═ ═ ═ ═ ═ ═ ═ ╬ ═ \n",
            "R ║ \u001b[1;32m█\u001b[1;30m :   ║   :   :   ║ G \n",
            "  ║   :   ║   :   :   ║   \n",
            "  ║   :   :   :   :   ║   \n",
            "  ║   ║   :   ║   :   ║   \n",
            "Y ║   ║   :   ║   :   ║   \n",
            "═ ╬ ═ ═ ═ ═ ═ ═ ═ ═ ═ ╬ ═ \n",
            "  ║             B     ║   \n",
            "[(1.0, 102, -1, False)]\n",
            "[(1.0, 2, -1, False)]\n",
            "[(1.0, 22, -1, False)]\n",
            "[(1.0, 2, -1, False)]\n",
            "[(1.0, 18, -1, False)]\n",
            "[(1.0, 2, -10, False)]\n"
          ]
        }
      ]
    },
    {
      "cell_type": "code",
      "metadata": {
        "colab": {
          "base_uri": "https://localhost:8080/"
        },
        "id": "dO4XtNTNbabE",
        "outputId": "67870426-8381-4c2b-e1e2-3c1a7768b13a"
      },
      "source": [
        "#check what happens when system moves to state 102, 22, 18\n",
        "# 102 moves South without pickup\n",
        "# 22 moves East without pickup\n",
        "# 18 picks up passenger, stay same place\n",
        "# if tries to drop, stays in same state, but collects large penalty\n",
        "#showStateNum(22)\n",
        "envRender2(22)"
      ],
      "execution_count": 8,
      "outputs": [
        {
          "output_type": "stream",
          "name": "stdout",
          "text": [
            "State  22 [0, 1, 0, 2]\n",
            "P ║                   ║   \n",
            "═ ╬ ═ ═ ═ ═ ═ ═ ═ ═ ═ ╬ ═ \n",
            "R ║   : \u001b[1;32m█\u001b[1;30m ║   :   :   ║ G \n",
            "  ║   :   ║   :   :   ║   \n",
            "  ║   :   :   :   :   ║   \n",
            "  ║   ║   :   ║   :   ║   \n",
            "Y ║   ║   :   ║   :   ║   \n",
            "═ ╬ ═ ═ ═ ═ ═ ═ ═ ═ ═ ╬ ═ \n",
            "  ║             B     ║   \n",
            "[(1.0, 122, -1, False)]\n",
            "[(1.0, 22, -1, False)]\n",
            "[(1.0, 22, -1, False)]\n",
            "[(1.0, 2, -1, False)]\n",
            "[(1.0, 22, -10, False)]\n",
            "[(1.0, 22, -10, False)]\n"
          ]
        }
      ]
    },
    {
      "cell_type": "code",
      "metadata": {
        "colab": {
          "base_uri": "https://localhost:8080/"
        },
        "id": "ea5eeKgj6ZOC",
        "outputId": "c3f7c8a4-91a6-4944-d175-830cf595be56"
      },
      "source": [
        "# taxi at 0,4 passenger in taxi\n",
        "# destination is 1 (current taxi location)\n",
        "#\n",
        "showStateVec(0,4,4,1)\n",
        "#trying to move North or West is impossible,\n",
        "#leaves system at same state 0"
      ],
      "execution_count": 28,
      "outputs": [
        {
          "output_type": "stream",
          "name": "stdout",
          "text": [
            "State  97 [0, 4, 4, 1]\n",
            "  ║                   ║   \n",
            "═ ╬ ═ ═ ═ ═ ═ ═ ═ ═ ═ ╬ ═ \n",
            "R ║   :   ║   :   : \u001b[1;33m█\u001b[1;30m ║ G \n",
            "  ║   :   ║   :   :   ║   \n",
            "  ║   :   :   :   :   ║   \n",
            "  ║   ║   :   ║   :   ║   \n",
            "Y ║   ║   :   ║   :   ║   \n",
            "═ ╬ ═ ═ ═ ═ ═ ═ ═ ═ ═ ╬ ═ \n",
            "  ║             B     ║   \n"
          ]
        }
      ]
    },
    {
      "cell_type": "markdown",
      "metadata": {
        "id": "mXd0v3xwZNsq"
      },
      "source": [
        "#Single Trip"
      ]
    },
    {
      "cell_type": "code",
      "source": [
        "a2T = ['goSouth','goNorth','goEast','goWest','pickUp','dropOff']\n",
        "#for i in range(5) :\n",
        "#    print(a2T[i])"
      ],
      "metadata": {
        "id": "V0cR7Bi8QUI8"
      },
      "execution_count": 7,
      "outputs": []
    },
    {
      "cell_type": "code",
      "metadata": {
        "id": "_vSp6zj5chxd"
      },
      "source": [
        "# One trip of the Taxi\n",
        "# default values are Not trained and starting from state=328\n",
        "# these can be overwritten\n",
        "# returns number of steps required to complete, penalties accrued, and a movie of the trip that can be played back\n",
        "#\n",
        "#def OneTrip(trngStatus='NotTrained',state):\n",
        "def OneTrip(trngStatus,verbose=True):\n",
        "    if verbose:\n",
        "        print('Initial state cannot be set. Random start state is used')\n",
        "    state = env.reset()\n",
        "    if verbose:\n",
        "        envRender2(state)\n",
        "    #env.s = state  # set environment to illustration's state\n",
        "    #env.reset()\n",
        "    #print(state, env.s)\n",
        "    epochs = 0\n",
        "    penalties, reward = 0, 0\n",
        "    frames = [] # for animation\n",
        "    done = False\n",
        "    while not done:\n",
        "        \n",
        "        if (trngStatus == 'Trained'):\n",
        "            if np.all(Q[state] == Q[state][0]):\n",
        "                action = env.action_space.sample()  # take random action\n",
        "            else:\n",
        "                action = np.argmax(Q[state])  # take trained action\n",
        "            #action = np.argmax(Q[state])  # take trained action\n",
        "        else:\n",
        "            action = env.action_space.sample()  # take random action\n",
        "        #print('before ', state, 'action ',action) #, a2T[action])\n",
        "        #state, reward, done, info = env.step(action)\n",
        "        state, reward, done, info, notUsed = env.step(action)  # new_step_api=True\n",
        "        #print('after ', state, reward, done, info, notUsed)\n",
        "        if reward == -10:\n",
        "            penalties += 1\n",
        "        # Put each rendered frame into dict for animation\n",
        "        frames.append({\n",
        "            #'frame': env.render(mode='ansi')[0],\n",
        "            #'frame': env.render()[0],\n",
        "            'state': state,\n",
        "            'action': action,\n",
        "            'reward': reward,\n",
        "            'state2':list(env.decode(state)),\n",
        "            'completion': done\n",
        "            }\n",
        "        )\n",
        "        #print('Epoch: ', epochs,' State ',state)\n",
        "        epochs += 1\n",
        "        if (epochs > 10000):\n",
        "            print('Non Ending Loop')\n",
        "            done = True\n",
        "    if verbose:\n",
        "        envRender2(state)\n",
        "    env.close()\n",
        "    return(epochs, penalties,frames)\n"
      ],
      "execution_count": 8,
      "outputs": []
    },
    {
      "cell_type": "code",
      "metadata": {
        "colab": {
          "base_uri": "https://localhost:8080/"
        },
        "id": "GB7xafHMdt2o",
        "outputId": "52d719e6-bf33-4682-b266-0f77b813a4ce"
      },
      "source": [
        "e,p,movieNT = OneTrip('NotTrained')\n",
        "print(e,p)"
      ],
      "execution_count": 9,
      "outputs": [
        {
          "output_type": "stream",
          "name": "stdout",
          "text": [
            "Initial state cannot be set. Random start state is used\n",
            "State  364 [3, 3, 1, 0]\n",
            "  ║                   ║ P \n",
            "═ ╬ ═ ═ ═ ═ ═ ═ ═ ═ ═ ╬ ═ \n",
            "R ║   :   ║   :   :   ║ G \n",
            "  ║   :   ║   :   :   ║   \n",
            "  ║   :   :   :   :   ║   \n",
            "  ║   ║   :   ║ \u001b[1;32m█\u001b[1;30m :   ║   \n",
            "Y ║   ║   :   ║   :   ║   \n",
            "═ ╬ ═ ═ ═ ═ ═ ═ ═ ═ ═ ╬ ═ \n",
            "  ║             B     ║   \n",
            "State  0 [0, 0, 0, 0]\n",
            "P ║                   ║   \n",
            "═ ╬ ═ ═ ═ ═ ═ ═ ═ ═ ═ ╬ ═ \n",
            "R ║ \u001b[1;32m█\u001b[1;30m :   ║   :   :   ║ G \n",
            "  ║   :   ║   :   :   ║   \n",
            "  ║   :   :   :   :   ║   \n",
            "  ║   ║   :   ║   :   ║   \n",
            "Y ║   ║   :   ║   :   ║   \n",
            "═ ╬ ═ ═ ═ ═ ═ ═ ═ ═ ═ ╬ ═ \n",
            "  ║             B     ║   \n",
            "469 166\n"
          ]
        }
      ]
    },
    {
      "cell_type": "code",
      "metadata": {
        "id": "vXF30WMQePkU"
      },
      "source": [
        "def playBack(frames,speed='Fast',cut=True):\n",
        "    for i, cframe in enumerate(frames):\n",
        "        clear_output(wait=True)\n",
        "        #print(cframe['frame'])\n",
        "        #showStateNum(cframe['state'])\n",
        "        envRender2(cframe['state'])\n",
        "        print(\"Step \",i,' Action ', cframe['action'],a2T[cframe['action']],' Reward ',cframe['reward'])\n",
        "        print(f'State: ',cframe['state'],' -> ',cframe['state2'])\n",
        "        \n",
        "        if (cframe['completion']):\n",
        "            print('Done')\n",
        "        if (speed == 'Fast'):\n",
        "            sleep(.1)\n",
        "        else:\n",
        "            sleep(1)\n",
        "        if cut and (i > 200):\n",
        "            print('Cut!')\n",
        "            return(i)\n",
        "    return(i)"
      ],
      "execution_count": 10,
      "outputs": []
    },
    {
      "cell_type": "code",
      "metadata": {
        "colab": {
          "base_uri": "https://localhost:8080/"
        },
        "id": "rIfH42eFgsS6",
        "outputId": "3444a8a6-1d9c-4f95-c1bd-97f18c20b619"
      },
      "source": [
        "#playBack(movieNT,'Slow')\n",
        "playBack(movieNT)"
      ],
      "execution_count": 30,
      "outputs": [
        {
          "output_type": "stream",
          "name": "stdout",
          "text": [
            "State  468 [4, 3, 2, 0]\n",
            "  ║                   ║   \n",
            "═ ╬ ═ ═ ═ ═ ═ ═ ═ ═ ═ ╬ ═ \n",
            "R ║   :   ║   :   :   ║ G \n",
            "  ║   :   ║   :   :   ║   \n",
            "  ║   :   :   :   :   ║   \n",
            "  ║   ║   :   ║   :   ║   \n",
            "Y ║   ║   :   ║ \u001b[1;32m█\u001b[1;30m :   ║   \n",
            "═ ╬ ═ ═ ═ ═ ═ ═ ═ ═ ═ ╬ ═ \n",
            "P ║             B     ║   \n",
            "Step  201  Action  5 dropOff  Reward  -10\n",
            "State:  468  ->  [4, 3, 2, 0]\n",
            "Cut!\n"
          ]
        },
        {
          "output_type": "execute_result",
          "data": {
            "text/plain": [
              "201"
            ]
          },
          "metadata": {},
          "execution_count": 30
        }
      ]
    },
    {
      "cell_type": "markdown",
      "metadata": {
        "id": "-hsw0oaGZR_H"
      },
      "source": [
        "#Training # 1"
      ]
    },
    {
      "cell_type": "code",
      "metadata": {
        "id": "xtNkMu_OX0zF"
      },
      "source": [
        "#Train the system\n",
        "#\n",
        "def RLTrainer(alpha, gamma, epsilon, total_episodes):\n",
        "\n",
        "    global all_epochs, all_penalties, Q\n",
        "    # For plotting metrics\n",
        "    all_epochs = []\n",
        "    all_penalties = []\n",
        "\n",
        "    Q = np.zeros([env.observation_space.n, env.action_space.n])\n",
        "\n",
        "    for i in range(1, total_episodes+1):\n",
        "        state = env.reset()\n",
        "\n",
        "        epochs, penalties, reward, = 0, 0, 0\n",
        "        done = False\n",
        "        \n",
        "        while not done:\n",
        "            \n",
        "            if random.uniform(0, 1) < epsilon:\n",
        "                action = env.action_space.sample() # Explore action space\n",
        "            else:\n",
        "                action = np.argmax(Q[state]) # Exploit learned values\n",
        "            \n",
        "            #action = np.argmax(Q[state]) # Exploit learned values\n",
        "            next_state, reward, done, notUsed, info = env.step(action)\n",
        "            #next_state, reward, done, info = env.step(action)  \n",
        "            \n",
        "            old_value = Q[state, action]\n",
        "            next_max = np.max(Q[next_state])\n",
        "            \n",
        "            new_value = (1 - alpha) * old_value + alpha * (reward + gamma * next_max)\n",
        "            Q[state, action] = new_value\n",
        "\n",
        "            if reward == -10:\n",
        "                penalties += 1\n",
        "\n",
        "            state = next_state\n",
        "            epochs += 1\n",
        "            \n",
        "        if i % 100 == 0:\n",
        "            clear_output(wait=True)\n",
        "            print('Episode ',i)\n",
        "        all_epochs.append(epochs)\n",
        "        all_penalties.append(penalties)\n",
        "    print(\"Training finished.\\n\")"
      ],
      "execution_count": 11,
      "outputs": []
    },
    {
      "cell_type": "code",
      "metadata": {
        "colab": {
          "base_uri": "https://localhost:8080/"
        },
        "id": "H0bPCXdzMLr8",
        "outputId": "8137f4fd-a428-4401-9fda-4c1a85bd757b"
      },
      "source": [
        "%%time\n",
        "\"\"\"Training the agent\"\"\"\n",
        "\n",
        "# Hyperparameters\n",
        "_alpha = 0.1\n",
        "_gamma = 0.6\n",
        "_epsilon = 0.1\n",
        "total_episodes = 100000\n",
        "#total_episodes = 10000\n",
        "\n",
        "RLTrainer(_alpha, _gamma, _epsilon, total_episodes)\n"
      ],
      "execution_count": 12,
      "outputs": [
        {
          "output_type": "stream",
          "name": "stdout",
          "text": [
            "Episode  100000\n",
            "Training finished.\n",
            "\n",
            "CPU times: user 3min 12s, sys: 18 s, total: 3min 30s\n",
            "Wall time: 3min 8s\n"
          ]
        }
      ]
    },
    {
      "cell_type": "code",
      "metadata": {
        "colab": {
          "base_uri": "https://localhost:8080/",
          "height": 621
        },
        "id": "Ig8nrwWcQdUV",
        "outputId": "3f94b1d4-98e8-49fb-da11-c2546e626895"
      },
      "source": [
        "#Visualizing results and total reward over all episodes\n",
        "x = range(total_episodes)\n",
        "plt.rcParams[\"figure.figsize\"] = (10,10)\n",
        "\n",
        "plt.subplot(2, 1, 1)\n",
        "plt.plot(x, all_epochs)\n",
        "plt.title('Reducing Epochs')\n",
        "plt.ylabel('Epochs / Trips')\n",
        "\n",
        "\n",
        "plt.subplot(2, 1, 2)\n",
        "plt.plot(x, all_penalties)\n",
        "plt.title('Reducing Penalties')\n",
        "plt.xlabel('Episodes')\n",
        "plt.ylabel('Reducing Penalties')\n",
        "\n",
        "plt.show()"
      ],
      "execution_count": 13,
      "outputs": [
        {
          "output_type": "display_data",
          "data": {
            "text/plain": [
              "<Figure size 720x720 with 2 Axes>"
            ],
            "image/png": "[encoded data removed]"
          },
          "metadata": {
            "needs_background": "light"
          }
        }
      ]
    },
    {
      "cell_type": "markdown",
      "metadata": {
        "id": "uDRcyVnGZZqK"
      },
      "source": [
        "#Review of Training #1"
      ]
    },
    {
      "cell_type": "code",
      "metadata": {
        "colab": {
          "base_uri": "https://localhost:8080/"
        },
        "id": "LaP2f8GLjcgF",
        "outputId": "5e86b875-4e79-4e42-8914-e676a9784aee"
      },
      "source": [
        "e,p,movieRT2 = OneTrip('Trained')\n",
        "print(e,p)"
      ],
      "execution_count": 14,
      "outputs": [
        {
          "output_type": "stream",
          "name": "stdout",
          "text": [
            "Initial state cannot be set. Random start state is used\n",
            "State  464 [4, 3, 1, 0]\n",
            "  ║                   ║ P \n",
            "═ ╬ ═ ═ ═ ═ ═ ═ ═ ═ ═ ╬ ═ \n",
            "R ║   :   ║   :   :   ║ G \n",
            "  ║   :   ║   :   :   ║   \n",
            "  ║   :   :   :   :   ║   \n",
            "  ║   ║   :   ║   :   ║   \n",
            "Y ║   ║   :   ║ \u001b[1;32m█\u001b[1;30m :   ║   \n",
            "═ ╬ ═ ═ ═ ═ ═ ═ ═ ═ ═ ╬ ═ \n",
            "  ║             B     ║   \n",
            "State  0 [0, 0, 0, 0]\n",
            "P ║                   ║   \n",
            "═ ╬ ═ ═ ═ ═ ═ ═ ═ ═ ═ ╬ ═ \n",
            "R ║ \u001b[1;32m█\u001b[1;30m :   ║   :   :   ║ G \n",
            "  ║   :   ║   :   :   ║   \n",
            "  ║   :   :   :   :   ║   \n",
            "  ║   ║   :   ║   :   ║   \n",
            "Y ║   ║   :   ║   :   ║   \n",
            "═ ╬ ═ ═ ═ ═ ═ ═ ═ ═ ═ ╬ ═ \n",
            "  ║             B     ║   \n",
            "15 0\n"
          ]
        }
      ]
    },
    {
      "cell_type": "code",
      "metadata": {
        "colab": {
          "base_uri": "https://localhost:8080/"
        },
        "id": "m_XkbChxkVb3",
        "outputId": "ba2ff889-d277-4b90-a7d1-938a3c69dd58"
      },
      "source": [
        "playBack(movieRT2,'Slow')"
      ],
      "execution_count": 15,
      "outputs": [
        {
          "output_type": "stream",
          "name": "stdout",
          "text": [
            "State  0 [0, 0, 0, 0]\n",
            "P ║                   ║   \n",
            "═ ╬ ═ ═ ═ ═ ═ ═ ═ ═ ═ ╬ ═ \n",
            "R ║ \u001b[1;32m█\u001b[1;30m :   ║   :   :   ║ G \n",
            "  ║   :   ║   :   :   ║   \n",
            "  ║   :   :   :   :   ║   \n",
            "  ║   ║   :   ║   :   ║   \n",
            "Y ║   ║   :   ║   :   ║   \n",
            "═ ╬ ═ ═ ═ ═ ═ ═ ═ ═ ═ ╬ ═ \n",
            "  ║             B     ║   \n",
            "Step  14  Action  5 dropOff  Reward  20\n",
            "State:  0  ->  [0, 0, 0, 0]\n",
            "Done\n"
          ]
        },
        {
          "output_type": "execute_result",
          "data": {
            "text/plain": [
              "14"
            ]
          },
          "metadata": {},
          "execution_count": 15
        }
      ]
    },
    {
      "cell_type": "code",
      "metadata": {
        "colab": {
          "base_uri": "https://localhost:8080/"
        },
        "id": "XagitcBoogB0",
        "outputId": "91aa4b0c-12ec-4a18-95d8-c43b2251e28c"
      },
      "source": [
        "E, P, samples = [],[],1000\n",
        "for _ in range(0,samples):\n",
        "    #startState=random.randint(0,499)\n",
        "    e,p,movieRT = OneTrip('Trained',False)\n",
        "    E.append(e)\n",
        "    P.append(p)\n",
        "    #print(startState,e,p)\n",
        "meanE = round(sum(E)/len(E))\n",
        "meanP = round(sum(P)/len(P))\n",
        "print('mean of ',samples,' samples >' 'epochs: ', meanE, 'penalties: ', meanP)\n"
      ],
      "execution_count": 17,
      "outputs": [
        {
          "output_type": "stream",
          "name": "stdout",
          "text": [
            "mean of  1000  samples >epochs:  13 penalties:  0\n"
          ]
        }
      ]
    },
    {
      "cell_type": "code",
      "metadata": {
        "colab": {
          "base_uri": "https://localhost:8080/",
          "height": 699
        },
        "id": "QemlGm_FE-DN",
        "outputId": "cd3915d9-6f92-4d61-cbe6-9fa22efc5a5a"
      },
      "source": [
        "Percentile,NumEpochs,NumPenalties = [],[],[]\n",
        "for z in range(0,101,5):\n",
        "    print('percentile: ',z,'epochs: ', round(np.percentile(E,z)), 'penalties: ', round(np.percentile(P,z)))\n",
        "    Percentile.append(z)\n",
        "    NumEpochs.append(np.percentile(E,z))\n",
        "    NumPenalties.append(np.percentile(P,z))\n",
        "\n",
        "plt.rcParams[\"figure.figsize\"] = (10,5)\n",
        "plt.plot(Percentile, NumEpochs, label='Epochs')\n",
        "plt.plot(Percentile, NumPenalties,label='Penalties')\n",
        "plt.xlabel('Percentile')\n",
        "plt.ylabel('Number')\n",
        "plt.legend(loc='best')\n",
        "plt.show()"
      ],
      "execution_count": 18,
      "outputs": [
        {
          "output_type": "stream",
          "name": "stdout",
          "text": [
            "percentile:  0 epochs:  6 penalties:  0\n",
            "percentile:  5 epochs:  9 penalties:  0\n",
            "percentile:  10 epochs:  10 penalties:  0\n",
            "percentile:  15 epochs:  10 penalties:  0\n",
            "percentile:  20 epochs:  11 penalties:  0\n",
            "percentile:  25 epochs:  11 penalties:  0\n",
            "percentile:  30 epochs:  12 penalties:  0\n",
            "percentile:  35 epochs:  12 penalties:  0\n",
            "percentile:  40 epochs:  13 penalties:  0\n",
            "percentile:  45 epochs:  13 penalties:  0\n",
            "percentile:  50 epochs:  13 penalties:  0\n",
            "percentile:  55 epochs:  14 penalties:  0\n",
            "percentile:  60 epochs:  14 penalties:  0\n",
            "percentile:  65 epochs:  14 penalties:  0\n",
            "percentile:  70 epochs:  15 penalties:  0\n",
            "percentile:  75 epochs:  15 penalties:  0\n",
            "percentile:  80 epochs:  15 penalties:  0\n",
            "percentile:  85 epochs:  16 penalties:  0\n",
            "percentile:  90 epochs:  16 penalties:  0\n",
            "percentile:  95 epochs:  17 penalties:  0\n",
            "percentile:  100 epochs:  18 penalties:  0\n"
          ]
        },
        {
          "output_type": "display_data",
          "data": {
            "text/plain": [
              "<Figure size 720x360 with 1 Axes>"
            ],
            "image/png": "[encoded data removed]"
          },
          "metadata": {
            "needs_background": "light"
          }
        }
      ]
    },
    {
      "cell_type": "code",
      "source": [
        "##Last Tested\n",
        "!date"
      ],
      "metadata": {
        "id": "oDhfHl86qas6",
        "outputId": "3ca27e1b-eeba-4ddf-e840-5c7bccfa6ccc",
        "colab": {
          "base_uri": "https://localhost:8080/"
        }
      },
      "execution_count": null,
      "outputs": [
        {
          "output_type": "stream",
          "name": "stdout",
          "text": [
            "Fri Nov 25 12:16:21 UTC 2022\n"
          ]
        }
      ]
    },
    {
      "cell_type": "markdown",
      "metadata": {
        "id": "DQ0u_S9MGlbY"
      },
      "source": [
        "#Chronobooks <br>\n",
        "![alt text](https://1.bp.blogspot.com/-lTiYBkU2qbU/X1er__fvnkI/AAAAAAAAjtE/GhDR3OEGJr4NG43fZPodrQD5kbxtnKebgCLcBGAsYHQ/s600/Footer2020-600x200.png)<hr>\n",
        "Chronotantra and Chronoyantra are two science fiction novels that explore the collapse of human civilisation on Earth and then its rebirth and reincarnation both on Earth as well as on the distant worlds of Mars, Titan and Enceladus. But is it the human civilisation that is being reborn? Or is it some other sentience that is revealing itself. \n",
        "If you have an interest in AI and found this material useful, you may consider buying these novels, in paperback or kindle, from [http://bit.ly/chronobooks](http://bit.ly/chronobooks)"
      ]
    },
    {
      "cell_type": "markdown",
      "metadata": {
        "id": "fPFQFicIenBB"
      },
      "source": [
        "![CC-BY-SA](https://licensebuttons.net/l/by-sa/3.0/88x31.png) The contents of this website are released under creative commons "
      ]
    }
  ]
}