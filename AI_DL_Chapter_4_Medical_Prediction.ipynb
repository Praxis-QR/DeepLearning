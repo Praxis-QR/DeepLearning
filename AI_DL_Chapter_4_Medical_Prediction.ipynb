{
  "nbformat": 4,
  "nbformat_minor": 0,
  "metadata": {
    "colab": {
      "name": "AI DL Chapter 4 Medical Prediction",
      "provenance": [],
      "collapsed_sections": [
        "H8hT4nKmhzyA"
      ],
      "include_colab_link": true
    },
    "kernelspec": {
      "name": "python3",
      "display_name": "Python 3"
    }
  },
  "cells": [
    {
      "cell_type": "markdown",
      "metadata": {
        "id": "view-in-github",
        "colab_type": "text"
      },
      "source": [
        "<a href=\"https://colab.research.google.com/github/Praxis-QR/DeepLearning/blob/main/AI_DL_Chapter_4_Medical_Prediction.ipynb\" target=\"_parent\"><img src=\"https://colab.research.google.com/assets/colab-badge.svg\" alt=\"Open In Colab\"/></a>"
      ]
    },
    {
      "cell_type": "markdown",
      "metadata": {
        "id": "Yw13t9arUA4X"
      },
      "source": [
        "![alt text](https://1.bp.blogspot.com/-WAjYIaQofo0/YEB0cQsSGSI/AAAAAAAAkoE/TpQcWBRGtu0N010lmiTS9cFHuGwXB45PQCLcBGAsYHQ/s16000/colabHeader00.png)<br>\n",
        "\n",
        "<hr>\n",
        "\n",
        "[Prithwis Mukerjee](http://www.yantrajaal.com) / [Praxis Business School](http://praxis.ac.in/) / [Book Website](http://aidl4managers.blogspot.com) "
      ]
    },
    {
      "cell_type": "code",
      "metadata": {
        "id": "4BWVpDU-ofQZ"
      },
      "source": [
        "from time import time\n",
        "import numpy as np\n",
        "import pandas as pd\n",
        "from keras.models import Sequential\n",
        "from keras.layers import Dense"
      ],
      "execution_count": 1,
      "outputs": []
    },
    {
      "cell_type": "markdown",
      "metadata": {
        "id": "GFVsxc-kavrd"
      },
      "source": [
        "#Diabetes Prediction <br>\n",
        "Data https://drive.google.com/file/d/1YegMEZNA0sIDtzVXlvd2-9zRYOGd06Fj/view?usp=sharing <br>\n",
        "Description https://drive.google.com/file/d/1EimjF6NAjtrv3LrUhcKIS0ZrX9Q93ipq/view?usp=sharing"
      ]
    },
    {
      "cell_type": "markdown",
      "metadata": {
        "id": "hWwlvtx5-kf-"
      },
      "source": [
        "Data Description <br>\n",
        "Measured Variables\n",
        "   1. Number of times pregnant\n",
        "   2. Plasma glucose concentration a 2 hours in an oral glucose tolerance test\n",
        "   3. Diastolic blood pressure (mm Hg)\n",
        "   4. Triceps skin fold thickness (mm)\n",
        "   5. 2-Hour serum insulin (mu U/ml)\n",
        "   6. Body mass index (weight in kg/(height in m)^2)\n",
        "   7. Diabetes pedigree function\n",
        "   8. Age (years)<br>\n",
        "   <hr>\n",
        "   9. Label or Class variable (0 or 1) - did the person get diabetes or not"
      ]
    },
    {
      "cell_type": "code",
      "metadata": {
        "colab": {
          "base_uri": "https://localhost:8080/"
        },
        "id": "aL9fiKkhT9Sw",
        "outputId": "fc005345-12ae-469d-d76d-4918927a9304"
      },
      "source": [
        "#download the data from Google Drive as a CSV file\n",
        "#!gdown https://drive.google.com/uc?id=1YegMEZNA0sIDtzVXlvd2-9zRYOGd06Fj\n",
        "#download the data from Github\n",
        "!wget https://raw.githubusercontent.com/Praxis-QR/DeepLearning/main/data/pima-indians-diabetes.csv"
      ],
      "execution_count": 2,
      "outputs": [
        {
          "output_type": "stream",
          "name": "stdout",
          "text": [
            "--2021-10-25 02:37:22--  https://raw.githubusercontent.com/Praxis-QR/DeepLearning/main/data/pima-indians-diabetes.csv\n",
            "Resolving raw.githubusercontent.com (raw.githubusercontent.com)... 185.199.108.133, 185.199.109.133, 185.199.110.133, ...\n",
            "Connecting to raw.githubusercontent.com (raw.githubusercontent.com)|185.199.108.133|:443... connected.\n",
            "HTTP request sent, awaiting response... 200 OK\n",
            "Length: 23278 (23K) [text/plain]\n",
            "Saving to: ‘pima-indians-diabetes.csv’\n",
            "\n",
            "\r          pima-indi   0%[                    ]       0  --.-KB/s               \rpima-indians-diabet 100%[===================>]  22.73K  --.-KB/s    in 0.003s  \n",
            "\n",
            "2021-10-25 02:37:22 (8.53 MB/s) - ‘pima-indians-diabetes.csv’ saved [23278/23278]\n",
            "\n"
          ]
        }
      ]
    },
    {
      "cell_type": "code",
      "metadata": {
        "id": "YxyaDKVSemCZ"
      },
      "source": [
        "# Read the data into a datastructure called  Numpy Array\n",
        "dataArray = np.genfromtxt(\"pima-indians-diabetes.csv\", delimiter=\",\")"
      ],
      "execution_count": 3,
      "outputs": []
    },
    {
      "cell_type": "code",
      "metadata": {
        "colab": {
          "base_uri": "https://localhost:8080/"
        },
        "id": "qG_lpO-se-bo",
        "outputId": "70fd2b2a-f7d4-4c22-cbdb-1741c5d68045"
      },
      "source": [
        " #Check number of Rows, Columns and Type of Data \n",
        " dataArray.shape, dataArray.dtype"
      ],
      "execution_count": 4,
      "outputs": [
        {
          "output_type": "execute_result",
          "data": {
            "text/plain": [
              "((768, 9), dtype('float64'))"
            ]
          },
          "metadata": {},
          "execution_count": 4
        }
      ]
    },
    {
      "cell_type": "code",
      "metadata": {
        "id": "RSE7C9eJfkZ0"
      },
      "source": [
        "Vars = dataArray[:,0:8]    # All rows and first 8 columns are pulled into a new array \n",
        "Labels = dataArray[:,8]    # The 9th column is the Class Label that needs to be predicted"
      ],
      "execution_count": 5,
      "outputs": []
    },
    {
      "cell_type": "code",
      "metadata": {
        "colab": {
          "base_uri": "https://localhost:8080/"
        },
        "id": "H3-is4bxdF1K",
        "outputId": "eca2fb50-7e02-464f-9ecd-924fd080ad79"
      },
      "source": [
        "Vars.shape,Labels.shape"
      ],
      "execution_count": 6,
      "outputs": [
        {
          "output_type": "execute_result",
          "data": {
            "text/plain": [
              "((768, 8), (768,))"
            ]
          },
          "metadata": {},
          "execution_count": 6
        }
      ]
    },
    {
      "cell_type": "code",
      "metadata": {
        "colab": {
          "base_uri": "https://localhost:8080/"
        },
        "id": "3lZTwunNjhHp",
        "outputId": "d00594d2-6881-43be-e1a3-915bca566358"
      },
      "source": [
        "# define the keras model\n",
        "diabetes = Sequential()\n",
        "diabetes.add(Dense(12, input_dim=8, activation='relu'))\n",
        "diabetes.add(Dense(8, activation='relu'))\n",
        "diabetes.add(Dense(1, activation='sigmoid'))\n",
        "diabetes.summary()"
      ],
      "execution_count": 7,
      "outputs": [
        {
          "output_type": "stream",
          "name": "stdout",
          "text": [
            "Model: \"sequential\"\n",
            "_________________________________________________________________\n",
            "Layer (type)                 Output Shape              Param #   \n",
            "=================================================================\n",
            "dense (Dense)                (None, 12)                108       \n",
            "_________________________________________________________________\n",
            "dense_1 (Dense)              (None, 8)                 104       \n",
            "_________________________________________________________________\n",
            "dense_2 (Dense)              (None, 1)                 9         \n",
            "=================================================================\n",
            "Total params: 221\n",
            "Trainable params: 221\n",
            "Non-trainable params: 0\n",
            "_________________________________________________________________\n"
          ]
        }
      ]
    },
    {
      "cell_type": "code",
      "metadata": {
        "id": "YYebo_kzj0BQ"
      },
      "source": [
        "diabetes.compile(loss='binary_crossentropy', optimizer='adam', metrics=['accuracy'])"
      ],
      "execution_count": 8,
      "outputs": []
    },
    {
      "cell_type": "code",
      "metadata": {
        "colab": {
          "base_uri": "https://localhost:8080/"
        },
        "id": "5r2Wi5W9j6qD",
        "outputId": "4bb9d5e7-8149-45a3-ef32-4a8dc41db03d"
      },
      "source": [
        "t0 = time()\n",
        "# fit the keras model on the dataset\n",
        "diabetes.fit(Vars, Labels, epochs=100, batch_size=10, verbose=0)\n",
        "print('Elapsed Time',time()-t0)"
      ],
      "execution_count": 9,
      "outputs": [
        {
          "output_type": "stream",
          "name": "stdout",
          "text": [
            "Elapsed Time 8.806687593460083\n"
          ]
        }
      ]
    },
    {
      "cell_type": "code",
      "metadata": {
        "colab": {
          "base_uri": "https://localhost:8080/"
        },
        "id": "BaZOe9GwCdgz",
        "outputId": "de80b423-7d16-4047-f848-50763e19d090"
      },
      "source": [
        "#Predicted values, rounded to the nearest integer, 0 or 1\n",
        "Preds = np.rint(diabetes.predict(Vars))\n",
        "Preds.shape"
      ],
      "execution_count": 10,
      "outputs": [
        {
          "output_type": "execute_result",
          "data": {
            "text/plain": [
              "(768, 1)"
            ]
          },
          "metadata": {},
          "execution_count": 10
        }
      ]
    },
    {
      "cell_type": "code",
      "metadata": {
        "colab": {
          "base_uri": "https://localhost:8080/"
        },
        "id": "pVyrLuWmJMId",
        "outputId": "a559f32a-febc-4ab1-b95b-42e8fe3b483e"
      },
      "source": [
        "#How many predictions were correct?\n",
        "Correct = 0\n",
        "for i in range(len(Preds)):\n",
        "    if Preds[i] == Labels[i]:\n",
        "        Correct = Correct + 1\n",
        "print(Correct, len(Labels), round(Correct/len(Labels),2))"
      ],
      "execution_count": 11,
      "outputs": [
        {
          "output_type": "stream",
          "name": "stdout",
          "text": [
            "569 768 0.74\n"
          ]
        }
      ]
    },
    {
      "cell_type": "code",
      "metadata": {
        "colab": {
          "base_uri": "https://localhost:8080/"
        },
        "id": "AU6hsMasJA7j",
        "outputId": "a79bec2a-6573-4c16-ef3f-85e7892ed137"
      },
      "source": [
        "# evaluate the keras model\n",
        "_, accuracy = diabetes.evaluate(Vars, Labels)\n",
        "print('Accuracy: %.2f' % (accuracy*100))"
      ],
      "execution_count": 12,
      "outputs": [
        {
          "output_type": "stream",
          "name": "stdout",
          "text": [
            "24/24 [==============================] - 0s 1ms/step - loss: 0.5036 - accuracy: 0.7409\n",
            "Accuracy: 74.09\n"
          ]
        }
      ]
    },
    {
      "cell_type": "markdown",
      "metadata": {
        "id": "9G6ycHd21Qji"
      },
      "source": [
        "#Breast Cancer <br>\n",
        "Data https://drive.google.com/file/d/1X2U5QjIE_opU_tF-q9O3HJT4vfoA1t5V/view?usp=sharing <br>\n",
        "Data Description https://archive.ics.uci.edu/ml/datasets/breast+cancer+wisconsin+(original)"
      ]
    },
    {
      "cell_type": "markdown",
      "metadata": {
        "id": "kKcBFVQFjHGx"
      },
      "source": [
        "Data Description <br>\n",
        "Attribute Information:\n",
        "\n",
        "1. Sample code number: id number\n",
        "2. Clump Thickness: 1 - 10\n",
        "3. Uniformity of Cell Size: 1 - 10\n",
        "4. Uniformity of Cell Shape: 1 - 10\n",
        "5. Marginal Adhesion: 1 - 10\n",
        "6. Single Epithelial Cell Size: 1 - 10\n",
        "7. Bare Nuclei: 1 - 10\n",
        "8. Bland Chromatin: 1 - 10\n",
        "9. Normal Nucleoli: 1 - 10\n",
        "10. Mitoses: 1 - 10 <br>\n",
        "<hr>\n",
        "11. Class Label: (2 for benign, 4 for malignant)"
      ]
    },
    {
      "cell_type": "code",
      "metadata": {
        "colab": {
          "base_uri": "https://localhost:8080/"
        },
        "id": "dkf5BpVaeBd0",
        "outputId": "e0021886-da1e-489b-c71c-dcd00752eeb3"
      },
      "source": [
        "#!gdown https://drive.google.com/uc?id=1X2U5QjIE_opU_tF-q9O3HJT4vfoA1t5V\n",
        "!wget https://raw.githubusercontent.com/Praxis-QR/DeepLearning/main/data/breast-cancer-wisconsin.csv"
      ],
      "execution_count": 13,
      "outputs": [
        {
          "output_type": "stream",
          "name": "stdout",
          "text": [
            "--2021-10-25 02:40:33--  https://raw.githubusercontent.com/Praxis-QR/DeepLearning/main/data/breast-cancer-wisconsin.csv\n",
            "Resolving raw.githubusercontent.com (raw.githubusercontent.com)... 185.199.108.133, 185.199.109.133, 185.199.110.133, ...\n",
            "Connecting to raw.githubusercontent.com (raw.githubusercontent.com)|185.199.108.133|:443... connected.\n",
            "HTTP request sent, awaiting response... 200 OK\n",
            "Length: 19889 (19K) [text/plain]\n",
            "Saving to: ‘breast-cancer-wisconsin.csv’\n",
            "\n",
            "\r          breast-ca   0%[                    ]       0  --.-KB/s               \rbreast-cancer-wisco 100%[===================>]  19.42K  --.-KB/s    in 0.001s  \n",
            "\n",
            "2021-10-25 02:40:33 (28.3 MB/s) - ‘breast-cancer-wisconsin.csv’ saved [19889/19889]\n",
            "\n"
          ]
        }
      ]
    },
    {
      "cell_type": "markdown",
      "metadata": {
        "id": "cYx99_-smagw"
      },
      "source": [
        "##Data Problems <br>\n",
        "1. Some data is missing, represented by ? <br>\n",
        "2.First column has sample ID, not useful data, needs to be ignored <br>\n",
        "3. Class Labels contain, 2, 4 not 0, 1 as expected in binary classification\n",
        "\n"
      ]
    },
    {
      "cell_type": "code",
      "metadata": {
        "id": "d7Ue5aJk1S6I",
        "colab": {
          "base_uri": "https://localhost:8080/",
          "height": 203
        },
        "outputId": "4fec04f4-4abc-4bc7-999e-2f4e50454aa8"
      },
      "source": [
        "#read the CSV file into a Pandas Dataframe\n",
        "dfCancer = pd.read_csv(\"breast-cancer-wisconsin.csv\", header=None)\n",
        "dfCancer.columns =['X0','X1','X2','X3','X4','X5','X6','X7','X8','X9','L'] \n",
        "dfCancer.head()\n"
      ],
      "execution_count": 14,
      "outputs": [
        {
          "output_type": "execute_result",
          "data": {
            "text/html": [
              "<div>\n",
              "<style scoped>\n",
              "    .dataframe tbody tr th:only-of-type {\n",
              "        vertical-align: middle;\n",
              "    }\n",
              "\n",
              "    .dataframe tbody tr th {\n",
              "        vertical-align: top;\n",
              "    }\n",
              "\n",
              "    .dataframe thead th {\n",
              "        text-align: right;\n",
              "    }\n",
              "</style>\n",
              "<table border=\"1\" class=\"dataframe\">\n",
              "  <thead>\n",
              "    <tr style=\"text-align: right;\">\n",
              "      <th></th>\n",
              "      <th>X0</th>\n",
              "      <th>X1</th>\n",
              "      <th>X2</th>\n",
              "      <th>X3</th>\n",
              "      <th>X4</th>\n",
              "      <th>X5</th>\n",
              "      <th>X6</th>\n",
              "      <th>X7</th>\n",
              "      <th>X8</th>\n",
              "      <th>X9</th>\n",
              "      <th>L</th>\n",
              "    </tr>\n",
              "  </thead>\n",
              "  <tbody>\n",
              "    <tr>\n",
              "      <th>0</th>\n",
              "      <td>1000025</td>\n",
              "      <td>5</td>\n",
              "      <td>1</td>\n",
              "      <td>1</td>\n",
              "      <td>1</td>\n",
              "      <td>2</td>\n",
              "      <td>1</td>\n",
              "      <td>3</td>\n",
              "      <td>1</td>\n",
              "      <td>1</td>\n",
              "      <td>2</td>\n",
              "    </tr>\n",
              "    <tr>\n",
              "      <th>1</th>\n",
              "      <td>1002945</td>\n",
              "      <td>5</td>\n",
              "      <td>4</td>\n",
              "      <td>4</td>\n",
              "      <td>5</td>\n",
              "      <td>7</td>\n",
              "      <td>10</td>\n",
              "      <td>3</td>\n",
              "      <td>2</td>\n",
              "      <td>1</td>\n",
              "      <td>2</td>\n",
              "    </tr>\n",
              "    <tr>\n",
              "      <th>2</th>\n",
              "      <td>1015425</td>\n",
              "      <td>3</td>\n",
              "      <td>1</td>\n",
              "      <td>1</td>\n",
              "      <td>1</td>\n",
              "      <td>2</td>\n",
              "      <td>2</td>\n",
              "      <td>3</td>\n",
              "      <td>1</td>\n",
              "      <td>1</td>\n",
              "      <td>2</td>\n",
              "    </tr>\n",
              "    <tr>\n",
              "      <th>3</th>\n",
              "      <td>1016277</td>\n",
              "      <td>6</td>\n",
              "      <td>8</td>\n",
              "      <td>8</td>\n",
              "      <td>1</td>\n",
              "      <td>3</td>\n",
              "      <td>4</td>\n",
              "      <td>3</td>\n",
              "      <td>7</td>\n",
              "      <td>1</td>\n",
              "      <td>2</td>\n",
              "    </tr>\n",
              "    <tr>\n",
              "      <th>4</th>\n",
              "      <td>1017023</td>\n",
              "      <td>4</td>\n",
              "      <td>1</td>\n",
              "      <td>1</td>\n",
              "      <td>3</td>\n",
              "      <td>2</td>\n",
              "      <td>1</td>\n",
              "      <td>3</td>\n",
              "      <td>1</td>\n",
              "      <td>1</td>\n",
              "      <td>2</td>\n",
              "    </tr>\n",
              "  </tbody>\n",
              "</table>\n",
              "</div>"
            ],
            "text/plain": [
              "        X0  X1  X2  X3  X4  X5  X6  X7  X8  X9  L\n",
              "0  1000025   5   1   1   1   2   1   3   1   1  2\n",
              "1  1002945   5   4   4   5   7  10   3   2   1  2\n",
              "2  1015425   3   1   1   1   2   2   3   1   1  2\n",
              "3  1016277   6   8   8   1   3   4   3   7   1  2\n",
              "4  1017023   4   1   1   3   2   1   3   1   1  2"
            ]
          },
          "metadata": {},
          "execution_count": 14
        }
      ]
    },
    {
      "cell_type": "code",
      "metadata": {
        "colab": {
          "base_uri": "https://localhost:8080/"
        },
        "id": "PGHkNfyt9eTU",
        "outputId": "4af38115-de64-42b8-a969-7e27110d74f2"
      },
      "source": [
        "#Remove all rows with '?' in col X6\n",
        "#Keep all rows which do not have '?' in col X6\n",
        "dfCancer = dfCancer[dfCancer.X6!= '?']\n",
        "dfCancer.shape"
      ],
      "execution_count": 15,
      "outputs": [
        {
          "output_type": "execute_result",
          "data": {
            "text/plain": [
              "(683, 11)"
            ]
          },
          "metadata": {},
          "execution_count": 15
        }
      ]
    },
    {
      "cell_type": "code",
      "metadata": {
        "id": "Xban7trieSUB"
      },
      "source": [
        "#In Label, replace 2 with 1 and 4 with 0\n",
        "#dfCancer.loc[dfCancer.L == 1]\n",
        "#dfCancer.loc[dfCancer.L == 4]\n",
        "dfCancer.loc[dfCancer.L == 2,'L'] = 1\n",
        "dfCancer.loc[dfCancer.L == 4,'L'] = 0"
      ],
      "execution_count": 16,
      "outputs": []
    },
    {
      "cell_type": "code",
      "metadata": {
        "id": "eDTcUa8vhfCv"
      },
      "source": [
        "#Convert the data into Numpy Array\n",
        "#Ignore the first col X0 since it is sample ID\n",
        "Vars = dfCancer[['X1','X2','X3','X4','X5','X6','X7','X8','X9']].to_numpy(dtype='float32')\n",
        "Labels = dfCancer['L'].to_numpy(dtype='float32')"
      ],
      "execution_count": 17,
      "outputs": []
    },
    {
      "cell_type": "code",
      "metadata": {
        "colab": {
          "base_uri": "https://localhost:8080/"
        },
        "id": "_GSYf-Y31vQc",
        "outputId": "cf478b72-36d3-481b-ff45-8e04e6c172bc"
      },
      "source": [
        "# define the keras model\n",
        "cancer = Sequential()\n",
        "cancer.add(Dense(12, input_dim=9, activation='relu'))\n",
        "cancer.add(Dense(8, activation='relu'))\n",
        "cancer.add(Dense(1, activation='sigmoid'))\n",
        "cancer.summary()"
      ],
      "execution_count": 18,
      "outputs": [
        {
          "output_type": "stream",
          "name": "stdout",
          "text": [
            "Model: \"sequential_1\"\n",
            "_________________________________________________________________\n",
            "Layer (type)                 Output Shape              Param #   \n",
            "=================================================================\n",
            "dense_3 (Dense)              (None, 12)                120       \n",
            "_________________________________________________________________\n",
            "dense_4 (Dense)              (None, 8)                 104       \n",
            "_________________________________________________________________\n",
            "dense_5 (Dense)              (None, 1)                 9         \n",
            "=================================================================\n",
            "Total params: 233\n",
            "Trainable params: 233\n",
            "Non-trainable params: 0\n",
            "_________________________________________________________________\n"
          ]
        }
      ]
    },
    {
      "cell_type": "code",
      "metadata": {
        "id": "9z9mewfx2tpe"
      },
      "source": [
        "cancer.compile(loss='binary_crossentropy', optimizer='adam', metrics=['accuracy'])\n",
        "#cancer.compile(optimizer='sgd', loss='mae',metrics=['accuracy'])"
      ],
      "execution_count": 19,
      "outputs": []
    },
    {
      "cell_type": "code",
      "metadata": {
        "colab": {
          "base_uri": "https://localhost:8080/"
        },
        "id": "DHGIA8xi20js",
        "outputId": "25da6713-c8b1-4b78-856a-7a60d3e12e01"
      },
      "source": [
        "from time import time\n",
        "t0 = time()\n",
        "# fit the keras model on the dataset\n",
        "cancer.fit(Vars, Labels, epochs=100, batch_size=10, verbose = 0)\n",
        "print('Elapsed Time',time()-t0)"
      ],
      "execution_count": 20,
      "outputs": [
        {
          "output_type": "stream",
          "name": "stdout",
          "text": [
            "Elapsed Time 10.69195294380188\n"
          ]
        }
      ]
    },
    {
      "cell_type": "code",
      "metadata": {
        "colab": {
          "base_uri": "https://localhost:8080/"
        },
        "id": "a-jpeTISmC4D",
        "outputId": "b4cbe181-b14b-4927-aa92-90dd481b4393"
      },
      "source": [
        "#Predicted values, rounded to the nearest integer, 0 or 1\n",
        "Preds = np.rint(cancer.predict(Vars))\n",
        "Preds.shape"
      ],
      "execution_count": 21,
      "outputs": [
        {
          "output_type": "execute_result",
          "data": {
            "text/plain": [
              "(683, 1)"
            ]
          },
          "metadata": {},
          "execution_count": 21
        }
      ]
    },
    {
      "cell_type": "code",
      "metadata": {
        "colab": {
          "base_uri": "https://localhost:8080/"
        },
        "id": "aEpK8rhCmLzb",
        "outputId": "1a41d416-a3b1-4065-8e07-3ec1aba80654"
      },
      "source": [
        "#How many predictions were correct?\n",
        "Correct = 0\n",
        "for i in range(len(Preds)):\n",
        "    if Preds[i] == Labels[i]:\n",
        "        Correct = Correct + 1\n",
        "print(Correct, len(Labels), round(Correct/len(Labels),2))"
      ],
      "execution_count": 22,
      "outputs": [
        {
          "output_type": "stream",
          "name": "stdout",
          "text": [
            "672 683 0.98\n"
          ]
        }
      ]
    },
    {
      "cell_type": "code",
      "metadata": {
        "colab": {
          "base_uri": "https://localhost:8080/"
        },
        "id": "pzsxQp_z3JEj",
        "outputId": "1efdda7b-9ae9-4a4b-c825-9ea59cfc98ae"
      },
      "source": [
        "# evaluate the keras model\n",
        "_, accuracy = cancer.evaluate(Vars, Labels)\n",
        "print('Accuracy: %.2f' % (accuracy*100))"
      ],
      "execution_count": 23,
      "outputs": [
        {
          "output_type": "stream",
          "name": "stdout",
          "text": [
            "22/22 [==============================] - 0s 1ms/step - loss: 0.0403 - accuracy: 0.9839\n",
            "Accuracy: 98.39\n"
          ]
        }
      ]
    },
    {
      "cell_type": "markdown",
      "metadata": {
        "id": "elccQut_sD9X"
      },
      "source": [
        "##Train, Test Split"
      ]
    },
    {
      "cell_type": "code",
      "metadata": {
        "id": "NfWYguBZsT5m"
      },
      "source": [
        "#read the CSV file into a Pandas Dataframe\n",
        "dfCancer = pd.read_csv(\"breast-cancer-wisconsin.csv\", header=None)\n",
        "dfCancer.columns =['X0','X1','X2','X3','X4','X5','X6','X7','X8','X9','L'] \n",
        "#dfCancer.head()"
      ],
      "execution_count": 24,
      "outputs": []
    },
    {
      "cell_type": "code",
      "metadata": {
        "id": "9UhTdMcTsuCv"
      },
      "source": [
        "#Remove all rows with '?' in col X6\n",
        "#Keep all rows which do not have '?' in col X6\n",
        "dfCancer = dfCancer[dfCancer.X6!= '?']\n",
        "dfCancer.shape\n",
        "#In Label, replace 2 with 1 and 4 with 0\n",
        "#dfCancer.loc[dfCancer.L == 1]\n",
        "#dfCancer.loc[dfCancer.L == 4]\n",
        "dfCancer.loc[dfCancer.L == 2,'L'] = 1\n",
        "dfCancer.loc[dfCancer.L == 4,'L'] = 0"
      ],
      "execution_count": 25,
      "outputs": []
    },
    {
      "cell_type": "code",
      "metadata": {
        "id": "T-VcIIGes4cS"
      },
      "source": [
        "Can_train=dfCancer.sample(frac=0.8,random_state=200) #random state is a seed value\n",
        "Can_test=dfCancer.drop(Can_train.index)"
      ],
      "execution_count": 26,
      "outputs": []
    },
    {
      "cell_type": "code",
      "metadata": {
        "colab": {
          "base_uri": "https://localhost:8080/"
        },
        "id": "RAcH81nQtz89",
        "outputId": "c2a04f9a-8aea-47ee-ccc6-5a056cc3a955"
      },
      "source": [
        "Can_train.shape, Can_test.shape"
      ],
      "execution_count": 27,
      "outputs": [
        {
          "output_type": "execute_result",
          "data": {
            "text/plain": [
              "((546, 11), (137, 11))"
            ]
          },
          "metadata": {},
          "execution_count": 27
        }
      ]
    },
    {
      "cell_type": "code",
      "metadata": {
        "id": "mndZQu7guEdL"
      },
      "source": [
        "#Convert the data into Numpy Array\n",
        "#Ignore the first col X0 since it is sample ID\n",
        "Vars = Can_train[['X1','X2','X3','X4','X5','X6','X7','X8','X9']].to_numpy(dtype='float32')\n",
        "Labels = Can_train['L'].to_numpy(dtype='float32')"
      ],
      "execution_count": 28,
      "outputs": []
    },
    {
      "cell_type": "code",
      "metadata": {
        "colab": {
          "base_uri": "https://localhost:8080/"
        },
        "id": "vv53AVHBuWac",
        "outputId": "327983d0-ffa9-45d7-a305-2fbfc166a53e"
      },
      "source": [
        "# define the keras model\n",
        "cancer = Sequential()\n",
        "cancer.add(Dense(12, input_dim=9, activation='relu'))\n",
        "cancer.add(Dense(8, activation='relu'))\n",
        "cancer.add(Dense(1, activation='sigmoid'))\n",
        "cancer.summary()"
      ],
      "execution_count": 29,
      "outputs": [
        {
          "output_type": "stream",
          "name": "stdout",
          "text": [
            "Model: \"sequential_2\"\n",
            "_________________________________________________________________\n",
            "Layer (type)                 Output Shape              Param #   \n",
            "=================================================================\n",
            "dense_6 (Dense)              (None, 12)                120       \n",
            "_________________________________________________________________\n",
            "dense_7 (Dense)              (None, 8)                 104       \n",
            "_________________________________________________________________\n",
            "dense_8 (Dense)              (None, 1)                 9         \n",
            "=================================================================\n",
            "Total params: 233\n",
            "Trainable params: 233\n",
            "Non-trainable params: 0\n",
            "_________________________________________________________________\n"
          ]
        }
      ]
    },
    {
      "cell_type": "code",
      "metadata": {
        "id": "JhcTygqCudDj"
      },
      "source": [
        "cancer.compile(loss='binary_crossentropy', optimizer='adam', metrics=['accuracy'])"
      ],
      "execution_count": 30,
      "outputs": []
    },
    {
      "cell_type": "code",
      "metadata": {
        "colab": {
          "base_uri": "https://localhost:8080/"
        },
        "id": "7FE-LeycumIg",
        "outputId": "b7c60c50-593b-4482-a524-7232802f0bef"
      },
      "source": [
        "from time import time\n",
        "t0 = time()\n",
        "# fit the keras model on the dataset\n",
        "cancer.fit(Vars, Labels, epochs=100, batch_size=10, verbose = 0)\n",
        "print('Elapsed Time',time()-t0)"
      ],
      "execution_count": 31,
      "outputs": [
        {
          "output_type": "stream",
          "name": "stdout",
          "text": [
            "Elapsed Time 6.446900844573975\n"
          ]
        }
      ]
    },
    {
      "cell_type": "code",
      "metadata": {
        "id": "iRjdcwvKux-s"
      },
      "source": [
        "#Convert the data into Numpy Array\n",
        "#Ignore the first col X0 since it is sample ID\n",
        "tVars = Can_test[['X1','X2','X3','X4','X5','X6','X7','X8','X9']].to_numpy(dtype='float32')\n",
        "tLabels = Can_test['L'].to_numpy(dtype='float32')"
      ],
      "execution_count": 32,
      "outputs": []
    },
    {
      "cell_type": "code",
      "metadata": {
        "colab": {
          "base_uri": "https://localhost:8080/"
        },
        "id": "Swm2LgwGvCM9",
        "outputId": "c723fe6b-b2e3-4ee8-bd9a-dc5ec19667fd"
      },
      "source": [
        "# evaluate the keras model\n",
        "_, accuracy = cancer.evaluate(tVars, tLabels)\n",
        "print('Accuracy: %.2f' % (accuracy*100))"
      ],
      "execution_count": 33,
      "outputs": [
        {
          "output_type": "stream",
          "name": "stdout",
          "text": [
            "5/5 [==============================] - 0s 2ms/step - loss: 0.1782 - accuracy: 0.9708\n",
            "Accuracy: 97.08\n"
          ]
        }
      ]
    },
    {
      "cell_type": "code",
      "metadata": {
        "id": "bP74R9y_00VK",
        "colab": {
          "base_uri": "https://localhost:8080/"
        },
        "outputId": "1b671c66-0a51-444a-9ec5-593d742acf55"
      },
      "source": [
        "cancer.evaluate(tVars, tLabels)"
      ],
      "execution_count": 34,
      "outputs": [
        {
          "output_type": "stream",
          "name": "stdout",
          "text": [
            "5/5 [==============================] - 0s 3ms/step - loss: 0.1782 - accuracy: 0.9708\n"
          ]
        },
        {
          "output_type": "execute_result",
          "data": {
            "text/plain": [
              "[0.17822937667369843, 0.970802903175354]"
            ]
          },
          "metadata": {},
          "execution_count": 34
        }
      ]
    },
    {
      "cell_type": "markdown",
      "metadata": {
        "id": "H8hT4nKmhzyA"
      },
      "source": [
        "#Panda Tests <br>\n",
        "kept for testing purposes, not required in this exercise"
      ]
    },
    {
      "cell_type": "code",
      "metadata": {
        "colab": {
          "base_uri": "https://localhost:8080/",
          "height": 143
        },
        "id": "GFMSs6pnh3Hp",
        "outputId": "1b8507af-4968-42fe-845b-e11d60e8d1fc"
      },
      "source": [
        "data = [['ram', 10], ['sam', 15], ['tam', 15]] \n",
        "kids = pd.DataFrame(data, columns = ['Name', 'Age']) \n",
        "kids"
      ],
      "execution_count": null,
      "outputs": [
        {
          "output_type": "execute_result",
          "data": {
            "text/html": [
              "<div>\n",
              "<style scoped>\n",
              "    .dataframe tbody tr th:only-of-type {\n",
              "        vertical-align: middle;\n",
              "    }\n",
              "\n",
              "    .dataframe tbody tr th {\n",
              "        vertical-align: top;\n",
              "    }\n",
              "\n",
              "    .dataframe thead th {\n",
              "        text-align: right;\n",
              "    }\n",
              "</style>\n",
              "<table border=\"1\" class=\"dataframe\">\n",
              "  <thead>\n",
              "    <tr style=\"text-align: right;\">\n",
              "      <th></th>\n",
              "      <th>Name</th>\n",
              "      <th>Age</th>\n",
              "    </tr>\n",
              "  </thead>\n",
              "  <tbody>\n",
              "    <tr>\n",
              "      <th>0</th>\n",
              "      <td>ram</td>\n",
              "      <td>10</td>\n",
              "    </tr>\n",
              "    <tr>\n",
              "      <th>1</th>\n",
              "      <td>sam</td>\n",
              "      <td>15</td>\n",
              "    </tr>\n",
              "    <tr>\n",
              "      <th>2</th>\n",
              "      <td>tam</td>\n",
              "      <td>15</td>\n",
              "    </tr>\n",
              "  </tbody>\n",
              "</table>\n",
              "</div>"
            ],
            "text/plain": [
              "  Name  Age\n",
              "0  ram   10\n",
              "1  sam   15\n",
              "2  tam   15"
            ]
          },
          "metadata": {
            "tags": []
          },
          "execution_count": 37
        }
      ]
    },
    {
      "cell_type": "code",
      "metadata": {
        "colab": {
          "base_uri": "https://localhost:8080/",
          "height": 112
        },
        "id": "P_3Dw-K2ilId",
        "outputId": "db898c22-9fa8-4d51-ef7c-9fbf1029e9ba"
      },
      "source": [
        "kids.loc[kids.Age == 15]"
      ],
      "execution_count": null,
      "outputs": [
        {
          "output_type": "execute_result",
          "data": {
            "text/html": [
              "<div>\n",
              "<style scoped>\n",
              "    .dataframe tbody tr th:only-of-type {\n",
              "        vertical-align: middle;\n",
              "    }\n",
              "\n",
              "    .dataframe tbody tr th {\n",
              "        vertical-align: top;\n",
              "    }\n",
              "\n",
              "    .dataframe thead th {\n",
              "        text-align: right;\n",
              "    }\n",
              "</style>\n",
              "<table border=\"1\" class=\"dataframe\">\n",
              "  <thead>\n",
              "    <tr style=\"text-align: right;\">\n",
              "      <th></th>\n",
              "      <th>Name</th>\n",
              "      <th>Age</th>\n",
              "    </tr>\n",
              "  </thead>\n",
              "  <tbody>\n",
              "    <tr>\n",
              "      <th>1</th>\n",
              "      <td>sam</td>\n",
              "      <td>15</td>\n",
              "    </tr>\n",
              "    <tr>\n",
              "      <th>2</th>\n",
              "      <td>tam</td>\n",
              "      <td>15</td>\n",
              "    </tr>\n",
              "  </tbody>\n",
              "</table>\n",
              "</div>"
            ],
            "text/plain": [
              "  Name  Age\n",
              "1  sam   15\n",
              "2  tam   15"
            ]
          },
          "metadata": {
            "tags": []
          },
          "execution_count": 38
        }
      ]
    },
    {
      "cell_type": "code",
      "metadata": {
        "colab": {
          "base_uri": "https://localhost:8080/",
          "height": 143
        },
        "id": "3sPUFR1Ci9bK",
        "outputId": "3d6d817b-6c6e-4932-bf2a-66e4e6f98900"
      },
      "source": [
        "kids.loc[kids.Age == 15,'Age'] = 17\n",
        "kids"
      ],
      "execution_count": null,
      "outputs": [
        {
          "output_type": "execute_result",
          "data": {
            "text/html": [
              "<div>\n",
              "<style scoped>\n",
              "    .dataframe tbody tr th:only-of-type {\n",
              "        vertical-align: middle;\n",
              "    }\n",
              "\n",
              "    .dataframe tbody tr th {\n",
              "        vertical-align: top;\n",
              "    }\n",
              "\n",
              "    .dataframe thead th {\n",
              "        text-align: right;\n",
              "    }\n",
              "</style>\n",
              "<table border=\"1\" class=\"dataframe\">\n",
              "  <thead>\n",
              "    <tr style=\"text-align: right;\">\n",
              "      <th></th>\n",
              "      <th>Name</th>\n",
              "      <th>Age</th>\n",
              "    </tr>\n",
              "  </thead>\n",
              "  <tbody>\n",
              "    <tr>\n",
              "      <th>0</th>\n",
              "      <td>ram</td>\n",
              "      <td>10</td>\n",
              "    </tr>\n",
              "    <tr>\n",
              "      <th>1</th>\n",
              "      <td>sam</td>\n",
              "      <td>17</td>\n",
              "    </tr>\n",
              "    <tr>\n",
              "      <th>2</th>\n",
              "      <td>tam</td>\n",
              "      <td>17</td>\n",
              "    </tr>\n",
              "  </tbody>\n",
              "</table>\n",
              "</div>"
            ],
            "text/plain": [
              "  Name  Age\n",
              "0  ram   10\n",
              "1  sam   17\n",
              "2  tam   17"
            ]
          },
          "metadata": {
            "tags": []
          },
          "execution_count": 39
        }
      ]
    },
    {
      "cell_type": "code",
      "metadata": {
        "id": "HuhgkY2Dk7c2",
        "colab": {
          "base_uri": "https://localhost:8080/",
          "height": 274
        },
        "outputId": "603cf822-acfa-4800-c683-cdb41bba069b"
      },
      "source": [
        "kids.loc[kids.Age == 17]['Age'] = 19\n",
        "kids"
      ],
      "execution_count": null,
      "outputs": [
        {
          "output_type": "stream",
          "text": [
            "/usr/local/lib/python3.6/dist-packages/ipykernel_launcher.py:1: SettingWithCopyWarning: \n",
            "A value is trying to be set on a copy of a slice from a DataFrame.\n",
            "Try using .loc[row_indexer,col_indexer] = value instead\n",
            "\n",
            "See the caveats in the documentation: https://pandas.pydata.org/pandas-docs/stable/user_guide/indexing.html#returning-a-view-versus-a-copy\n",
            "  \"\"\"Entry point for launching an IPython kernel.\n"
          ],
          "name": "stderr"
        },
        {
          "output_type": "execute_result",
          "data": {
            "text/html": [
              "<div>\n",
              "<style scoped>\n",
              "    .dataframe tbody tr th:only-of-type {\n",
              "        vertical-align: middle;\n",
              "    }\n",
              "\n",
              "    .dataframe tbody tr th {\n",
              "        vertical-align: top;\n",
              "    }\n",
              "\n",
              "    .dataframe thead th {\n",
              "        text-align: right;\n",
              "    }\n",
              "</style>\n",
              "<table border=\"1\" class=\"dataframe\">\n",
              "  <thead>\n",
              "    <tr style=\"text-align: right;\">\n",
              "      <th></th>\n",
              "      <th>Name</th>\n",
              "      <th>Age</th>\n",
              "    </tr>\n",
              "  </thead>\n",
              "  <tbody>\n",
              "    <tr>\n",
              "      <th>0</th>\n",
              "      <td>ram</td>\n",
              "      <td>10</td>\n",
              "    </tr>\n",
              "    <tr>\n",
              "      <th>1</th>\n",
              "      <td>sam</td>\n",
              "      <td>17</td>\n",
              "    </tr>\n",
              "    <tr>\n",
              "      <th>2</th>\n",
              "      <td>tam</td>\n",
              "      <td>17</td>\n",
              "    </tr>\n",
              "  </tbody>\n",
              "</table>\n",
              "</div>"
            ],
            "text/plain": [
              "  Name  Age\n",
              "0  ram   10\n",
              "1  sam   17\n",
              "2  tam   17"
            ]
          },
          "metadata": {
            "tags": []
          },
          "execution_count": 40
        }
      ]
    },
    {
      "cell_type": "markdown",
      "metadata": {
        "id": "D-PPzXjMGZcu"
      },
      "source": [
        "#Chronobooks <br>\n",
        "![alt text](https://1.bp.blogspot.com/-lTiYBkU2qbU/X1er__fvnkI/AAAAAAAAjtE/GhDR3OEGJr4NG43fZPodrQD5kbxtnKebgCLcBGAsYHQ/s600/Footer2020-600x200.png)<hr>\n",
        "Chronotantra and Chronoyantra are two science fiction novels that explore the collapse of human civilisation on Earth and then its rebirth and reincarnation both on Earth as well as on the distant worlds of Mars, Titan and Enceladus. But is it the human civilisation that is being reborn? Or is it some other sentience that is revealing itself. \n",
        "If you have an interest in AI and found this material useful, you may consider buying these novels, in paperback or kindle, from [http://bit.ly/chronobooks](http://bit.ly/chronobooks)"
      ]
    },
    {
      "cell_type": "markdown",
      "metadata": {
        "id": "d9dP43wpdqcL"
      },
      "source": [
        "![CC-BY-SA](https://licensebuttons.net/l/by-sa/3.0/88x31.png) The contents of this website are released under creative commons "
      ]
    }
  ]
}