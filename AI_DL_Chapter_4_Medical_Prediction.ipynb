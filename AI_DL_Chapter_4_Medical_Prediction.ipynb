{
  "nbformat": 4,
  "nbformat_minor": 0,
  "metadata": {
    "colab": {
      "name": "AI DL Chapter 4 Medical Prediction",
      "provenance": [],
      "collapsed_sections": [
        "H8hT4nKmhzyA"
      ],
      "include_colab_link": true
    },
    "kernelspec": {
      "name": "python3",
      "display_name": "Python 3"
    }
  },
  "cells": [
    {
      "cell_type": "markdown",
      "metadata": {
        "id": "view-in-github",
        "colab_type": "text"
      },
      "source": [
        "<a href=\"https://colab.research.google.com/github/Praxis-QR/DeepLearning/blob/main/AI_DL_Chapter_4_Medical_Prediction.ipynb\" target=\"_parent\"><img src=\"https://colab.research.google.com/assets/colab-badge.svg\" alt=\"Open In Colab\"/></a>"
      ]
    },
    {
      "cell_type": "markdown",
      "metadata": {
        "id": "Yw13t9arUA4X"
      },
      "source": [
        "![alt text](https://1.bp.blogspot.com/-WAjYIaQofo0/YEB0cQsSGSI/AAAAAAAAkoE/TpQcWBRGtu0N010lmiTS9cFHuGwXB45PQCLcBGAsYHQ/s16000/colabHeader00.png)<br>\n",
        "\n",
        "<hr>\n",
        "\n",
        "[Prithwis Mukerjee](http://www.yantrajaal.com) / [Praxis Business School](http://praxis.ac.in/) / [Book Website](http://aidl4managers.blogspot.com) "
      ]
    },
    {
      "cell_type": "code",
      "metadata": {
        "id": "4BWVpDU-ofQZ"
      },
      "source": [
        "from time import time\n",
        "import numpy as np\n",
        "import pandas as pd\n",
        "from keras.models import Sequential\n",
        "from keras.layers import Dense"
      ],
      "execution_count": 1,
      "outputs": []
    },
    {
      "cell_type": "markdown",
      "metadata": {
        "id": "GFVsxc-kavrd"
      },
      "source": [
        "#Diabetes Prediction <br>\n",
        "Data https://drive.google.com/file/d/1YegMEZNA0sIDtzVXlvd2-9zRYOGd06Fj/view?usp=sharing <br>\n",
        "Description https://drive.google.com/file/d/1EimjF6NAjtrv3LrUhcKIS0ZrX9Q93ipq/view?usp=sharing"
      ]
    },
    {
      "cell_type": "markdown",
      "metadata": {
        "id": "hWwlvtx5-kf-"
      },
      "source": [
        "Data Description <br>\n",
        "Measured Variables\n",
        "   1. Number of times pregnant\n",
        "   2. Plasma glucose concentration a 2 hours in an oral glucose tolerance test\n",
        "   3. Diastolic blood pressure (mm Hg)\n",
        "   4. Triceps skin fold thickness (mm)\n",
        "   5. 2-Hour serum insulin (mu U/ml)\n",
        "   6. Body mass index (weight in kg/(height in m)^2)\n",
        "   7. Diabetes pedigree function\n",
        "   8. Age (years)<br>\n",
        "   <hr>\n",
        "   9. Label or Class variable (0 or 1) - did the person get diabetes or not"
      ]
    },
    {
      "cell_type": "code",
      "metadata": {
        "colab": {
          "base_uri": "https://localhost:8080/"
        },
        "id": "aL9fiKkhT9Sw",
        "outputId": "50f8cdca-ad0c-4f6b-977c-a222316c929c"
      },
      "source": [
        "#download the data from Google Drive as a CSV file\n",
        "#!gdown https://drive.google.com/uc?id=1YegMEZNA0sIDtzVXlvd2-9zRYOGd06Fj\n",
        "#download the data from Github\n",
        "!wget https://raw.githubusercontent.com/Praxis-QR/DeepLearning/main/data/pima-indians-diabetes.csv"
      ],
      "execution_count": 2,
      "outputs": [
        {
          "output_type": "stream",
          "name": "stdout",
          "text": [
            "--2022-08-29 11:19:27--  https://raw.githubusercontent.com/Praxis-QR/DeepLearning/main/data/pima-indians-diabetes.csv\n",
            "Resolving raw.githubusercontent.com (raw.githubusercontent.com)... 185.199.108.133, 185.199.109.133, 185.199.110.133, ...\n",
            "Connecting to raw.githubusercontent.com (raw.githubusercontent.com)|185.199.108.133|:443... connected.\n",
            "HTTP request sent, awaiting response... 200 OK\n",
            "Length: 23278 (23K) [text/plain]\n",
            "Saving to: ‘pima-indians-diabetes.csv’\n",
            "\n",
            "\r          pima-indi   0%[                    ]       0  --.-KB/s               \rpima-indians-diabet 100%[===================>]  22.73K  --.-KB/s    in 0.002s  \n",
            "\n",
            "2022-08-29 11:19:27 (11.1 MB/s) - ‘pima-indians-diabetes.csv’ saved [23278/23278]\n",
            "\n"
          ]
        }
      ]
    },
    {
      "cell_type": "code",
      "metadata": {
        "id": "YxyaDKVSemCZ"
      },
      "source": [
        "# Read the data into a datastructure called  Numpy Array\n",
        "dataArray = np.genfromtxt(\"pima-indians-diabetes.csv\", delimiter=\",\")"
      ],
      "execution_count": 3,
      "outputs": []
    },
    {
      "cell_type": "code",
      "metadata": {
        "colab": {
          "base_uri": "https://localhost:8080/"
        },
        "id": "qG_lpO-se-bo",
        "outputId": "f31fbaf6-f5dd-40ff-c339-5bd432129abc"
      },
      "source": [
        " #Check number of Rows, Columns and Type of Data \n",
        " dataArray.shape, dataArray.dtype"
      ],
      "execution_count": 4,
      "outputs": [
        {
          "output_type": "execute_result",
          "data": {
            "text/plain": [
              "((768, 9), dtype('float64'))"
            ]
          },
          "metadata": {},
          "execution_count": 4
        }
      ]
    },
    {
      "cell_type": "code",
      "metadata": {
        "id": "RSE7C9eJfkZ0"
      },
      "source": [
        "Vars = dataArray[:,0:8]    # All rows and first 8 columns are pulled into a new array \n",
        "Labels = dataArray[:,8]    # The 9th column is the Class Label that needs to be predicted"
      ],
      "execution_count": 5,
      "outputs": []
    },
    {
      "cell_type": "code",
      "metadata": {
        "colab": {
          "base_uri": "https://localhost:8080/"
        },
        "id": "H3-is4bxdF1K",
        "outputId": "cb1f1f0f-5254-4686-a106-6a23e044255f"
      },
      "source": [
        "Vars.shape,Labels.shape"
      ],
      "execution_count": 6,
      "outputs": [
        {
          "output_type": "execute_result",
          "data": {
            "text/plain": [
              "((768, 8), (768,))"
            ]
          },
          "metadata": {},
          "execution_count": 6
        }
      ]
    },
    {
      "cell_type": "code",
      "metadata": {
        "colab": {
          "base_uri": "https://localhost:8080/"
        },
        "id": "3lZTwunNjhHp",
        "outputId": "3dcf3b2b-d3cc-4b9f-d93e-aa1c99cc4c4c"
      },
      "source": [
        "# define the keras model\n",
        "diabetes = Sequential()\n",
        "diabetes.add(Dense(12, input_dim=8, activation='relu'))\n",
        "diabetes.add(Dense(8, activation='relu'))\n",
        "diabetes.add(Dense(1, activation='sigmoid'))\n",
        "diabetes.summary()"
      ],
      "execution_count": 7,
      "outputs": [
        {
          "output_type": "stream",
          "name": "stdout",
          "text": [
            "Model: \"sequential\"\n",
            "_________________________________________________________________\n",
            " Layer (type)                Output Shape              Param #   \n",
            "=================================================================\n",
            " dense (Dense)               (None, 12)                108       \n",
            "                                                                 \n",
            " dense_1 (Dense)             (None, 8)                 104       \n",
            "                                                                 \n",
            " dense_2 (Dense)             (None, 1)                 9         \n",
            "                                                                 \n",
            "=================================================================\n",
            "Total params: 221\n",
            "Trainable params: 221\n",
            "Non-trainable params: 0\n",
            "_________________________________________________________________\n"
          ]
        }
      ]
    },
    {
      "cell_type": "code",
      "metadata": {
        "id": "YYebo_kzj0BQ"
      },
      "source": [
        "diabetes.compile(loss='binary_crossentropy', optimizer='adam', metrics=['accuracy'])"
      ],
      "execution_count": 8,
      "outputs": []
    },
    {
      "cell_type": "code",
      "metadata": {
        "colab": {
          "base_uri": "https://localhost:8080/"
        },
        "id": "5r2Wi5W9j6qD",
        "outputId": "4cb74a1e-5b66-4278-d7c1-30e8b2ef161d"
      },
      "source": [
        "t0 = time()\n",
        "# fit the keras model on the dataset\n",
        "diabetes.fit(Vars, Labels, epochs=100, batch_size=10, verbose=0)\n",
        "print('Elapsed Time',time()-t0)"
      ],
      "execution_count": 9,
      "outputs": [
        {
          "output_type": "stream",
          "name": "stdout",
          "text": [
            "Elapsed Time 11.415363073348999\n"
          ]
        }
      ]
    },
    {
      "cell_type": "code",
      "metadata": {
        "colab": {
          "base_uri": "https://localhost:8080/"
        },
        "id": "BaZOe9GwCdgz",
        "outputId": "a68d42a0-2389-4dc4-9f3c-2e124048efcc"
      },
      "source": [
        "#Predicted values, rounded to the nearest integer, 0 or 1\n",
        "Preds = np.rint(diabetes.predict(Vars))\n",
        "Preds.shape"
      ],
      "execution_count": 10,
      "outputs": [
        {
          "output_type": "execute_result",
          "data": {
            "text/plain": [
              "(768, 1)"
            ]
          },
          "metadata": {},
          "execution_count": 10
        }
      ]
    },
    {
      "cell_type": "code",
      "metadata": {
        "colab": {
          "base_uri": "https://localhost:8080/"
        },
        "id": "pVyrLuWmJMId",
        "outputId": "0ecb531e-018b-4eaf-c5b7-c13e906675a6"
      },
      "source": [
        "#How many predictions were correct?\n",
        "Correct = 0\n",
        "for i in range(len(Preds)):\n",
        "    if Preds[i] == Labels[i]:\n",
        "        Correct = Correct + 1\n",
        "print(Correct, len(Labels), round(Correct/len(Labels),2))"
      ],
      "execution_count": 11,
      "outputs": [
        {
          "output_type": "stream",
          "name": "stdout",
          "text": [
            "604 768 0.79\n"
          ]
        }
      ]
    },
    {
      "cell_type": "code",
      "metadata": {
        "colab": {
          "base_uri": "https://localhost:8080/"
        },
        "id": "AU6hsMasJA7j",
        "outputId": "7b5edddb-488c-417b-9b7d-ed69e252da3f"
      },
      "source": [
        "# evaluate the keras model\n",
        "_, accuracy = diabetes.evaluate(Vars, Labels)\n",
        "print('Accuracy: %.2f' % (accuracy*100))"
      ],
      "execution_count": 12,
      "outputs": [
        {
          "output_type": "stream",
          "name": "stdout",
          "text": [
            "24/24 [==============================] - 0s 2ms/step - loss: 0.4623 - accuracy: 0.7865\n",
            "Accuracy: 78.65\n"
          ]
        }
      ]
    },
    {
      "cell_type": "markdown",
      "metadata": {
        "id": "9G6ycHd21Qji"
      },
      "source": [
        "#Breast Cancer <br>\n",
        "Data https://drive.google.com/file/d/1X2U5QjIE_opU_tF-q9O3HJT4vfoA1t5V/view?usp=sharing <br>\n",
        "Data Description https://archive.ics.uci.edu/ml/datasets/breast+cancer+wisconsin+(original)"
      ]
    },
    {
      "cell_type": "markdown",
      "metadata": {
        "id": "kKcBFVQFjHGx"
      },
      "source": [
        "Data Description <br>\n",
        "Attribute Information:\n",
        "\n",
        "1. Sample code number: id number\n",
        "2. Clump Thickness: 1 - 10\n",
        "3. Uniformity of Cell Size: 1 - 10\n",
        "4. Uniformity of Cell Shape: 1 - 10\n",
        "5. Marginal Adhesion: 1 - 10\n",
        "6. Single Epithelial Cell Size: 1 - 10\n",
        "7. Bare Nuclei: 1 - 10\n",
        "8. Bland Chromatin: 1 - 10\n",
        "9. Normal Nucleoli: 1 - 10\n",
        "10. Mitoses: 1 - 10 <br>\n",
        "<hr>\n",
        "11. Class Label: (2 for benign, 4 for malignant)"
      ]
    },
    {
      "cell_type": "code",
      "metadata": {
        "colab": {
          "base_uri": "https://localhost:8080/"
        },
        "id": "dkf5BpVaeBd0",
        "outputId": "f4eb426d-5ef2-4df9-8a5b-4e3c8a2626c9"
      },
      "source": [
        "#!gdown https://drive.google.com/uc?id=1X2U5QjIE_opU_tF-q9O3HJT4vfoA1t5V\n",
        "!wget https://raw.githubusercontent.com/Praxis-QR/DeepLearning/main/data/breast-cancer-wisconsin.csv"
      ],
      "execution_count": 13,
      "outputs": [
        {
          "output_type": "stream",
          "name": "stdout",
          "text": [
            "--2022-08-29 11:20:28--  https://raw.githubusercontent.com/Praxis-QR/DeepLearning/main/data/breast-cancer-wisconsin.csv\n",
            "Resolving raw.githubusercontent.com (raw.githubusercontent.com)... 185.199.108.133, 185.199.109.133, 185.199.110.133, ...\n",
            "Connecting to raw.githubusercontent.com (raw.githubusercontent.com)|185.199.108.133|:443... connected.\n",
            "HTTP request sent, awaiting response... 200 OK\n",
            "Length: 19889 (19K) [text/plain]\n",
            "Saving to: ‘breast-cancer-wisconsin.csv’\n",
            "\n",
            "\r          breast-ca   0%[                    ]       0  --.-KB/s               \rbreast-cancer-wisco 100%[===================>]  19.42K  --.-KB/s    in 0.001s  \n",
            "\n",
            "2022-08-29 11:20:28 (29.9 MB/s) - ‘breast-cancer-wisconsin.csv’ saved [19889/19889]\n",
            "\n"
          ]
        }
      ]
    },
    {
      "cell_type": "markdown",
      "metadata": {
        "id": "cYx99_-smagw"
      },
      "source": [
        "##Data Problems <br>\n",
        "1. Some data is missing, represented by ? <br>\n",
        "2.First column has sample ID, not useful data, needs to be ignored <br>\n",
        "3. Class Labels contain, 2, 4 not 0, 1 as expected in binary classification\n",
        "\n"
      ]
    },
    {
      "cell_type": "code",
      "metadata": {
        "id": "d7Ue5aJk1S6I",
        "colab": {
          "base_uri": "https://localhost:8080/",
          "height": 206
        },
        "outputId": "822591a7-a4b2-488f-9b06-1b8e990864de"
      },
      "source": [
        "#read the CSV file into a Pandas Dataframe\n",
        "dfCancer = pd.read_csv(\"breast-cancer-wisconsin.csv\", header=None)\n",
        "dfCancer.columns =['X0','X1','X2','X3','X4','X5','X6','X7','X8','X9','L'] \n",
        "dfCancer.head()\n"
      ],
      "execution_count": 14,
      "outputs": [
        {
          "output_type": "execute_result",
          "data": {
            "text/plain": [
              "        X0  X1  X2  X3  X4  X5  X6  X7  X8  X9  L\n",
              "0  1000025   5   1   1   1   2   1   3   1   1  2\n",
              "1  1002945   5   4   4   5   7  10   3   2   1  2\n",
              "2  1015425   3   1   1   1   2   2   3   1   1  2\n",
              "3  1016277   6   8   8   1   3   4   3   7   1  2\n",
              "4  1017023   4   1   1   3   2   1   3   1   1  2"
            ],
            "text/html": [
              "\n",
              "  <div id=\"df-63f51751-4ff6-40df-b6a1-da4c818c56dd\">\n",
              "    <div class=\"colab-df-container\">\n",
              "      <div>\n",
              "<style scoped>\n",
              "    .dataframe tbody tr th:only-of-type {\n",
              "        vertical-align: middle;\n",
              "    }\n",
              "\n",
              "    .dataframe tbody tr th {\n",
              "        vertical-align: top;\n",
              "    }\n",
              "\n",
              "    .dataframe thead th {\n",
              "        text-align: right;\n",
              "    }\n",
              "</style>\n",
              "<table border=\"1\" class=\"dataframe\">\n",
              "  <thead>\n",
              "    <tr style=\"text-align: right;\">\n",
              "      <th></th>\n",
              "      <th>X0</th>\n",
              "      <th>X1</th>\n",
              "      <th>X2</th>\n",
              "      <th>X3</th>\n",
              "      <th>X4</th>\n",
              "      <th>X5</th>\n",
              "      <th>X6</th>\n",
              "      <th>X7</th>\n",
              "      <th>X8</th>\n",
              "      <th>X9</th>\n",
              "      <th>L</th>\n",
              "    </tr>\n",
              "  </thead>\n",
              "  <tbody>\n",
              "    <tr>\n",
              "      <th>0</th>\n",
              "      <td>1000025</td>\n",
              "      <td>5</td>\n",
              "      <td>1</td>\n",
              "      <td>1</td>\n",
              "      <td>1</td>\n",
              "      <td>2</td>\n",
              "      <td>1</td>\n",
              "      <td>3</td>\n",
              "      <td>1</td>\n",
              "      <td>1</td>\n",
              "      <td>2</td>\n",
              "    </tr>\n",
              "    <tr>\n",
              "      <th>1</th>\n",
              "      <td>1002945</td>\n",
              "      <td>5</td>\n",
              "      <td>4</td>\n",
              "      <td>4</td>\n",
              "      <td>5</td>\n",
              "      <td>7</td>\n",
              "      <td>10</td>\n",
              "      <td>3</td>\n",
              "      <td>2</td>\n",
              "      <td>1</td>\n",
              "      <td>2</td>\n",
              "    </tr>\n",
              "    <tr>\n",
              "      <th>2</th>\n",
              "      <td>1015425</td>\n",
              "      <td>3</td>\n",
              "      <td>1</td>\n",
              "      <td>1</td>\n",
              "      <td>1</td>\n",
              "      <td>2</td>\n",
              "      <td>2</td>\n",
              "      <td>3</td>\n",
              "      <td>1</td>\n",
              "      <td>1</td>\n",
              "      <td>2</td>\n",
              "    </tr>\n",
              "    <tr>\n",
              "      <th>3</th>\n",
              "      <td>1016277</td>\n",
              "      <td>6</td>\n",
              "      <td>8</td>\n",
              "      <td>8</td>\n",
              "      <td>1</td>\n",
              "      <td>3</td>\n",
              "      <td>4</td>\n",
              "      <td>3</td>\n",
              "      <td>7</td>\n",
              "      <td>1</td>\n",
              "      <td>2</td>\n",
              "    </tr>\n",
              "    <tr>\n",
              "      <th>4</th>\n",
              "      <td>1017023</td>\n",
              "      <td>4</td>\n",
              "      <td>1</td>\n",
              "      <td>1</td>\n",
              "      <td>3</td>\n",
              "      <td>2</td>\n",
              "      <td>1</td>\n",
              "      <td>3</td>\n",
              "      <td>1</td>\n",
              "      <td>1</td>\n",
              "      <td>2</td>\n",
              "    </tr>\n",
              "  </tbody>\n",
              "</table>\n",
              "</div>\n",
              "      <button class=\"colab-df-convert\" onclick=\"convertToInteractive('df-63f51751-4ff6-40df-b6a1-da4c818c56dd')\"\n",
              "              title=\"Convert this dataframe to an interactive table.\"\n",
              "              style=\"display:none;\">\n",
              "        \n",
              "  <svg xmlns=\"http://www.w3.org/2000/svg\" height=\"24px\"viewBox=\"0 0 24 24\"\n",
              "       width=\"24px\">\n",
              "    <path d=\"M0 0h24v24H0V0z\" fill=\"none\"/>\n",
              "    <path d=\"M18.56 5.44l.94 2.06.94-2.06 2.06-.94-2.06-.94-.94-2.06-.94 2.06-2.06.94zm-11 1L8.5 8.5l.94-2.06 2.06-.94-2.06-.94L8.5 2.5l-.94 2.06-2.06.94zm10 10l.94 2.06.94-2.06 2.06-.94-2.06-.94-.94-2.06-.94 2.06-2.06.94z\"/><path d=\"M17.41 7.96l-1.37-1.37c-.4-.4-.92-.59-1.43-.59-.52 0-1.04.2-1.43.59L10.3 9.45l-7.72 7.72c-.78.78-.78 2.05 0 2.83L4 21.41c.39.39.9.59 1.41.59.51 0 1.02-.2 1.41-.59l7.78-7.78 2.81-2.81c.8-.78.8-2.07 0-2.86zM5.41 20L4 18.59l7.72-7.72 1.47 1.35L5.41 20z\"/>\n",
              "  </svg>\n",
              "      </button>\n",
              "      \n",
              "  <style>\n",
              "    .colab-df-container {\n",
              "      display:flex;\n",
              "      flex-wrap:wrap;\n",
              "      gap: 12px;\n",
              "    }\n",
              "\n",
              "    .colab-df-convert {\n",
              "      background-color: #E8F0FE;\n",
              "      border: none;\n",
              "      border-radius: 50%;\n",
              "      cursor: pointer;\n",
              "      display: none;\n",
              "      fill: #1967D2;\n",
              "      height: 32px;\n",
              "      padding: 0 0 0 0;\n",
              "      width: 32px;\n",
              "    }\n",
              "\n",
              "    .colab-df-convert:hover {\n",
              "      background-color: #E2EBFA;\n",
              "      box-shadow: 0px 1px 2px rgba(60, 64, 67, 0.3), 0px 1px 3px 1px rgba(60, 64, 67, 0.15);\n",
              "      fill: #174EA6;\n",
              "    }\n",
              "\n",
              "    [theme=dark] .colab-df-convert {\n",
              "      background-color: #3B4455;\n",
              "      fill: #D2E3FC;\n",
              "    }\n",
              "\n",
              "    [theme=dark] .colab-df-convert:hover {\n",
              "      background-color: #434B5C;\n",
              "      box-shadow: 0px 1px 3px 1px rgba(0, 0, 0, 0.15);\n",
              "      filter: drop-shadow(0px 1px 2px rgba(0, 0, 0, 0.3));\n",
              "      fill: #FFFFFF;\n",
              "    }\n",
              "  </style>\n",
              "\n",
              "      <script>\n",
              "        const buttonEl =\n",
              "          document.querySelector('#df-63f51751-4ff6-40df-b6a1-da4c818c56dd button.colab-df-convert');\n",
              "        buttonEl.style.display =\n",
              "          google.colab.kernel.accessAllowed ? 'block' : 'none';\n",
              "\n",
              "        async function convertToInteractive(key) {\n",
              "          const element = document.querySelector('#df-63f51751-4ff6-40df-b6a1-da4c818c56dd');\n",
              "          const dataTable =\n",
              "            await google.colab.kernel.invokeFunction('convertToInteractive',\n",
              "                                                     [key], {});\n",
              "          if (!dataTable) return;\n",
              "\n",
              "          const docLinkHtml = 'Like what you see? Visit the ' +\n",
              "            '<a target=\"_blank\" href=https://colab.research.google.com/notebooks/data_table.ipynb>data table notebook</a>'\n",
              "            + ' to learn more about interactive tables.';\n",
              "          element.innerHTML = '';\n",
              "          dataTable['output_type'] = 'display_data';\n",
              "          await google.colab.output.renderOutput(dataTable, element);\n",
              "          const docLink = document.createElement('div');\n",
              "          docLink.innerHTML = docLinkHtml;\n",
              "          element.appendChild(docLink);\n",
              "        }\n",
              "      </script>\n",
              "    </div>\n",
              "  </div>\n",
              "  "
            ]
          },
          "metadata": {},
          "execution_count": 14
        }
      ]
    },
    {
      "cell_type": "code",
      "metadata": {
        "colab": {
          "base_uri": "https://localhost:8080/"
        },
        "id": "PGHkNfyt9eTU",
        "outputId": "217d40cf-02b1-4d18-b485-f02f5e27c0f3"
      },
      "source": [
        "#Remove all rows with '?' in col X6\n",
        "#Keep all rows which do not have '?' in col X6\n",
        "dfCancer = dfCancer[dfCancer.X6!= '?']\n",
        "dfCancer.shape"
      ],
      "execution_count": 15,
      "outputs": [
        {
          "output_type": "execute_result",
          "data": {
            "text/plain": [
              "(683, 11)"
            ]
          },
          "metadata": {},
          "execution_count": 15
        }
      ]
    },
    {
      "cell_type": "code",
      "metadata": {
        "id": "Xban7trieSUB"
      },
      "source": [
        "#In Label, replace 2 with 1 and 4 with 0\n",
        "#dfCancer.loc[dfCancer.L == 1]\n",
        "#dfCancer.loc[dfCancer.L == 4]\n",
        "dfCancer.loc[dfCancer.L == 2,'L'] = 1\n",
        "dfCancer.loc[dfCancer.L == 4,'L'] = 0"
      ],
      "execution_count": 16,
      "outputs": []
    },
    {
      "cell_type": "code",
      "metadata": {
        "id": "eDTcUa8vhfCv"
      },
      "source": [
        "#Convert the data into Numpy Array\n",
        "#Ignore the first col X0 since it is sample ID\n",
        "Vars = dfCancer[['X1','X2','X3','X4','X5','X6','X7','X8','X9']].to_numpy(dtype='float32')\n",
        "Labels = dfCancer['L'].to_numpy(dtype='float32')"
      ],
      "execution_count": 17,
      "outputs": []
    },
    {
      "cell_type": "code",
      "metadata": {
        "colab": {
          "base_uri": "https://localhost:8080/"
        },
        "id": "_GSYf-Y31vQc",
        "outputId": "4efadd4d-23c9-4948-c437-bcd122437d14"
      },
      "source": [
        "# define the keras model\n",
        "cancer = Sequential()\n",
        "cancer.add(Dense(12, input_dim=9, activation='relu'))\n",
        "cancer.add(Dense(8, activation='relu'))\n",
        "cancer.add(Dense(1, activation='sigmoid'))\n",
        "cancer.summary()"
      ],
      "execution_count": 18,
      "outputs": [
        {
          "output_type": "stream",
          "name": "stdout",
          "text": [
            "Model: \"sequential_1\"\n",
            "_________________________________________________________________\n",
            " Layer (type)                Output Shape              Param #   \n",
            "=================================================================\n",
            " dense_3 (Dense)             (None, 12)                120       \n",
            "                                                                 \n",
            " dense_4 (Dense)             (None, 8)                 104       \n",
            "                                                                 \n",
            " dense_5 (Dense)             (None, 1)                 9         \n",
            "                                                                 \n",
            "=================================================================\n",
            "Total params: 233\n",
            "Trainable params: 233\n",
            "Non-trainable params: 0\n",
            "_________________________________________________________________\n"
          ]
        }
      ]
    },
    {
      "cell_type": "code",
      "metadata": {
        "id": "9z9mewfx2tpe"
      },
      "source": [
        "cancer.compile(loss='binary_crossentropy', optimizer='adam', metrics=['accuracy'])\n",
        "#cancer.compile(optimizer='sgd', loss='mae',metrics=['accuracy'])"
      ],
      "execution_count": 19,
      "outputs": []
    },
    {
      "cell_type": "code",
      "metadata": {
        "colab": {
          "base_uri": "https://localhost:8080/"
        },
        "id": "DHGIA8xi20js",
        "outputId": "cb3ca26c-d7d7-46f9-ff2e-df96193d3fce"
      },
      "source": [
        "from time import time\n",
        "t0 = time()\n",
        "# fit the keras model on the dataset\n",
        "cancer.fit(Vars, Labels, epochs=100, batch_size=10, verbose = 0)\n",
        "print('Elapsed Time',time()-t0)"
      ],
      "execution_count": 20,
      "outputs": [
        {
          "output_type": "stream",
          "name": "stdout",
          "text": [
            "Elapsed Time 10.722815990447998\n"
          ]
        }
      ]
    },
    {
      "cell_type": "code",
      "metadata": {
        "colab": {
          "base_uri": "https://localhost:8080/"
        },
        "id": "a-jpeTISmC4D",
        "outputId": "f817d7b2-b8ff-4579-fc3e-b38419434e4f"
      },
      "source": [
        "#Predicted values, rounded to the nearest integer, 0 or 1\n",
        "Preds = np.rint(cancer.predict(Vars))\n",
        "Preds.shape"
      ],
      "execution_count": 21,
      "outputs": [
        {
          "output_type": "execute_result",
          "data": {
            "text/plain": [
              "(683, 1)"
            ]
          },
          "metadata": {},
          "execution_count": 21
        }
      ]
    },
    {
      "cell_type": "code",
      "metadata": {
        "colab": {
          "base_uri": "https://localhost:8080/"
        },
        "id": "aEpK8rhCmLzb",
        "outputId": "926e3a0b-bcda-4511-9ff5-a587366003c0"
      },
      "source": [
        "#How many predictions were correct?\n",
        "Correct = 0\n",
        "for i in range(len(Preds)):\n",
        "    if Preds[i] == Labels[i]:\n",
        "        Correct = Correct + 1\n",
        "print(Correct, len(Labels), round(Correct/len(Labels),2))"
      ],
      "execution_count": 22,
      "outputs": [
        {
          "output_type": "stream",
          "name": "stdout",
          "text": [
            "668 683 0.98\n"
          ]
        }
      ]
    },
    {
      "cell_type": "code",
      "metadata": {
        "colab": {
          "base_uri": "https://localhost:8080/"
        },
        "id": "pzsxQp_z3JEj",
        "outputId": "279ca021-169f-468b-c935-db5a1a7f8106"
      },
      "source": [
        "# evaluate the keras model\n",
        "_, accuracy = cancer.evaluate(Vars, Labels)\n",
        "print('Accuracy: %.2f' % (accuracy*100))"
      ],
      "execution_count": 23,
      "outputs": [
        {
          "output_type": "stream",
          "name": "stdout",
          "text": [
            "22/22 [==============================] - 0s 1ms/step - loss: 0.0508 - accuracy: 0.9780\n",
            "Accuracy: 97.80\n"
          ]
        }
      ]
    },
    {
      "cell_type": "markdown",
      "metadata": {
        "id": "elccQut_sD9X"
      },
      "source": [
        "##Train, Test Split"
      ]
    },
    {
      "cell_type": "code",
      "metadata": {
        "id": "NfWYguBZsT5m"
      },
      "source": [
        "#read the CSV file into a Pandas Dataframe\n",
        "dfCancer = pd.read_csv(\"breast-cancer-wisconsin.csv\", header=None)\n",
        "dfCancer.columns =['X0','X1','X2','X3','X4','X5','X6','X7','X8','X9','L'] \n",
        "#dfCancer.head()"
      ],
      "execution_count": 24,
      "outputs": []
    },
    {
      "cell_type": "code",
      "metadata": {
        "id": "9UhTdMcTsuCv",
        "outputId": "02891f56-fdc8-4c3e-8474-793389fdd748",
        "colab": {
          "base_uri": "https://localhost:8080/"
        }
      },
      "source": [
        "#Remove all rows with '?' in col X6\n",
        "#Keep all rows which do not have '?' in col X6\n",
        "dfCancer = dfCancer[dfCancer.X6!= '?']\n",
        "dfCancer.shape\n",
        "#In Label, replace 2 with 1 and 4 with 0\n",
        "#dfCancer.loc[dfCancer.L == 1]\n",
        "#dfCancer.loc[dfCancer.L == 4]\n",
        "dfCancer.loc[dfCancer.L == 2,'L'] = 1\n",
        "dfCancer.loc[dfCancer.L == 4,'L'] = 0"
      ],
      "execution_count": 25,
      "outputs": [
        {
          "output_type": "stream",
          "name": "stderr",
          "text": [
            "/usr/local/lib/python3.7/dist-packages/pandas/core/indexing.py:1817: SettingWithCopyWarning: \n",
            "A value is trying to be set on a copy of a slice from a DataFrame.\n",
            "Try using .loc[row_indexer,col_indexer] = value instead\n",
            "\n",
            "See the caveats in the documentation: https://pandas.pydata.org/pandas-docs/stable/user_guide/indexing.html#returning-a-view-versus-a-copy\n",
            "  self._setitem_single_column(loc, value, pi)\n"
          ]
        }
      ]
    },
    {
      "cell_type": "code",
      "metadata": {
        "id": "T-VcIIGes4cS"
      },
      "source": [
        "Can_train=dfCancer.sample(frac=0.8,random_state=200) #random state is a seed value\n",
        "Can_test=dfCancer.drop(Can_train.index)"
      ],
      "execution_count": 26,
      "outputs": []
    },
    {
      "cell_type": "code",
      "metadata": {
        "colab": {
          "base_uri": "https://localhost:8080/"
        },
        "id": "RAcH81nQtz89",
        "outputId": "c5d0f0f4-3f11-4783-8b79-a6195aeebafb"
      },
      "source": [
        "Can_train.shape, Can_test.shape"
      ],
      "execution_count": 27,
      "outputs": [
        {
          "output_type": "execute_result",
          "data": {
            "text/plain": [
              "((546, 11), (137, 11))"
            ]
          },
          "metadata": {},
          "execution_count": 27
        }
      ]
    },
    {
      "cell_type": "code",
      "metadata": {
        "id": "mndZQu7guEdL"
      },
      "source": [
        "#Convert the data into Numpy Array\n",
        "#Ignore the first col X0 since it is sample ID\n",
        "Vars = Can_train[['X1','X2','X3','X4','X5','X6','X7','X8','X9']].to_numpy(dtype='float32')\n",
        "Labels = Can_train['L'].to_numpy(dtype='float32')"
      ],
      "execution_count": 28,
      "outputs": []
    },
    {
      "cell_type": "code",
      "metadata": {
        "colab": {
          "base_uri": "https://localhost:8080/"
        },
        "id": "vv53AVHBuWac",
        "outputId": "11343767-f2ef-495b-c313-03b27c112015"
      },
      "source": [
        "# define the keras model\n",
        "cancer = Sequential()\n",
        "cancer.add(Dense(12, input_dim=9, activation='relu'))\n",
        "cancer.add(Dense(8, activation='relu'))\n",
        "cancer.add(Dense(1, activation='sigmoid'))\n",
        "cancer.summary()"
      ],
      "execution_count": 29,
      "outputs": [
        {
          "output_type": "stream",
          "name": "stdout",
          "text": [
            "Model: \"sequential_2\"\n",
            "_________________________________________________________________\n",
            " Layer (type)                Output Shape              Param #   \n",
            "=================================================================\n",
            " dense_6 (Dense)             (None, 12)                120       \n",
            "                                                                 \n",
            " dense_7 (Dense)             (None, 8)                 104       \n",
            "                                                                 \n",
            " dense_8 (Dense)             (None, 1)                 9         \n",
            "                                                                 \n",
            "=================================================================\n",
            "Total params: 233\n",
            "Trainable params: 233\n",
            "Non-trainable params: 0\n",
            "_________________________________________________________________\n"
          ]
        }
      ]
    },
    {
      "cell_type": "code",
      "metadata": {
        "id": "JhcTygqCudDj"
      },
      "source": [
        "cancer.compile(loss='binary_crossentropy', optimizer='adam', metrics=['accuracy'])"
      ],
      "execution_count": 30,
      "outputs": []
    },
    {
      "cell_type": "code",
      "metadata": {
        "colab": {
          "base_uri": "https://localhost:8080/"
        },
        "id": "7FE-LeycumIg",
        "outputId": "2871d711-e0d1-463d-82ac-d7541440a5fa"
      },
      "source": [
        "from time import time\n",
        "t0 = time()\n",
        "# fit the keras model on the dataset\n",
        "cancer.fit(Vars, Labels, epochs=100, batch_size=10, verbose = 0)\n",
        "print('Elapsed Time',time()-t0)"
      ],
      "execution_count": 31,
      "outputs": [
        {
          "output_type": "stream",
          "name": "stdout",
          "text": [
            "Elapsed Time 8.0003502368927\n"
          ]
        }
      ]
    },
    {
      "cell_type": "code",
      "metadata": {
        "id": "iRjdcwvKux-s"
      },
      "source": [
        "#Convert the data into Numpy Array\n",
        "#Ignore the first col X0 since it is sample ID\n",
        "tVars = Can_test[['X1','X2','X3','X4','X5','X6','X7','X8','X9']].to_numpy(dtype='float32')\n",
        "tLabels = Can_test['L'].to_numpy(dtype='float32')"
      ],
      "execution_count": 32,
      "outputs": []
    },
    {
      "cell_type": "code",
      "metadata": {
        "colab": {
          "base_uri": "https://localhost:8080/"
        },
        "id": "Swm2LgwGvCM9",
        "outputId": "a2db953d-9ce1-4eed-97a3-e853e37b2649"
      },
      "source": [
        "# evaluate the keras model\n",
        "_, accuracy = cancer.evaluate(tVars, tLabels)\n",
        "print('Accuracy: %.2f' % (accuracy*100))"
      ],
      "execution_count": 33,
      "outputs": [
        {
          "output_type": "stream",
          "name": "stdout",
          "text": [
            "5/5 [==============================] - 0s 3ms/step - loss: 0.2029 - accuracy: 0.9562\n",
            "Accuracy: 95.62\n"
          ]
        }
      ]
    },
    {
      "cell_type": "code",
      "metadata": {
        "id": "bP74R9y_00VK",
        "colab": {
          "base_uri": "https://localhost:8080/"
        },
        "outputId": "e421e712-9f96-4730-9421-8333e5ea5991"
      },
      "source": [
        "cancer.evaluate(tVars, tLabels)"
      ],
      "execution_count": 34,
      "outputs": [
        {
          "output_type": "stream",
          "name": "stdout",
          "text": [
            "5/5 [==============================] - 0s 3ms/step - loss: 0.2029 - accuracy: 0.9562\n"
          ]
        },
        {
          "output_type": "execute_result",
          "data": {
            "text/plain": [
              "[0.20287318527698517, 0.956204354763031]"
            ]
          },
          "metadata": {},
          "execution_count": 34
        }
      ]
    },
    {
      "cell_type": "markdown",
      "source": [
        "#tested on "
      ],
      "metadata": {
        "id": "RIiMeoeVVpxF"
      }
    },
    {
      "cell_type": "code",
      "source": [
        "!date"
      ],
      "metadata": {
        "id": "MtDKNtI-VsSj",
        "outputId": "9c4ad862-8ee5-44d9-99b7-7e59be203829",
        "colab": {
          "base_uri": "https://localhost:8080/"
        }
      },
      "execution_count": 35,
      "outputs": [
        {
          "output_type": "stream",
          "name": "stdout",
          "text": [
            "Mon Aug 29 11:22:41 UTC 2022\n"
          ]
        }
      ]
    },
    {
      "cell_type": "markdown",
      "metadata": {
        "id": "H8hT4nKmhzyA"
      },
      "source": [
        "#Panda Tests <br>\n",
        "kept for testing purposes, not required in this exercise"
      ]
    },
    {
      "cell_type": "code",
      "metadata": {
        "colab": {
          "base_uri": "https://localhost:8080/",
          "height": 143
        },
        "id": "GFMSs6pnh3Hp",
        "outputId": "1b8507af-4968-42fe-845b-e11d60e8d1fc"
      },
      "source": [
        "data = [['ram', 10], ['sam', 15], ['tam', 15]] \n",
        "kids = pd.DataFrame(data, columns = ['Name', 'Age']) \n",
        "kids"
      ],
      "execution_count": null,
      "outputs": [
        {
          "output_type": "execute_result",
          "data": {
            "text/html": [
              "<div>\n",
              "<style scoped>\n",
              "    .dataframe tbody tr th:only-of-type {\n",
              "        vertical-align: middle;\n",
              "    }\n",
              "\n",
              "    .dataframe tbody tr th {\n",
              "        vertical-align: top;\n",
              "    }\n",
              "\n",
              "    .dataframe thead th {\n",
              "        text-align: right;\n",
              "    }\n",
              "</style>\n",
              "<table border=\"1\" class=\"dataframe\">\n",
              "  <thead>\n",
              "    <tr style=\"text-align: right;\">\n",
              "      <th></th>\n",
              "      <th>Name</th>\n",
              "      <th>Age</th>\n",
              "    </tr>\n",
              "  </thead>\n",
              "  <tbody>\n",
              "    <tr>\n",
              "      <th>0</th>\n",
              "      <td>ram</td>\n",
              "      <td>10</td>\n",
              "    </tr>\n",
              "    <tr>\n",
              "      <th>1</th>\n",
              "      <td>sam</td>\n",
              "      <td>15</td>\n",
              "    </tr>\n",
              "    <tr>\n",
              "      <th>2</th>\n",
              "      <td>tam</td>\n",
              "      <td>15</td>\n",
              "    </tr>\n",
              "  </tbody>\n",
              "</table>\n",
              "</div>"
            ],
            "text/plain": [
              "  Name  Age\n",
              "0  ram   10\n",
              "1  sam   15\n",
              "2  tam   15"
            ]
          },
          "metadata": {
            "tags": []
          },
          "execution_count": 37
        }
      ]
    },
    {
      "cell_type": "code",
      "metadata": {
        "colab": {
          "base_uri": "https://localhost:8080/",
          "height": 112
        },
        "id": "P_3Dw-K2ilId",
        "outputId": "db898c22-9fa8-4d51-ef7c-9fbf1029e9ba"
      },
      "source": [
        "kids.loc[kids.Age == 15]"
      ],
      "execution_count": null,
      "outputs": [
        {
          "output_type": "execute_result",
          "data": {
            "text/html": [
              "<div>\n",
              "<style scoped>\n",
              "    .dataframe tbody tr th:only-of-type {\n",
              "        vertical-align: middle;\n",
              "    }\n",
              "\n",
              "    .dataframe tbody tr th {\n",
              "        vertical-align: top;\n",
              "    }\n",
              "\n",
              "    .dataframe thead th {\n",
              "        text-align: right;\n",
              "    }\n",
              "</style>\n",
              "<table border=\"1\" class=\"dataframe\">\n",
              "  <thead>\n",
              "    <tr style=\"text-align: right;\">\n",
              "      <th></th>\n",
              "      <th>Name</th>\n",
              "      <th>Age</th>\n",
              "    </tr>\n",
              "  </thead>\n",
              "  <tbody>\n",
              "    <tr>\n",
              "      <th>1</th>\n",
              "      <td>sam</td>\n",
              "      <td>15</td>\n",
              "    </tr>\n",
              "    <tr>\n",
              "      <th>2</th>\n",
              "      <td>tam</td>\n",
              "      <td>15</td>\n",
              "    </tr>\n",
              "  </tbody>\n",
              "</table>\n",
              "</div>"
            ],
            "text/plain": [
              "  Name  Age\n",
              "1  sam   15\n",
              "2  tam   15"
            ]
          },
          "metadata": {
            "tags": []
          },
          "execution_count": 38
        }
      ]
    },
    {
      "cell_type": "code",
      "metadata": {
        "colab": {
          "base_uri": "https://localhost:8080/",
          "height": 143
        },
        "id": "3sPUFR1Ci9bK",
        "outputId": "3d6d817b-6c6e-4932-bf2a-66e4e6f98900"
      },
      "source": [
        "kids.loc[kids.Age == 15,'Age'] = 17\n",
        "kids"
      ],
      "execution_count": null,
      "outputs": [
        {
          "output_type": "execute_result",
          "data": {
            "text/html": [
              "<div>\n",
              "<style scoped>\n",
              "    .dataframe tbody tr th:only-of-type {\n",
              "        vertical-align: middle;\n",
              "    }\n",
              "\n",
              "    .dataframe tbody tr th {\n",
              "        vertical-align: top;\n",
              "    }\n",
              "\n",
              "    .dataframe thead th {\n",
              "        text-align: right;\n",
              "    }\n",
              "</style>\n",
              "<table border=\"1\" class=\"dataframe\">\n",
              "  <thead>\n",
              "    <tr style=\"text-align: right;\">\n",
              "      <th></th>\n",
              "      <th>Name</th>\n",
              "      <th>Age</th>\n",
              "    </tr>\n",
              "  </thead>\n",
              "  <tbody>\n",
              "    <tr>\n",
              "      <th>0</th>\n",
              "      <td>ram</td>\n",
              "      <td>10</td>\n",
              "    </tr>\n",
              "    <tr>\n",
              "      <th>1</th>\n",
              "      <td>sam</td>\n",
              "      <td>17</td>\n",
              "    </tr>\n",
              "    <tr>\n",
              "      <th>2</th>\n",
              "      <td>tam</td>\n",
              "      <td>17</td>\n",
              "    </tr>\n",
              "  </tbody>\n",
              "</table>\n",
              "</div>"
            ],
            "text/plain": [
              "  Name  Age\n",
              "0  ram   10\n",
              "1  sam   17\n",
              "2  tam   17"
            ]
          },
          "metadata": {
            "tags": []
          },
          "execution_count": 39
        }
      ]
    },
    {
      "cell_type": "code",
      "metadata": {
        "id": "HuhgkY2Dk7c2",
        "colab": {
          "base_uri": "https://localhost:8080/",
          "height": 274
        },
        "outputId": "603cf822-acfa-4800-c683-cdb41bba069b"
      },
      "source": [
        "kids.loc[kids.Age == 17]['Age'] = 19\n",
        "kids"
      ],
      "execution_count": null,
      "outputs": [
        {
          "output_type": "stream",
          "text": [
            "/usr/local/lib/python3.6/dist-packages/ipykernel_launcher.py:1: SettingWithCopyWarning: \n",
            "A value is trying to be set on a copy of a slice from a DataFrame.\n",
            "Try using .loc[row_indexer,col_indexer] = value instead\n",
            "\n",
            "See the caveats in the documentation: https://pandas.pydata.org/pandas-docs/stable/user_guide/indexing.html#returning-a-view-versus-a-copy\n",
            "  \"\"\"Entry point for launching an IPython kernel.\n"
          ],
          "name": "stderr"
        },
        {
          "output_type": "execute_result",
          "data": {
            "text/html": [
              "<div>\n",
              "<style scoped>\n",
              "    .dataframe tbody tr th:only-of-type {\n",
              "        vertical-align: middle;\n",
              "    }\n",
              "\n",
              "    .dataframe tbody tr th {\n",
              "        vertical-align: top;\n",
              "    }\n",
              "\n",
              "    .dataframe thead th {\n",
              "        text-align: right;\n",
              "    }\n",
              "</style>\n",
              "<table border=\"1\" class=\"dataframe\">\n",
              "  <thead>\n",
              "    <tr style=\"text-align: right;\">\n",
              "      <th></th>\n",
              "      <th>Name</th>\n",
              "      <th>Age</th>\n",
              "    </tr>\n",
              "  </thead>\n",
              "  <tbody>\n",
              "    <tr>\n",
              "      <th>0</th>\n",
              "      <td>ram</td>\n",
              "      <td>10</td>\n",
              "    </tr>\n",
              "    <tr>\n",
              "      <th>1</th>\n",
              "      <td>sam</td>\n",
              "      <td>17</td>\n",
              "    </tr>\n",
              "    <tr>\n",
              "      <th>2</th>\n",
              "      <td>tam</td>\n",
              "      <td>17</td>\n",
              "    </tr>\n",
              "  </tbody>\n",
              "</table>\n",
              "</div>"
            ],
            "text/plain": [
              "  Name  Age\n",
              "0  ram   10\n",
              "1  sam   17\n",
              "2  tam   17"
            ]
          },
          "metadata": {
            "tags": []
          },
          "execution_count": 40
        }
      ]
    },
    {
      "cell_type": "markdown",
      "metadata": {
        "id": "D-PPzXjMGZcu"
      },
      "source": [
        "#Chronobooks <br>\n",
        "![alt text](https://1.bp.blogspot.com/-lTiYBkU2qbU/X1er__fvnkI/AAAAAAAAjtE/GhDR3OEGJr4NG43fZPodrQD5kbxtnKebgCLcBGAsYHQ/s600/Footer2020-600x200.png)<hr>\n",
        "Chronotantra and Chronoyantra are two science fiction novels that explore the collapse of human civilisation on Earth and then its rebirth and reincarnation both on Earth as well as on the distant worlds of Mars, Titan and Enceladus. But is it the human civilisation that is being reborn? Or is it some other sentience that is revealing itself. \n",
        "If you have an interest in AI and found this material useful, you may consider buying these novels, in paperback or kindle, from [http://bit.ly/chronobooks](http://bit.ly/chronobooks)"
      ]
    },
    {
      "cell_type": "markdown",
      "metadata": {
        "id": "d9dP43wpdqcL"
      },
      "source": [
        "![CC-BY-SA](https://licensebuttons.net/l/by-sa/3.0/88x31.png) The contents of this website are released under creative commons "
      ]
    }
  ]
}